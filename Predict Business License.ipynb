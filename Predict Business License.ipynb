{
 "cells": [
  {
   "cell_type": "markdown",
   "metadata": {
    "toc": true
   },
   "source": [
    "<h1>Table of Contents<span class=\"tocSkip\"></span></h1>\n",
    "<div class=\"toc\"><ul class=\"toc-item\"><li><span><a href=\"#Importing-Libraries\" data-toc-modified-id=\"Importing-Libraries-1\"><span class=\"toc-item-num\">1&nbsp;&nbsp;</span>Importing Libraries</a></span></li><li><span><a href=\"#Train-Data\" data-toc-modified-id=\"Train-Data-2\"><span class=\"toc-item-num\">2&nbsp;&nbsp;</span>Train Data</a></span></li><li><span><a href=\"#Test-Data\" data-toc-modified-id=\"Test-Data-3\"><span class=\"toc-item-num\">3&nbsp;&nbsp;</span>Test Data</a></span></li><li><span><a href=\"#Train-Data-Exploration\" data-toc-modified-id=\"Train-Data-Exploration-4\"><span class=\"toc-item-num\">4&nbsp;&nbsp;</span>Train Data Exploration</a></span></li><li><span><a href=\"#Missing-Values\" data-toc-modified-id=\"Missing-Values-5\"><span class=\"toc-item-num\">5&nbsp;&nbsp;</span>Missing Values</a></span></li><li><span><a href=\"#Adding-values-to-new-column---LEGAL-TYPE-according-to-LEGAL-NAME-and-DOING-BUSINESS-AS-NAME-columns\" data-toc-modified-id=\"Adding-values-to-new-column---LEGAL-TYPE-according-to-LEGAL-NAME-and-DOING-BUSINESS-AS-NAME-columns-6\"><span class=\"toc-item-num\">6&nbsp;&nbsp;</span>Adding values to new column - LEGAL TYPE according to LEGAL NAME and DOING BUSINESS AS NAME columns</a></span></li><li><span><a href=\"#Model-Preparation\" data-toc-modified-id=\"Model-Preparation-7\"><span class=\"toc-item-num\">7&nbsp;&nbsp;</span>Model Preparation</a></span></li><li><span><a href=\"#Handling-Imbalanced-Data:-Oversampling\" data-toc-modified-id=\"Handling-Imbalanced-Data:-Oversampling-8\"><span class=\"toc-item-num\">8&nbsp;&nbsp;</span>Handling Imbalanced Data: Oversampling</a></span></li><li><span><a href=\"#Logistic-Regression\" data-toc-modified-id=\"Logistic-Regression-9\"><span class=\"toc-item-num\">9&nbsp;&nbsp;</span>Logistic Regression</a></span></li><li><span><a href=\"#K-Nearest-Neighbors\" data-toc-modified-id=\"K-Nearest-Neighbors-10\"><span class=\"toc-item-num\">10&nbsp;&nbsp;</span>K Nearest Neighbors</a></span></li><li><span><a href=\"#Decision-Tree\" data-toc-modified-id=\"Decision-Tree-11\"><span class=\"toc-item-num\">11&nbsp;&nbsp;</span>Decision Tree</a></span></li><li><span><a href=\"#Random-Forst\" data-toc-modified-id=\"Random-Forst-12\"><span class=\"toc-item-num\">12&nbsp;&nbsp;</span>Random Forst</a></span></li></ul></div>"
   ]
  },
  {
   "cell_type": "markdown",
   "metadata": {},
   "source": [
    "\n"
   ]
  },
  {
   "cell_type": "code",
   "execution_count": 157,
   "metadata": {
    "ExecuteTime": {
     "end_time": "2022-05-07T09:20:33.225283Z",
     "start_time": "2022-05-07T09:20:33.209289Z"
    }
   },
   "outputs": [],
   "source": [
    "import pandas as pd\n",
    "import numpy as np\n",
    "import matplotlib.pyplot as plt\n",
    "import seaborn as sns\n",
    "from sklearn.preprocessing import LabelEncoder\n",
    "from sklearn import metrics\n",
    "from sklearn.model_selection import GridSearchCV, RandomizedSearchCV\n",
    "from sklearn.model_selection import StratifiedKFold\n",
    "from sklearn.model_selection import train_test_split\n",
    "from sklearn.metrics import precision_score, recall_score, f1_score, roc_auc_score, accuracy_score, classification_report\n",
    "from sklearn.metrics import confusion_matrix\n",
    "\n",
    "sns.set_style('darkgrid')\n",
    "sns.set_palette(\"Set3\", 9)\n",
    "import warnings\n",
    "warnings.filterwarnings(\"ignore\", category=FutureWarning)"
   ]
  },
  {
   "cell_type": "code",
   "execution_count": null,
   "metadata": {},
   "outputs": [],
   "source": []
  },
  {
   "cell_type": "markdown",
   "metadata": {},
   "source": [
    "## Train Data"
   ]
  },
  {
   "cell_type": "code",
   "execution_count": 2,
   "metadata": {
    "ExecuteTime": {
     "end_time": "2022-05-07T05:45:43.045102Z",
     "start_time": "2022-05-07T05:45:41.413169Z"
    }
   },
   "outputs": [
    {
     "name": "stderr",
     "output_type": "stream",
     "text": [
      "C:\\Users\\shrey\\anaconda3\\lib\\site-packages\\IPython\\core\\interactiveshell.py:3146: DtypeWarning: Columns (9) have mixed types.Specify dtype option on import or set low_memory=False.\n",
      "  has_raised = await self.run_ast_nodes(code_ast.body, cell_name,\n"
     ]
    },
    {
     "data": {
      "text/html": [
       "<div>\n",
       "<style scoped>\n",
       "    .dataframe tbody tr th:only-of-type {\n",
       "        vertical-align: middle;\n",
       "    }\n",
       "\n",
       "    .dataframe tbody tr th {\n",
       "        vertical-align: top;\n",
       "    }\n",
       "\n",
       "    .dataframe thead th {\n",
       "        text-align: right;\n",
       "    }\n",
       "</style>\n",
       "<table border=\"1\" class=\"dataframe\">\n",
       "  <thead>\n",
       "    <tr style=\"text-align: right;\">\n",
       "      <th></th>\n",
       "      <th>ID</th>\n",
       "      <th>LICENSE ID</th>\n",
       "      <th>ACCOUNT NUMBER</th>\n",
       "      <th>SITE NUMBER</th>\n",
       "      <th>LEGAL NAME</th>\n",
       "      <th>DOING BUSINESS AS NAME</th>\n",
       "      <th>ADDRESS</th>\n",
       "      <th>CITY</th>\n",
       "      <th>STATE</th>\n",
       "      <th>ZIP CODE</th>\n",
       "      <th>...</th>\n",
       "      <th>LICENSE TERM START DATE</th>\n",
       "      <th>LICENSE TERM EXPIRATION DATE</th>\n",
       "      <th>LICENSE APPROVED FOR ISSUANCE</th>\n",
       "      <th>DATE ISSUED</th>\n",
       "      <th>LICENSE STATUS CHANGE DATE</th>\n",
       "      <th>SSA</th>\n",
       "      <th>LATITUDE</th>\n",
       "      <th>LONGITUDE</th>\n",
       "      <th>LOCATION</th>\n",
       "      <th>LICENSE STATUS</th>\n",
       "    </tr>\n",
       "  </thead>\n",
       "  <tbody>\n",
       "    <tr>\n",
       "      <th>0</th>\n",
       "      <td>35342-20020816</td>\n",
       "      <td>1256593</td>\n",
       "      <td>32811</td>\n",
       "      <td>1</td>\n",
       "      <td>CARMEN CAHUE</td>\n",
       "      <td>CLAUDIA'S BRIDAL SHOP</td>\n",
       "      <td>2625 S CENTRAL PARK AVE  1</td>\n",
       "      <td>CHICAGO</td>\n",
       "      <td>IL</td>\n",
       "      <td>60623.0</td>\n",
       "      <td>...</td>\n",
       "      <td>2002-08-16T00:00:00</td>\n",
       "      <td>2003-08-15T00:00:00</td>\n",
       "      <td>2002-08-21T00:00:00</td>\n",
       "      <td>2006-04-11T00:00:00</td>\n",
       "      <td>NaN</td>\n",
       "      <td>25.0</td>\n",
       "      <td>41.843613</td>\n",
       "      <td>-87.714618</td>\n",
       "      <td>{'latitude': '41.843612879431845', 'longitude'...</td>\n",
       "      <td>AAI</td>\n",
       "    </tr>\n",
       "    <tr>\n",
       "      <th>1</th>\n",
       "      <td>1358463-20051116</td>\n",
       "      <td>1639294</td>\n",
       "      <td>262311</td>\n",
       "      <td>29</td>\n",
       "      <td>ISLA TROPICAL, INC.</td>\n",
       "      <td>ISLA TROPICAL</td>\n",
       "      <td>2825 W MONTROSE AVE</td>\n",
       "      <td>CHICAGO</td>\n",
       "      <td>IL</td>\n",
       "      <td>60618</td>\n",
       "      <td>...</td>\n",
       "      <td>2005-11-16T00:00:00</td>\n",
       "      <td>2006-11-15T00:00:00</td>\n",
       "      <td>2006-04-05T00:00:00</td>\n",
       "      <td>2006-06-12T00:00:00</td>\n",
       "      <td>2006-06-15T00:00:00</td>\n",
       "      <td>60.0</td>\n",
       "      <td>41.961132</td>\n",
       "      <td>-87.699626</td>\n",
       "      <td>{'latitude': '41.96113244107215', 'longitude':...</td>\n",
       "      <td>AAC</td>\n",
       "    </tr>\n",
       "    <tr>\n",
       "      <th>2</th>\n",
       "      <td>1980233-20090722</td>\n",
       "      <td>1980233</td>\n",
       "      <td>345008</td>\n",
       "      <td>1</td>\n",
       "      <td>DJS REMODELING</td>\n",
       "      <td>DJS REMODELING, INC.</td>\n",
       "      <td>1605  CLAVEY RD 1</td>\n",
       "      <td>HIGHLAND</td>\n",
       "      <td>IL</td>\n",
       "      <td>60035</td>\n",
       "      <td>...</td>\n",
       "      <td>2009-07-22T00:00:00</td>\n",
       "      <td>2011-07-15T00:00:00</td>\n",
       "      <td>2009-07-22T00:00:00</td>\n",
       "      <td>2009-07-22T00:00:00</td>\n",
       "      <td>NaN</td>\n",
       "      <td>NaN</td>\n",
       "      <td>NaN</td>\n",
       "      <td>NaN</td>\n",
       "      <td>NaN</td>\n",
       "      <td>AAI</td>\n",
       "    </tr>\n",
       "    <tr>\n",
       "      <th>3</th>\n",
       "      <td>1476582-20040211</td>\n",
       "      <td>1476582</td>\n",
       "      <td>273121</td>\n",
       "      <td>1</td>\n",
       "      <td>ALL-BRY CONSTRUCTION CO.</td>\n",
       "      <td>ALL-BRY CONSTRUCTION CO.</td>\n",
       "      <td>8  NORTH TRAIL</td>\n",
       "      <td>LEMONT</td>\n",
       "      <td>IL</td>\n",
       "      <td>60439</td>\n",
       "      <td>...</td>\n",
       "      <td>2004-02-11T00:00:00</td>\n",
       "      <td>2005-02-15T00:00:00</td>\n",
       "      <td>2004-02-10T00:00:00</td>\n",
       "      <td>2004-02-11T00:00:00</td>\n",
       "      <td>NaN</td>\n",
       "      <td>NaN</td>\n",
       "      <td>NaN</td>\n",
       "      <td>NaN</td>\n",
       "      <td>NaN</td>\n",
       "      <td>AAI</td>\n",
       "    </tr>\n",
       "    <tr>\n",
       "      <th>4</th>\n",
       "      <td>1141408-20080516</td>\n",
       "      <td>1896750</td>\n",
       "      <td>213785</td>\n",
       "      <td>1</td>\n",
       "      <td>MCDONOUGH MECHANICAL SERVICE</td>\n",
       "      <td>MCDONOUGH MECHANICAL SERVICE</td>\n",
       "      <td>4081  JOSEPH DR</td>\n",
       "      <td>WAUKEGAN</td>\n",
       "      <td>IL</td>\n",
       "      <td>60087</td>\n",
       "      <td>...</td>\n",
       "      <td>2008-05-16T00:00:00</td>\n",
       "      <td>2010-05-15T00:00:00</td>\n",
       "      <td>2008-06-04T00:00:00</td>\n",
       "      <td>2008-06-05T00:00:00</td>\n",
       "      <td>NaN</td>\n",
       "      <td>NaN</td>\n",
       "      <td>NaN</td>\n",
       "      <td>NaN</td>\n",
       "      <td>NaN</td>\n",
       "      <td>AAI</td>\n",
       "    </tr>\n",
       "  </tbody>\n",
       "</table>\n",
       "<p>5 rows × 32 columns</p>\n",
       "</div>"
      ],
      "text/plain": [
       "                 ID  LICENSE ID  ACCOUNT NUMBER  SITE NUMBER  \\\n",
       "0    35342-20020816     1256593           32811            1   \n",
       "1  1358463-20051116     1639294          262311           29   \n",
       "2  1980233-20090722     1980233          345008            1   \n",
       "3  1476582-20040211     1476582          273121            1   \n",
       "4  1141408-20080516     1896750          213785            1   \n",
       "\n",
       "                     LEGAL NAME        DOING BUSINESS AS NAME  \\\n",
       "0                  CARMEN CAHUE         CLAUDIA'S BRIDAL SHOP   \n",
       "1           ISLA TROPICAL, INC.                 ISLA TROPICAL   \n",
       "2                DJS REMODELING          DJS REMODELING, INC.   \n",
       "3      ALL-BRY CONSTRUCTION CO.      ALL-BRY CONSTRUCTION CO.   \n",
       "4  MCDONOUGH MECHANICAL SERVICE  MCDONOUGH MECHANICAL SERVICE   \n",
       "\n",
       "                      ADDRESS      CITY STATE ZIP CODE  ...  \\\n",
       "0  2625 S CENTRAL PARK AVE  1   CHICAGO    IL  60623.0  ...   \n",
       "1         2825 W MONTROSE AVE   CHICAGO    IL    60618  ...   \n",
       "2           1605  CLAVEY RD 1  HIGHLAND    IL    60035  ...   \n",
       "3              8  NORTH TRAIL    LEMONT    IL    60439  ...   \n",
       "4             4081  JOSEPH DR  WAUKEGAN    IL    60087  ...   \n",
       "\n",
       "   LICENSE TERM START DATE  LICENSE TERM EXPIRATION DATE  \\\n",
       "0      2002-08-16T00:00:00           2003-08-15T00:00:00   \n",
       "1      2005-11-16T00:00:00           2006-11-15T00:00:00   \n",
       "2      2009-07-22T00:00:00           2011-07-15T00:00:00   \n",
       "3      2004-02-11T00:00:00           2005-02-15T00:00:00   \n",
       "4      2008-05-16T00:00:00           2010-05-15T00:00:00   \n",
       "\n",
       "  LICENSE APPROVED FOR ISSUANCE          DATE ISSUED  \\\n",
       "0           2002-08-21T00:00:00  2006-04-11T00:00:00   \n",
       "1           2006-04-05T00:00:00  2006-06-12T00:00:00   \n",
       "2           2009-07-22T00:00:00  2009-07-22T00:00:00   \n",
       "3           2004-02-10T00:00:00  2004-02-11T00:00:00   \n",
       "4           2008-06-04T00:00:00  2008-06-05T00:00:00   \n",
       "\n",
       "   LICENSE STATUS CHANGE DATE   SSA   LATITUDE  LONGITUDE  \\\n",
       "0                         NaN  25.0  41.843613 -87.714618   \n",
       "1         2006-06-15T00:00:00  60.0  41.961132 -87.699626   \n",
       "2                         NaN   NaN        NaN        NaN   \n",
       "3                         NaN   NaN        NaN        NaN   \n",
       "4                         NaN   NaN        NaN        NaN   \n",
       "\n",
       "                                            LOCATION LICENSE STATUS  \n",
       "0  {'latitude': '41.843612879431845', 'longitude'...            AAI  \n",
       "1  {'latitude': '41.96113244107215', 'longitude':...            AAC  \n",
       "2                                                NaN            AAI  \n",
       "3                                                NaN            AAI  \n",
       "4                                                NaN            AAI  \n",
       "\n",
       "[5 rows x 32 columns]"
      ]
     },
     "execution_count": 2,
     "metadata": {},
     "output_type": "execute_result"
    }
   ],
   "source": [
    "train = pd.read_csv('train_file.csv')\n",
    "train.head()"
   ]
  },
  {
   "cell_type": "code",
   "execution_count": 3,
   "metadata": {
    "ExecuteTime": {
     "end_time": "2022-05-07T05:46:03.518269Z",
     "start_time": "2022-05-07T05:46:03.503514Z"
    }
   },
   "outputs": [
    {
     "data": {
      "text/plain": [
       "(85895, 32)"
      ]
     },
     "execution_count": 3,
     "metadata": {},
     "output_type": "execute_result"
    }
   ],
   "source": [
    "train.shape"
   ]
  },
  {
   "cell_type": "code",
   "execution_count": 4,
   "metadata": {
    "ExecuteTime": {
     "end_time": "2022-05-07T05:46:23.254592Z",
     "start_time": "2022-05-07T05:46:23.232026Z"
    }
   },
   "outputs": [
    {
     "data": {
      "text/plain": [
       "Index(['ID', 'LICENSE ID', 'ACCOUNT NUMBER', 'SITE NUMBER', 'LEGAL NAME',\n",
       "       'DOING BUSINESS AS NAME', 'ADDRESS', 'CITY', 'STATE', 'ZIP CODE',\n",
       "       'WARD', 'PRECINCT', 'WARD PRECINCT', 'POLICE DISTRICT', 'LICENSE CODE',\n",
       "       'LICENSE DESCRIPTION', 'LICENSE NUMBER', 'APPLICATION TYPE',\n",
       "       'APPLICATION CREATED DATE', 'APPLICATION REQUIREMENTS COMPLETE',\n",
       "       'PAYMENT DATE', 'CONDITIONAL APPROVAL', 'LICENSE TERM START DATE',\n",
       "       'LICENSE TERM EXPIRATION DATE', 'LICENSE APPROVED FOR ISSUANCE',\n",
       "       'DATE ISSUED', 'LICENSE STATUS CHANGE DATE', 'SSA', 'LATITUDE',\n",
       "       'LONGITUDE', 'LOCATION', 'LICENSE STATUS'],\n",
       "      dtype='object')"
      ]
     },
     "execution_count": 4,
     "metadata": {},
     "output_type": "execute_result"
    }
   ],
   "source": [
    "train.columns"
   ]
  },
  {
   "cell_type": "markdown",
   "metadata": {},
   "source": [
    "## Test Data"
   ]
  },
  {
   "cell_type": "code",
   "execution_count": 5,
   "metadata": {
    "ExecuteTime": {
     "end_time": "2022-05-07T05:49:13.793762Z",
     "start_time": "2022-05-07T05:49:12.508136Z"
    }
   },
   "outputs": [
    {
     "data": {
      "text/html": [
       "<div>\n",
       "<style scoped>\n",
       "    .dataframe tbody tr th:only-of-type {\n",
       "        vertical-align: middle;\n",
       "    }\n",
       "\n",
       "    .dataframe tbody tr th {\n",
       "        vertical-align: top;\n",
       "    }\n",
       "\n",
       "    .dataframe thead th {\n",
       "        text-align: right;\n",
       "    }\n",
       "</style>\n",
       "<table border=\"1\" class=\"dataframe\">\n",
       "  <thead>\n",
       "    <tr style=\"text-align: right;\">\n",
       "      <th></th>\n",
       "      <th>ID</th>\n",
       "      <th>LICENSE ID</th>\n",
       "      <th>ACCOUNT NUMBER</th>\n",
       "      <th>SITE NUMBER</th>\n",
       "      <th>LEGAL NAME</th>\n",
       "      <th>DOING BUSINESS AS NAME</th>\n",
       "      <th>ADDRESS</th>\n",
       "      <th>CITY</th>\n",
       "      <th>STATE</th>\n",
       "      <th>ZIP CODE</th>\n",
       "      <th>...</th>\n",
       "      <th>CONDITIONAL APPROVAL</th>\n",
       "      <th>LICENSE TERM START DATE</th>\n",
       "      <th>LICENSE TERM EXPIRATION DATE</th>\n",
       "      <th>LICENSE APPROVED FOR ISSUANCE</th>\n",
       "      <th>DATE ISSUED</th>\n",
       "      <th>LICENSE STATUS CHANGE DATE</th>\n",
       "      <th>SSA</th>\n",
       "      <th>LATITUDE</th>\n",
       "      <th>LONGITUDE</th>\n",
       "      <th>LOCATION</th>\n",
       "    </tr>\n",
       "  </thead>\n",
       "  <tbody>\n",
       "    <tr>\n",
       "      <th>0</th>\n",
       "      <td>1516615-20120216</td>\n",
       "      <td>2132209</td>\n",
       "      <td>280120</td>\n",
       "      <td>1</td>\n",
       "      <td>RS HOMES I LLC</td>\n",
       "      <td>RS HOMES I LLC</td>\n",
       "      <td>350 W HUBBARD ST 3 300</td>\n",
       "      <td>CHICAGO</td>\n",
       "      <td>IL</td>\n",
       "      <td>60610.0</td>\n",
       "      <td>...</td>\n",
       "      <td>N</td>\n",
       "      <td>2012-02-16T00:00:00</td>\n",
       "      <td>2014-02-15T00:00:00</td>\n",
       "      <td>2012-01-19T00:00:00</td>\n",
       "      <td>2012-01-20T00:00:00</td>\n",
       "      <td>2012-12-29T00:00:00</td>\n",
       "      <td>NaN</td>\n",
       "      <td>41.890047</td>\n",
       "      <td>-87.637467</td>\n",
       "      <td>{'latitude': '41.89004724888915', 'longitude':...</td>\n",
       "    </tr>\n",
       "    <tr>\n",
       "      <th>1</th>\n",
       "      <td>69813-20110616</td>\n",
       "      <td>2090759</td>\n",
       "      <td>65043</td>\n",
       "      <td>1</td>\n",
       "      <td>CSX INTERMODAL INC</td>\n",
       "      <td>CSX INTERMODAL</td>\n",
       "      <td>2101 W 59TH ST 1ST</td>\n",
       "      <td>CHICAGO</td>\n",
       "      <td>IL</td>\n",
       "      <td>60636.0</td>\n",
       "      <td>...</td>\n",
       "      <td>N</td>\n",
       "      <td>2011-06-16T00:00:00</td>\n",
       "      <td>2013-06-15T00:00:00</td>\n",
       "      <td>2012-11-02T00:00:00</td>\n",
       "      <td>2012-11-05T00:00:00</td>\n",
       "      <td>2012-12-29T00:00:00</td>\n",
       "      <td>NaN</td>\n",
       "      <td>41.786485</td>\n",
       "      <td>-87.676665</td>\n",
       "      <td>{'latitude': '41.786485235679486', 'longitude'...</td>\n",
       "    </tr>\n",
       "    <tr>\n",
       "      <th>2</th>\n",
       "      <td>1519227-20041116</td>\n",
       "      <td>1541990</td>\n",
       "      <td>281270</td>\n",
       "      <td>1</td>\n",
       "      <td>LOCOMIBILE  LOFTS LLC</td>\n",
       "      <td>LOCOMOBILE LOFTS LLC</td>\n",
       "      <td>1133 S WABASH AVE 1ST</td>\n",
       "      <td>CHICAGO</td>\n",
       "      <td>IL</td>\n",
       "      <td>60605.0</td>\n",
       "      <td>...</td>\n",
       "      <td>N</td>\n",
       "      <td>2004-11-16T00:00:00</td>\n",
       "      <td>2005-11-15T00:00:00</td>\n",
       "      <td>2004-12-06T00:00:00</td>\n",
       "      <td>2004-12-07T00:00:00</td>\n",
       "      <td>NaN</td>\n",
       "      <td>NaN</td>\n",
       "      <td>41.868269</td>\n",
       "      <td>-87.625695</td>\n",
       "      <td>{'latitude': '41.86826924843568', 'longitude':...</td>\n",
       "    </tr>\n",
       "    <tr>\n",
       "      <th>3</th>\n",
       "      <td>1922025-20100816</td>\n",
       "      <td>2041053</td>\n",
       "      <td>335243</td>\n",
       "      <td>1</td>\n",
       "      <td>ANNA F. JAMISON</td>\n",
       "      <td>ANNA F. JAMISON</td>\n",
       "      <td>13156 S FORRESTVILLE AVE</td>\n",
       "      <td>CHICAGO</td>\n",
       "      <td>IL</td>\n",
       "      <td>60827.0</td>\n",
       "      <td>...</td>\n",
       "      <td>N</td>\n",
       "      <td>2010-08-16T00:00:00</td>\n",
       "      <td>2012-08-15T00:00:00</td>\n",
       "      <td>NaN</td>\n",
       "      <td>2010-11-04T00:00:00</td>\n",
       "      <td>2012-12-31T00:00:00</td>\n",
       "      <td>NaN</td>\n",
       "      <td>41.655762</td>\n",
       "      <td>-87.608686</td>\n",
       "      <td>{'latitude': '41.65576175146191', 'longitude':...</td>\n",
       "    </tr>\n",
       "    <tr>\n",
       "      <th>4</th>\n",
       "      <td>1675683-20070816</td>\n",
       "      <td>1837158</td>\n",
       "      <td>283018</td>\n",
       "      <td>3</td>\n",
       "      <td>MARINCA A. COVARRUBIAS</td>\n",
       "      <td>DETAILS</td>\n",
       "      <td>4208 S ARCHER AVE</td>\n",
       "      <td>CHICAGO</td>\n",
       "      <td>IL</td>\n",
       "      <td>60632.0</td>\n",
       "      <td>...</td>\n",
       "      <td>N</td>\n",
       "      <td>2007-08-16T00:00:00</td>\n",
       "      <td>2009-06-15T00:00:00</td>\n",
       "      <td>2007-08-15T00:00:00</td>\n",
       "      <td>2007-08-16T00:00:00</td>\n",
       "      <td>2008-03-26T00:00:00</td>\n",
       "      <td>39.0</td>\n",
       "      <td>41.816969</td>\n",
       "      <td>-87.699785</td>\n",
       "      <td>{'latitude': '41.81696910012824', 'longitude':...</td>\n",
       "    </tr>\n",
       "  </tbody>\n",
       "</table>\n",
       "<p>5 rows × 31 columns</p>\n",
       "</div>"
      ],
      "text/plain": [
       "                 ID  LICENSE ID  ACCOUNT NUMBER  SITE NUMBER  \\\n",
       "0  1516615-20120216     2132209          280120            1   \n",
       "1    69813-20110616     2090759           65043            1   \n",
       "2  1519227-20041116     1541990          281270            1   \n",
       "3  1922025-20100816     2041053          335243            1   \n",
       "4  1675683-20070816     1837158          283018            3   \n",
       "\n",
       "               LEGAL NAME DOING BUSINESS AS NAME                   ADDRESS  \\\n",
       "0          RS HOMES I LLC         RS HOMES I LLC    350 W HUBBARD ST 3 300   \n",
       "1      CSX INTERMODAL INC         CSX INTERMODAL        2101 W 59TH ST 1ST   \n",
       "2   LOCOMIBILE  LOFTS LLC   LOCOMOBILE LOFTS LLC     1133 S WABASH AVE 1ST   \n",
       "3         ANNA F. JAMISON        ANNA F. JAMISON  13156 S FORRESTVILLE AVE   \n",
       "4  MARINCA A. COVARRUBIAS                DETAILS         4208 S ARCHER AVE   \n",
       "\n",
       "      CITY STATE  ZIP CODE  ...  CONDITIONAL APPROVAL  \\\n",
       "0  CHICAGO    IL   60610.0  ...                     N   \n",
       "1  CHICAGO    IL   60636.0  ...                     N   \n",
       "2  CHICAGO    IL   60605.0  ...                     N   \n",
       "3  CHICAGO    IL   60827.0  ...                     N   \n",
       "4  CHICAGO    IL   60632.0  ...                     N   \n",
       "\n",
       "   LICENSE TERM START DATE LICENSE TERM EXPIRATION DATE  \\\n",
       "0      2012-02-16T00:00:00          2014-02-15T00:00:00   \n",
       "1      2011-06-16T00:00:00          2013-06-15T00:00:00   \n",
       "2      2004-11-16T00:00:00          2005-11-15T00:00:00   \n",
       "3      2010-08-16T00:00:00          2012-08-15T00:00:00   \n",
       "4      2007-08-16T00:00:00          2009-06-15T00:00:00   \n",
       "\n",
       "   LICENSE APPROVED FOR ISSUANCE          DATE ISSUED  \\\n",
       "0            2012-01-19T00:00:00  2012-01-20T00:00:00   \n",
       "1            2012-11-02T00:00:00  2012-11-05T00:00:00   \n",
       "2            2004-12-06T00:00:00  2004-12-07T00:00:00   \n",
       "3                            NaN  2010-11-04T00:00:00   \n",
       "4            2007-08-15T00:00:00  2007-08-16T00:00:00   \n",
       "\n",
       "  LICENSE STATUS CHANGE DATE   SSA   LATITUDE  LONGITUDE  \\\n",
       "0        2012-12-29T00:00:00   NaN  41.890047 -87.637467   \n",
       "1        2012-12-29T00:00:00   NaN  41.786485 -87.676665   \n",
       "2                        NaN   NaN  41.868269 -87.625695   \n",
       "3        2012-12-31T00:00:00   NaN  41.655762 -87.608686   \n",
       "4        2008-03-26T00:00:00  39.0  41.816969 -87.699785   \n",
       "\n",
       "                                            LOCATION  \n",
       "0  {'latitude': '41.89004724888915', 'longitude':...  \n",
       "1  {'latitude': '41.786485235679486', 'longitude'...  \n",
       "2  {'latitude': '41.86826924843568', 'longitude':...  \n",
       "3  {'latitude': '41.65576175146191', 'longitude':...  \n",
       "4  {'latitude': '41.81696910012824', 'longitude':...  \n",
       "\n",
       "[5 rows x 31 columns]"
      ]
     },
     "execution_count": 5,
     "metadata": {},
     "output_type": "execute_result"
    }
   ],
   "source": [
    "test = pd.read_csv('test_file.csv')\n",
    "test.head()"
   ]
  },
  {
   "cell_type": "code",
   "execution_count": 6,
   "metadata": {
    "ExecuteTime": {
     "end_time": "2022-05-07T05:49:41.056111Z",
     "start_time": "2022-05-07T05:49:41.044252Z"
    }
   },
   "outputs": [
    {
     "data": {
      "text/plain": [
       "(57239, 31)"
      ]
     },
     "execution_count": 6,
     "metadata": {},
     "output_type": "execute_result"
    }
   ],
   "source": [
    "test.shape"
   ]
  },
  {
   "cell_type": "code",
   "execution_count": 7,
   "metadata": {
    "ExecuteTime": {
     "end_time": "2022-05-07T05:49:49.159327Z",
     "start_time": "2022-05-07T05:49:49.129391Z"
    }
   },
   "outputs": [
    {
     "data": {
      "text/plain": [
       "Index(['ID', 'LICENSE ID', 'ACCOUNT NUMBER', 'SITE NUMBER', 'LEGAL NAME',\n",
       "       'DOING BUSINESS AS NAME', 'ADDRESS', 'CITY', 'STATE', 'ZIP CODE',\n",
       "       'WARD', 'PRECINCT', 'WARD PRECINCT', 'POLICE DISTRICT', 'LICENSE CODE',\n",
       "       'LICENSE DESCRIPTION', 'LICENSE NUMBER', 'APPLICATION TYPE',\n",
       "       'APPLICATION CREATED DATE', 'APPLICATION REQUIREMENTS COMPLETE',\n",
       "       'PAYMENT DATE', 'CONDITIONAL APPROVAL', 'LICENSE TERM START DATE',\n",
       "       'LICENSE TERM EXPIRATION DATE', 'LICENSE APPROVED FOR ISSUANCE',\n",
       "       'DATE ISSUED', 'LICENSE STATUS CHANGE DATE', 'SSA', 'LATITUDE',\n",
       "       'LONGITUDE', 'LOCATION'],\n",
       "      dtype='object')"
      ]
     },
     "execution_count": 7,
     "metadata": {},
     "output_type": "execute_result"
    }
   ],
   "source": [
    "test.columns"
   ]
  },
  {
   "cell_type": "code",
   "execution_count": 8,
   "metadata": {
    "ExecuteTime": {
     "end_time": "2022-05-07T05:52:16.927680Z",
     "start_time": "2022-05-07T05:52:16.887410Z"
    }
   },
   "outputs": [
    {
     "data": {
      "text/html": [
       "<div>\n",
       "<style scoped>\n",
       "    .dataframe tbody tr th:only-of-type {\n",
       "        vertical-align: middle;\n",
       "    }\n",
       "\n",
       "    .dataframe tbody tr th {\n",
       "        vertical-align: top;\n",
       "    }\n",
       "\n",
       "    .dataframe thead th {\n",
       "        text-align: right;\n",
       "    }\n",
       "</style>\n",
       "<table border=\"1\" class=\"dataframe\">\n",
       "  <thead>\n",
       "    <tr style=\"text-align: right;\">\n",
       "      <th></th>\n",
       "      <th>ID</th>\n",
       "    </tr>\n",
       "  </thead>\n",
       "  <tbody>\n",
       "    <tr>\n",
       "      <th>0</th>\n",
       "      <td>1516615-20120216</td>\n",
       "    </tr>\n",
       "    <tr>\n",
       "      <th>1</th>\n",
       "      <td>69813-20110616</td>\n",
       "    </tr>\n",
       "    <tr>\n",
       "      <th>2</th>\n",
       "      <td>1519227-20041116</td>\n",
       "    </tr>\n",
       "    <tr>\n",
       "      <th>3</th>\n",
       "      <td>1922025-20100816</td>\n",
       "    </tr>\n",
       "    <tr>\n",
       "      <th>4</th>\n",
       "      <td>1675683-20070816</td>\n",
       "    </tr>\n",
       "  </tbody>\n",
       "</table>\n",
       "</div>"
      ],
      "text/plain": [
       "                 ID\n",
       "0  1516615-20120216\n",
       "1    69813-20110616\n",
       "2  1519227-20041116\n",
       "3  1922025-20100816\n",
       "4  1675683-20070816"
      ]
     },
     "execution_count": 8,
     "metadata": {},
     "output_type": "execute_result"
    }
   ],
   "source": [
    "submission = pd.DataFrame({'ID': test['ID']})\n",
    "submission.head()"
   ]
  },
  {
   "cell_type": "code",
   "execution_count": 9,
   "metadata": {
    "ExecuteTime": {
     "end_time": "2022-05-07T05:52:23.125161Z",
     "start_time": "2022-05-07T05:52:23.109774Z"
    }
   },
   "outputs": [
    {
     "data": {
      "text/plain": [
       "(57239, 1)"
      ]
     },
     "execution_count": 9,
     "metadata": {},
     "output_type": "execute_result"
    }
   ],
   "source": [
    "submission.shape"
   ]
  },
  {
   "cell_type": "markdown",
   "metadata": {},
   "source": [
    "## Train Data Exploration"
   ]
  },
  {
   "cell_type": "code",
   "execution_count": 10,
   "metadata": {
    "ExecuteTime": {
     "end_time": "2022-05-07T05:53:10.987693Z",
     "start_time": "2022-05-07T05:53:10.771006Z"
    }
   },
   "outputs": [
    {
     "data": {
      "text/html": [
       "<div>\n",
       "<style scoped>\n",
       "    .dataframe tbody tr th:only-of-type {\n",
       "        vertical-align: middle;\n",
       "    }\n",
       "\n",
       "    .dataframe tbody tr th {\n",
       "        vertical-align: top;\n",
       "    }\n",
       "\n",
       "    .dataframe thead th {\n",
       "        text-align: right;\n",
       "    }\n",
       "</style>\n",
       "<table border=\"1\" class=\"dataframe\">\n",
       "  <thead>\n",
       "    <tr style=\"text-align: right;\">\n",
       "      <th></th>\n",
       "      <th>LICENSE ID</th>\n",
       "      <th>ACCOUNT NUMBER</th>\n",
       "      <th>SITE NUMBER</th>\n",
       "      <th>WARD</th>\n",
       "      <th>PRECINCT</th>\n",
       "      <th>POLICE DISTRICT</th>\n",
       "      <th>LICENSE CODE</th>\n",
       "      <th>LICENSE NUMBER</th>\n",
       "      <th>SSA</th>\n",
       "      <th>LATITUDE</th>\n",
       "      <th>LONGITUDE</th>\n",
       "    </tr>\n",
       "  </thead>\n",
       "  <tbody>\n",
       "    <tr>\n",
       "      <th>count</th>\n",
       "      <td>8.589500e+04</td>\n",
       "      <td>85895.000000</td>\n",
       "      <td>85895.000000</td>\n",
       "      <td>36194.000000</td>\n",
       "      <td>29194.000000</td>\n",
       "      <td>31883.000000</td>\n",
       "      <td>85895.000000</td>\n",
       "      <td>8.589400e+04</td>\n",
       "      <td>9449.000000</td>\n",
       "      <td>38649.000000</td>\n",
       "      <td>38649.000000</td>\n",
       "    </tr>\n",
       "    <tr>\n",
       "      <th>mean</th>\n",
       "      <td>1.751303e+06</td>\n",
       "      <td>196695.421701</td>\n",
       "      <td>2.556028</td>\n",
       "      <td>28.528927</td>\n",
       "      <td>54.632973</td>\n",
       "      <td>13.529812</td>\n",
       "      <td>1111.736620</td>\n",
       "      <td>1.228151e+06</td>\n",
       "      <td>29.152080</td>\n",
       "      <td>41.880952</td>\n",
       "      <td>-87.681165</td>\n",
       "    </tr>\n",
       "    <tr>\n",
       "      <th>std</th>\n",
       "      <td>3.358780e+05</td>\n",
       "      <td>126819.343760</td>\n",
       "      <td>8.655706</td>\n",
       "      <td>13.921710</td>\n",
       "      <td>163.174955</td>\n",
       "      <td>7.275874</td>\n",
       "      <td>250.020872</td>\n",
       "      <td>7.431487e+05</td>\n",
       "      <td>17.419898</td>\n",
       "      <td>0.079617</td>\n",
       "      <td>0.056248</td>\n",
       "    </tr>\n",
       "    <tr>\n",
       "      <th>min</th>\n",
       "      <td>3.079300e+04</td>\n",
       "      <td>10.000000</td>\n",
       "      <td>1.000000</td>\n",
       "      <td>1.000000</td>\n",
       "      <td>1.000000</td>\n",
       "      <td>1.000000</td>\n",
       "      <td>1002.000000</td>\n",
       "      <td>1.290000e+02</td>\n",
       "      <td>1.000000</td>\n",
       "      <td>41.644694</td>\n",
       "      <td>-87.915285</td>\n",
       "    </tr>\n",
       "    <tr>\n",
       "      <th>25%</th>\n",
       "      <td>1.469024e+06</td>\n",
       "      <td>54615.000000</td>\n",
       "      <td>1.000000</td>\n",
       "      <td>17.000000</td>\n",
       "      <td>12.000000</td>\n",
       "      <td>8.000000</td>\n",
       "      <td>1010.000000</td>\n",
       "      <td>8.710900e+04</td>\n",
       "      <td>17.000000</td>\n",
       "      <td>41.834312</td>\n",
       "      <td>-87.719150</td>\n",
       "    </tr>\n",
       "    <tr>\n",
       "      <th>50%</th>\n",
       "      <td>1.778754e+06</td>\n",
       "      <td>248313.000000</td>\n",
       "      <td>1.000000</td>\n",
       "      <td>30.000000</td>\n",
       "      <td>26.000000</td>\n",
       "      <td>14.000000</td>\n",
       "      <td>1010.000000</td>\n",
       "      <td>1.442202e+06</td>\n",
       "      <td>28.000000</td>\n",
       "      <td>41.892679</td>\n",
       "      <td>-87.673321</td>\n",
       "    </tr>\n",
       "    <tr>\n",
       "      <th>75%</th>\n",
       "      <td>2.067578e+06</td>\n",
       "      <td>300243.500000</td>\n",
       "      <td>2.000000</td>\n",
       "      <td>42.000000</td>\n",
       "      <td>41.000000</td>\n",
       "      <td>19.000000</td>\n",
       "      <td>1011.000000</td>\n",
       "      <td>1.816581e+06</td>\n",
       "      <td>40.000000</td>\n",
       "      <td>41.938624</td>\n",
       "      <td>-87.639509</td>\n",
       "    </tr>\n",
       "    <tr>\n",
       "      <th>max</th>\n",
       "      <td>2.456551e+06</td>\n",
       "      <td>397444.000000</td>\n",
       "      <td>417.000000</td>\n",
       "      <td>50.000000</td>\n",
       "      <td>999.000000</td>\n",
       "      <td>181.000000</td>\n",
       "      <td>8340.000000</td>\n",
       "      <td>2.391410e+06</td>\n",
       "      <td>69.000000</td>\n",
       "      <td>42.022660</td>\n",
       "      <td>-87.525872</td>\n",
       "    </tr>\n",
       "  </tbody>\n",
       "</table>\n",
       "</div>"
      ],
      "text/plain": [
       "         LICENSE ID  ACCOUNT NUMBER   SITE NUMBER          WARD      PRECINCT  \\\n",
       "count  8.589500e+04    85895.000000  85895.000000  36194.000000  29194.000000   \n",
       "mean   1.751303e+06   196695.421701      2.556028     28.528927     54.632973   \n",
       "std    3.358780e+05   126819.343760      8.655706     13.921710    163.174955   \n",
       "min    3.079300e+04       10.000000      1.000000      1.000000      1.000000   \n",
       "25%    1.469024e+06    54615.000000      1.000000     17.000000     12.000000   \n",
       "50%    1.778754e+06   248313.000000      1.000000     30.000000     26.000000   \n",
       "75%    2.067578e+06   300243.500000      2.000000     42.000000     41.000000   \n",
       "max    2.456551e+06   397444.000000    417.000000     50.000000    999.000000   \n",
       "\n",
       "       POLICE DISTRICT  LICENSE CODE  LICENSE NUMBER          SSA  \\\n",
       "count     31883.000000  85895.000000    8.589400e+04  9449.000000   \n",
       "mean         13.529812   1111.736620    1.228151e+06    29.152080   \n",
       "std           7.275874    250.020872    7.431487e+05    17.419898   \n",
       "min           1.000000   1002.000000    1.290000e+02     1.000000   \n",
       "25%           8.000000   1010.000000    8.710900e+04    17.000000   \n",
       "50%          14.000000   1010.000000    1.442202e+06    28.000000   \n",
       "75%          19.000000   1011.000000    1.816581e+06    40.000000   \n",
       "max         181.000000   8340.000000    2.391410e+06    69.000000   \n",
       "\n",
       "           LATITUDE     LONGITUDE  \n",
       "count  38649.000000  38649.000000  \n",
       "mean      41.880952    -87.681165  \n",
       "std        0.079617      0.056248  \n",
       "min       41.644694    -87.915285  \n",
       "25%       41.834312    -87.719150  \n",
       "50%       41.892679    -87.673321  \n",
       "75%       41.938624    -87.639509  \n",
       "max       42.022660    -87.525872  "
      ]
     },
     "execution_count": 10,
     "metadata": {},
     "output_type": "execute_result"
    }
   ],
   "source": [
    "train.describe()"
   ]
  },
  {
   "cell_type": "code",
   "execution_count": 11,
   "metadata": {
    "ExecuteTime": {
     "end_time": "2022-05-07T05:53:56.296730Z",
     "start_time": "2022-05-07T05:53:56.099086Z"
    }
   },
   "outputs": [
    {
     "data": {
      "text/plain": [
       "ID                                       0\n",
       "LICENSE ID                               0\n",
       "ACCOUNT NUMBER                           0\n",
       "SITE NUMBER                              0\n",
       "LEGAL NAME                               0\n",
       "DOING BUSINESS AS NAME                   1\n",
       "ADDRESS                                  0\n",
       "CITY                                     0\n",
       "STATE                                    0\n",
       "ZIP CODE                                31\n",
       "WARD                                 49701\n",
       "PRECINCT                             56701\n",
       "WARD PRECINCT                        49700\n",
       "POLICE DISTRICT                      54012\n",
       "LICENSE CODE                             0\n",
       "LICENSE DESCRIPTION                      0\n",
       "LICENSE NUMBER                           1\n",
       "APPLICATION TYPE                         0\n",
       "APPLICATION CREATED DATE             64660\n",
       "APPLICATION REQUIREMENTS COMPLETE      214\n",
       "PAYMENT DATE                          1289\n",
       "CONDITIONAL APPROVAL                     0\n",
       "LICENSE TERM START DATE                228\n",
       "LICENSE TERM EXPIRATION DATE            18\n",
       "LICENSE APPROVED FOR ISSUANCE         6789\n",
       "DATE ISSUED                              0\n",
       "LICENSE STATUS CHANGE DATE           55400\n",
       "SSA                                  76446\n",
       "LATITUDE                             47246\n",
       "LONGITUDE                            47246\n",
       "LOCATION                             47246\n",
       "LICENSE STATUS                           0\n",
       "dtype: int64"
      ]
     },
     "execution_count": 11,
     "metadata": {},
     "output_type": "execute_result"
    }
   ],
   "source": [
    "train.isnull().sum()"
   ]
  },
  {
   "cell_type": "code",
   "execution_count": 12,
   "metadata": {
    "ExecuteTime": {
     "end_time": "2022-05-07T05:54:30.525993Z",
     "start_time": "2022-05-07T05:54:30.487108Z"
    }
   },
   "outputs": [
    {
     "data": {
      "text/plain": [
       "AAI    55400\n",
       "AAC    30200\n",
       "REV      290\n",
       "REA        3\n",
       "INQ        2\n",
       "Name: LICENSE STATUS, dtype: int64"
      ]
     },
     "execution_count": 12,
     "metadata": {},
     "output_type": "execute_result"
    }
   ],
   "source": [
    "# Target variable\n",
    "train['LICENSE STATUS'].value_counts()"
   ]
  },
  {
   "cell_type": "code",
   "execution_count": 18,
   "metadata": {
    "ExecuteTime": {
     "end_time": "2022-05-07T05:56:58.222118Z",
     "start_time": "2022-05-07T05:56:57.669570Z"
    }
   },
   "outputs": [
    {
     "data": {
      "image/png": "[encoded data removed]",
      "text/plain": [
       "<Figure size 432x288 with 1 Axes>"
      ]
     },
     "metadata": {},
     "output_type": "display_data"
    }
   ],
   "source": [
    "sns.countplot(train['LICENSE STATUS'])\n",
    "plt.show()"
   ]
  },
  {
   "cell_type": "markdown",
   "metadata": {},
   "source": [
    "Data is imbalanced."
   ]
  },
  {
   "cell_type": "code",
   "execution_count": 19,
   "metadata": {
    "ExecuteTime": {
     "end_time": "2022-05-07T05:57:34.584550Z",
     "start_time": "2022-05-07T05:57:34.571208Z"
    }
   },
   "outputs": [
    {
     "data": {
      "text/plain": [
       "Index(['ID', 'LICENSE ID', 'ACCOUNT NUMBER', 'SITE NUMBER', 'LEGAL NAME',\n",
       "       'DOING BUSINESS AS NAME', 'ADDRESS', 'CITY', 'STATE', 'ZIP CODE',\n",
       "       'WARD', 'PRECINCT', 'WARD PRECINCT', 'POLICE DISTRICT', 'LICENSE CODE',\n",
       "       'LICENSE DESCRIPTION', 'LICENSE NUMBER', 'APPLICATION TYPE',\n",
       "       'APPLICATION CREATED DATE', 'APPLICATION REQUIREMENTS COMPLETE',\n",
       "       'PAYMENT DATE', 'CONDITIONAL APPROVAL', 'LICENSE TERM START DATE',\n",
       "       'LICENSE TERM EXPIRATION DATE', 'LICENSE APPROVED FOR ISSUANCE',\n",
       "       'DATE ISSUED', 'LICENSE STATUS CHANGE DATE', 'SSA', 'LATITUDE',\n",
       "       'LONGITUDE', 'LOCATION', 'LICENSE STATUS'],\n",
       "      dtype='object')"
      ]
     },
     "execution_count": 19,
     "metadata": {},
     "output_type": "execute_result"
    }
   ],
   "source": [
    "train.columns"
   ]
  },
  {
   "cell_type": "code",
   "execution_count": 20,
   "metadata": {
    "ExecuteTime": {
     "end_time": "2022-05-07T06:03:33.821277Z",
     "start_time": "2022-05-07T06:03:33.740982Z"
    }
   },
   "outputs": [],
   "source": [
    "# delete columns which are not useful\n",
    "del_cols = ['ID', 'LICENSE ID', 'ADDRESS', 'APPLICATION CREATED DATE', 'SSA', 'LOCATION']\n",
    "train = train.drop(del_cols, axis = 1)\n",
    "test = test.drop(del_cols, axis = 1)"
   ]
  },
  {
   "cell_type": "code",
   "execution_count": 21,
   "metadata": {
    "ExecuteTime": {
     "end_time": "2022-05-07T06:03:37.931510Z",
     "start_time": "2022-05-07T06:03:37.919531Z"
    }
   },
   "outputs": [
    {
     "data": {
      "text/plain": [
       "(85895, 26)"
      ]
     },
     "execution_count": 21,
     "metadata": {},
     "output_type": "execute_result"
    }
   ],
   "source": [
    "train.shape"
   ]
  },
  {
   "cell_type": "code",
   "execution_count": 22,
   "metadata": {
    "ExecuteTime": {
     "end_time": "2022-05-07T06:04:16.356310Z",
     "start_time": "2022-05-07T06:04:16.328897Z"
    }
   },
   "outputs": [
    {
     "data": {
      "text/plain": [
       "ACCOUNT NUMBER                         int64\n",
       "SITE NUMBER                            int64\n",
       "LEGAL NAME                            object\n",
       "DOING BUSINESS AS NAME                object\n",
       "CITY                                  object\n",
       "STATE                                 object\n",
       "ZIP CODE                              object\n",
       "WARD                                 float64\n",
       "PRECINCT                             float64\n",
       "WARD PRECINCT                         object\n",
       "POLICE DISTRICT                      float64\n",
       "LICENSE CODE                           int64\n",
       "LICENSE DESCRIPTION                   object\n",
       "LICENSE NUMBER                       float64\n",
       "APPLICATION TYPE                      object\n",
       "APPLICATION REQUIREMENTS COMPLETE     object\n",
       "PAYMENT DATE                          object\n",
       "CONDITIONAL APPROVAL                  object\n",
       "LICENSE TERM START DATE               object\n",
       "LICENSE TERM EXPIRATION DATE          object\n",
       "LICENSE APPROVED FOR ISSUANCE         object\n",
       "DATE ISSUED                           object\n",
       "LICENSE STATUS CHANGE DATE            object\n",
       "LATITUDE                             float64\n",
       "LONGITUDE                            float64\n",
       "LICENSE STATUS                        object\n",
       "dtype: object"
      ]
     },
     "execution_count": 22,
     "metadata": {},
     "output_type": "execute_result"
    }
   ],
   "source": [
    "train.dtypes"
   ]
  },
  {
   "cell_type": "code",
   "execution_count": 24,
   "metadata": {
    "ExecuteTime": {
     "end_time": "2022-05-07T06:07:46.525284Z",
     "start_time": "2022-05-07T06:07:46.508299Z"
    }
   },
   "outputs": [
    {
     "data": {
      "text/plain": [
       "0        2002-06-28T00:00:00\n",
       "1        2005-09-22T00:00:00\n",
       "2        2009-07-22T00:00:00\n",
       "3        2004-02-10T00:00:00\n",
       "4        2008-03-24T00:00:00\n",
       "                ...         \n",
       "85890    2012-03-15T00:00:00\n",
       "85891    2007-05-22T00:00:00\n",
       "85892    2008-11-14T00:00:00\n",
       "85893    2011-08-15T00:00:00\n",
       "85894    2003-12-15T00:00:00\n",
       "Name: APPLICATION REQUIREMENTS COMPLETE, Length: 85895, dtype: object"
      ]
     },
     "execution_count": 24,
     "metadata": {},
     "output_type": "execute_result"
    }
   ],
   "source": [
    "train['APPLICATION REQUIREMENTS COMPLETE']"
   ]
  },
  {
   "cell_type": "code",
   "execution_count": 23,
   "metadata": {
    "ExecuteTime": {
     "end_time": "2022-05-07T06:06:19.618233Z",
     "start_time": "2022-05-07T06:06:19.604108Z"
    }
   },
   "outputs": [],
   "source": [
    "# Convert the Date columns from Object to DATETIME\n",
    "\n",
    "def date_conversion(date_cols_list):\n",
    "    for i in date_cols_list:\n",
    "        train[i] = pd.to_datetime(train[i])\n",
    "        test[i] = pd.to_datetime(test[i])"
   ]
  },
  {
   "cell_type": "code",
   "execution_count": 25,
   "metadata": {
    "ExecuteTime": {
     "end_time": "2022-05-07T06:09:12.780067Z",
     "start_time": "2022-05-07T06:09:11.515003Z"
    }
   },
   "outputs": [],
   "source": [
    "date_cols_list = ['APPLICATION REQUIREMENTS COMPLETE', 'PAYMENT DATE', 'LICENSE TERM START DATE', 'LICENSE TERM EXPIRATION DATE',\n",
    "                 'LICENSE APPROVED FOR ISSUANCE', 'DATE ISSUED', 'LICENSE STATUS CHANGE DATE']\n",
    "date_conversion(date_cols_list)"
   ]
  },
  {
   "cell_type": "code",
   "execution_count": 26,
   "metadata": {
    "ExecuteTime": {
     "end_time": "2022-05-07T06:09:23.222918Z",
     "start_time": "2022-05-07T06:09:23.193623Z"
    }
   },
   "outputs": [
    {
     "data": {
      "text/plain": [
       "ACCOUNT NUMBER                                int64\n",
       "SITE NUMBER                                   int64\n",
       "LEGAL NAME                                   object\n",
       "DOING BUSINESS AS NAME                       object\n",
       "CITY                                         object\n",
       "STATE                                        object\n",
       "ZIP CODE                                     object\n",
       "WARD                                        float64\n",
       "PRECINCT                                    float64\n",
       "WARD PRECINCT                                object\n",
       "POLICE DISTRICT                             float64\n",
       "LICENSE CODE                                  int64\n",
       "LICENSE DESCRIPTION                          object\n",
       "LICENSE NUMBER                              float64\n",
       "APPLICATION TYPE                             object\n",
       "APPLICATION REQUIREMENTS COMPLETE    datetime64[ns]\n",
       "PAYMENT DATE                         datetime64[ns]\n",
       "CONDITIONAL APPROVAL                         object\n",
       "LICENSE TERM START DATE              datetime64[ns]\n",
       "LICENSE TERM EXPIRATION DATE         datetime64[ns]\n",
       "LICENSE APPROVED FOR ISSUANCE        datetime64[ns]\n",
       "DATE ISSUED                          datetime64[ns]\n",
       "LICENSE STATUS CHANGE DATE           datetime64[ns]\n",
       "LATITUDE                                    float64\n",
       "LONGITUDE                                   float64\n",
       "LICENSE STATUS                               object\n",
       "dtype: object"
      ]
     },
     "execution_count": 26,
     "metadata": {},
     "output_type": "execute_result"
    }
   ],
   "source": [
    "train.dtypes"
   ]
  },
  {
   "cell_type": "code",
   "execution_count": 27,
   "metadata": {
    "ExecuteTime": {
     "end_time": "2022-05-07T06:09:30.342261Z",
     "start_time": "2022-05-07T06:09:30.315501Z"
    }
   },
   "outputs": [
    {
     "data": {
      "text/plain": [
       "ACCOUNT NUMBER                                int64\n",
       "SITE NUMBER                                   int64\n",
       "LEGAL NAME                                   object\n",
       "DOING BUSINESS AS NAME                       object\n",
       "CITY                                         object\n",
       "STATE                                        object\n",
       "ZIP CODE                                    float64\n",
       "WARD                                        float64\n",
       "PRECINCT                                    float64\n",
       "WARD PRECINCT                                object\n",
       "POLICE DISTRICT                             float64\n",
       "LICENSE CODE                                  int64\n",
       "LICENSE DESCRIPTION                          object\n",
       "LICENSE NUMBER                              float64\n",
       "APPLICATION TYPE                             object\n",
       "APPLICATION REQUIREMENTS COMPLETE    datetime64[ns]\n",
       "PAYMENT DATE                         datetime64[ns]\n",
       "CONDITIONAL APPROVAL                         object\n",
       "LICENSE TERM START DATE              datetime64[ns]\n",
       "LICENSE TERM EXPIRATION DATE         datetime64[ns]\n",
       "LICENSE APPROVED FOR ISSUANCE        datetime64[ns]\n",
       "DATE ISSUED                          datetime64[ns]\n",
       "LICENSE STATUS CHANGE DATE           datetime64[ns]\n",
       "LATITUDE                                    float64\n",
       "LONGITUDE                                   float64\n",
       "dtype: object"
      ]
     },
     "execution_count": 27,
     "metadata": {},
     "output_type": "execute_result"
    }
   ],
   "source": [
    "test.dtypes"
   ]
  },
  {
   "cell_type": "markdown",
   "metadata": {},
   "source": [
    "## Missing Values"
   ]
  },
  {
   "cell_type": "code",
   "execution_count": 28,
   "metadata": {
    "ExecuteTime": {
     "end_time": "2022-05-07T06:09:56.687883Z",
     "start_time": "2022-05-07T06:09:56.544938Z"
    }
   },
   "outputs": [
    {
     "data": {
      "text/plain": [
       "ACCOUNT NUMBER                           0\n",
       "SITE NUMBER                              0\n",
       "LEGAL NAME                               0\n",
       "DOING BUSINESS AS NAME                   1\n",
       "CITY                                     0\n",
       "STATE                                    0\n",
       "ZIP CODE                                31\n",
       "WARD                                 49701\n",
       "PRECINCT                             56701\n",
       "WARD PRECINCT                        49700\n",
       "POLICE DISTRICT                      54012\n",
       "LICENSE CODE                             0\n",
       "LICENSE DESCRIPTION                      0\n",
       "LICENSE NUMBER                           1\n",
       "APPLICATION TYPE                         0\n",
       "APPLICATION REQUIREMENTS COMPLETE      214\n",
       "PAYMENT DATE                          1289\n",
       "CONDITIONAL APPROVAL                     0\n",
       "LICENSE TERM START DATE                228\n",
       "LICENSE TERM EXPIRATION DATE            18\n",
       "LICENSE APPROVED FOR ISSUANCE         6789\n",
       "DATE ISSUED                              0\n",
       "LICENSE STATUS CHANGE DATE           55400\n",
       "LATITUDE                             47246\n",
       "LONGITUDE                            47246\n",
       "LICENSE STATUS                           0\n",
       "dtype: int64"
      ]
     },
     "execution_count": 28,
     "metadata": {},
     "output_type": "execute_result"
    }
   ],
   "source": [
    "train.isna().sum()"
   ]
  },
  {
   "cell_type": "code",
   "execution_count": 29,
   "metadata": {
    "ExecuteTime": {
     "end_time": "2022-05-07T06:13:00.002421Z",
     "start_time": "2022-05-07T06:12:59.990020Z"
    }
   },
   "outputs": [],
   "source": [
    "# define function to replace missing values with mean - for some numerical variables\n",
    "\n",
    "def impute_mean(mean_list):\n",
    "    for i in mean_list:\n",
    "        train[i] = train[i].fillna(train[i].mean())\n",
    "        test[i] = test[i].fillna(test[i].mean())"
   ]
  },
  {
   "cell_type": "code",
   "execution_count": 31,
   "metadata": {
    "ExecuteTime": {
     "end_time": "2022-05-07T06:13:35.802172Z",
     "start_time": "2022-05-07T06:13:35.777964Z"
    }
   },
   "outputs": [],
   "source": [
    "mean_list = ['LATITUDE', 'LONGITUDE']\n",
    "impute_mean(mean_list)"
   ]
  },
  {
   "cell_type": "code",
   "execution_count": 32,
   "metadata": {
    "ExecuteTime": {
     "end_time": "2022-05-07T06:14:40.736019Z",
     "start_time": "2022-05-07T06:14:40.718449Z"
    }
   },
   "outputs": [
    {
     "data": {
      "text/plain": [
       "['APPLICATION REQUIREMENTS COMPLETE',\n",
       " 'PAYMENT DATE',\n",
       " 'LICENSE TERM START DATE',\n",
       " 'LICENSE TERM EXPIRATION DATE',\n",
       " 'LICENSE APPROVED FOR ISSUANCE',\n",
       " 'DATE ISSUED',\n",
       " 'LICENSE STATUS CHANGE DATE']"
      ]
     },
     "execution_count": 32,
     "metadata": {},
     "output_type": "execute_result"
    }
   ],
   "source": [
    "# Fetching Year and Month from DATETIME columns\n",
    "date_cols_list"
   ]
  },
  {
   "cell_type": "code",
   "execution_count": 33,
   "metadata": {
    "ExecuteTime": {
     "end_time": "2022-05-07T06:18:30.808229Z",
     "start_time": "2022-05-07T06:18:30.790533Z"
    }
   },
   "outputs": [],
   "source": [
    "# year\n",
    "def get_year(yr_col, df_col):\n",
    "    train[yr_col] = train[df_col].apply(lambda x: x.year)\n",
    "    test[yr_col] = test[df_col].apply(lambda x: x.year)\n",
    "    \n",
    "# month\n",
    "def get_month(month_col, df_col):\n",
    "    train[month_col] = train[df_col].apply(lambda x: x.month)\n",
    "    test[month_col] = test[df_col].apply(lambda x: x.month)"
   ]
  },
  {
   "cell_type": "code",
   "execution_count": 35,
   "metadata": {
    "ExecuteTime": {
     "end_time": "2022-05-07T06:22:35.856658Z",
     "start_time": "2022-05-07T06:22:25.714869Z"
    }
   },
   "outputs": [],
   "source": [
    "get_year('APPLICATION REQUIREMENTS COMPLETE YEAR', 'APPLICATION REQUIREMENTS COMPLETE')\n",
    "get_year('PAYMENT YEAR', 'PAYMENT DATE')\n",
    "get_month('PAYMENT MONTH', 'PAYMENT DATE')\n",
    "get_year('LICENSE TERM START YEAR', 'LICENSE TERM START DATE')\n",
    "get_year('LICENSE TERM EXPIRATION YEAR', 'LICENSE TERM EXPIRATION DATE')\n",
    "get_year('LICENSE APPROVED FOR ISSUANCE YEAR', 'LICENSE APPROVED FOR ISSUANCE')\n",
    "get_year('YEAR ISSUED', 'DATE ISSUED')\n",
    "get_year('LICENSE STATUS CHANGE YEAR', 'LICENSE STATUS CHANGE DATE')"
   ]
  },
  {
   "cell_type": "code",
   "execution_count": 36,
   "metadata": {
    "ExecuteTime": {
     "end_time": "2022-05-07T06:25:16.208256Z",
     "start_time": "2022-05-07T06:25:15.985719Z"
    }
   },
   "outputs": [
    {
     "data": {
      "text/plain": [
       "ACCOUNT NUMBER                                0\n",
       "SITE NUMBER                                   0\n",
       "LEGAL NAME                                    0\n",
       "DOING BUSINESS AS NAME                        1\n",
       "CITY                                          0\n",
       "STATE                                         0\n",
       "ZIP CODE                                     31\n",
       "WARD                                      49701\n",
       "PRECINCT                                  56701\n",
       "WARD PRECINCT                             49700\n",
       "POLICE DISTRICT                           54012\n",
       "LICENSE CODE                                  0\n",
       "LICENSE DESCRIPTION                           0\n",
       "LICENSE NUMBER                                1\n",
       "APPLICATION TYPE                              0\n",
       "APPLICATION REQUIREMENTS COMPLETE           214\n",
       "PAYMENT DATE                               1289\n",
       "CONDITIONAL APPROVAL                          0\n",
       "LICENSE TERM START DATE                     228\n",
       "LICENSE TERM EXPIRATION DATE                 18\n",
       "LICENSE APPROVED FOR ISSUANCE              6789\n",
       "DATE ISSUED                                   0\n",
       "LICENSE STATUS CHANGE DATE                55400\n",
       "LATITUDE                                      0\n",
       "LONGITUDE                                     0\n",
       "LICENSE STATUS                                0\n",
       "APPLICATION REQUIREMENTS COMPLETE YEAR      214\n",
       "PAYMENT YEAR                               1289\n",
       "PAYMENT MONTH                              1289\n",
       "LICENSE TERM START YEAR                     228\n",
       "LICENSE TERM EXPIRATION YEAR                 18\n",
       "LICENSE APPROVED FOR ISSUANCE YEAR         6789\n",
       "YEAR ISSUED                                   0\n",
       "LICENSE STATUS CHANGE YEAR                55400\n",
       "dtype: int64"
      ]
     },
     "execution_count": 36,
     "metadata": {},
     "output_type": "execute_result"
    }
   ],
   "source": [
    "train.isna().sum()"
   ]
  },
  {
   "cell_type": "code",
   "execution_count": 39,
   "metadata": {
    "ExecuteTime": {
     "end_time": "2022-05-07T06:29:39.295673Z",
     "start_time": "2022-05-07T06:29:39.258078Z"
    }
   },
   "outputs": [],
   "source": [
    "# replacing null values for YEAR columns with round value of mean\n",
    "\n",
    "mean_list = ['APPLICATION REQUIREMENTS COMPLETE YEAR', 'PAYMENT YEAR', 'LICENSE TERM START YEAR', 'LICENSE TERM EXPIRATION YEAR',\n",
    "            'LICENSE APPROVED FOR ISSUANCE YEAR', 'LICENSE STATUS CHANGE YEAR']\n",
    "\n",
    "def impute_round_mean(mean_list):\n",
    "    for i in mean_list:\n",
    "        train[i] = train[i].fillna(round(train[i].mean()))\n",
    "        test[i] = test[i].fillna(round(test[i].mean()))\n",
    "        \n",
    "impute_round_mean(mean_list)"
   ]
  },
  {
   "cell_type": "code",
   "execution_count": 40,
   "metadata": {
    "ExecuteTime": {
     "end_time": "2022-05-07T06:29:42.437855Z",
     "start_time": "2022-05-07T06:29:42.326231Z"
    }
   },
   "outputs": [
    {
     "data": {
      "text/plain": [
       "ACCOUNT NUMBER                                0\n",
       "SITE NUMBER                                   0\n",
       "LEGAL NAME                                    0\n",
       "DOING BUSINESS AS NAME                        1\n",
       "CITY                                          0\n",
       "STATE                                         0\n",
       "ZIP CODE                                     31\n",
       "WARD                                      49701\n",
       "PRECINCT                                  56701\n",
       "WARD PRECINCT                             49700\n",
       "POLICE DISTRICT                           54012\n",
       "LICENSE CODE                                  0\n",
       "LICENSE DESCRIPTION                           0\n",
       "LICENSE NUMBER                                1\n",
       "APPLICATION TYPE                              0\n",
       "APPLICATION REQUIREMENTS COMPLETE           214\n",
       "PAYMENT DATE                               1289\n",
       "CONDITIONAL APPROVAL                          0\n",
       "LICENSE TERM START DATE                     228\n",
       "LICENSE TERM EXPIRATION DATE                 18\n",
       "LICENSE APPROVED FOR ISSUANCE              6789\n",
       "DATE ISSUED                                   0\n",
       "LICENSE STATUS CHANGE DATE                55400\n",
       "LATITUDE                                      0\n",
       "LONGITUDE                                     0\n",
       "LICENSE STATUS                                0\n",
       "APPLICATION REQUIREMENTS COMPLETE YEAR        0\n",
       "PAYMENT YEAR                                  0\n",
       "PAYMENT MONTH                              1289\n",
       "LICENSE TERM START YEAR                       0\n",
       "LICENSE TERM EXPIRATION YEAR                  0\n",
       "LICENSE APPROVED FOR ISSUANCE YEAR            0\n",
       "YEAR ISSUED                                   0\n",
       "LICENSE STATUS CHANGE YEAR                    0\n",
       "dtype: int64"
      ]
     },
     "execution_count": 40,
     "metadata": {},
     "output_type": "execute_result"
    }
   ],
   "source": [
    "train.isna().sum()"
   ]
  },
  {
   "cell_type": "code",
   "execution_count": 41,
   "metadata": {
    "ExecuteTime": {
     "end_time": "2022-05-07T06:32:18.204464Z",
     "start_time": "2022-05-07T06:32:18.052842Z"
    }
   },
   "outputs": [],
   "source": [
    "# create new column - License Validity (years)\n",
    "\n",
    "train['LICENSE VALIDITY'] = abs(train['LICENSE TERM EXPIRATION YEAR'] - train['LICENSE TERM START YEAR'])\n",
    "test['LICENSE VALIDITY'] = abs(test['LICENSE TERM EXPIRATION YEAR'] - test['LICENSE TERM START YEAR'])"
   ]
  },
  {
   "cell_type": "code",
   "execution_count": 43,
   "metadata": {
    "ExecuteTime": {
     "end_time": "2022-05-07T06:36:35.150514Z",
     "start_time": "2022-05-07T06:36:35.137997Z"
    }
   },
   "outputs": [],
   "source": [
    "# dropping columns which are not needed\n",
    "\n",
    "cols = ['APPLICATION REQUIREMENTS COMPLETE', 'PAYMENT DATE', 'LICENSE TERM START DATE', 'LICENSE TERM EXPIRATION DATE',\n",
    "       'LICENSE APPROVED FOR ISSUANCE','DATE ISSUED', 'LICENSE STATUS CHANGE DATE', 'LICENSE TERM START YEAR', \n",
    "        'LICENSE TERM EXPIRATION YEAR']"
   ]
  },
  {
   "cell_type": "code",
   "execution_count": 44,
   "metadata": {
    "ExecuteTime": {
     "end_time": "2022-05-07T06:36:58.111600Z",
     "start_time": "2022-05-07T06:36:57.969201Z"
    }
   },
   "outputs": [],
   "source": [
    "train = train.drop(cols, axis= 1)\n",
    "test = test.drop(cols, axis= 1)"
   ]
  },
  {
   "cell_type": "code",
   "execution_count": 45,
   "metadata": {
    "ExecuteTime": {
     "end_time": "2022-05-07T06:37:02.335012Z",
     "start_time": "2022-05-07T06:37:02.320856Z"
    }
   },
   "outputs": [
    {
     "data": {
      "text/plain": [
       "(85895, 26)"
      ]
     },
     "execution_count": 45,
     "metadata": {},
     "output_type": "execute_result"
    }
   ],
   "source": [
    "train.shape"
   ]
  },
  {
   "cell_type": "code",
   "execution_count": 46,
   "metadata": {
    "ExecuteTime": {
     "end_time": "2022-05-07T06:37:06.442688Z",
     "start_time": "2022-05-07T06:37:06.425080Z"
    }
   },
   "outputs": [
    {
     "data": {
      "text/plain": [
       "(57239, 25)"
      ]
     },
     "execution_count": 46,
     "metadata": {},
     "output_type": "execute_result"
    }
   ],
   "source": [
    "test.shape"
   ]
  },
  {
   "cell_type": "code",
   "execution_count": 47,
   "metadata": {
    "ExecuteTime": {
     "end_time": "2022-05-07T06:37:20.893623Z",
     "start_time": "2022-05-07T06:37:20.863538Z"
    }
   },
   "outputs": [
    {
     "data": {
      "text/plain": [
       "ACCOUNT NUMBER                              int64\n",
       "SITE NUMBER                                 int64\n",
       "LEGAL NAME                                 object\n",
       "DOING BUSINESS AS NAME                     object\n",
       "CITY                                       object\n",
       "STATE                                      object\n",
       "ZIP CODE                                   object\n",
       "WARD                                      float64\n",
       "PRECINCT                                  float64\n",
       "WARD PRECINCT                              object\n",
       "POLICE DISTRICT                           float64\n",
       "LICENSE CODE                                int64\n",
       "LICENSE DESCRIPTION                        object\n",
       "LICENSE NUMBER                            float64\n",
       "APPLICATION TYPE                           object\n",
       "CONDITIONAL APPROVAL                       object\n",
       "LATITUDE                                  float64\n",
       "LONGITUDE                                 float64\n",
       "LICENSE STATUS                             object\n",
       "APPLICATION REQUIREMENTS COMPLETE YEAR    float64\n",
       "PAYMENT YEAR                              float64\n",
       "PAYMENT MONTH                             float64\n",
       "LICENSE APPROVED FOR ISSUANCE YEAR        float64\n",
       "YEAR ISSUED                                 int64\n",
       "LICENSE STATUS CHANGE YEAR                float64\n",
       "LICENSE VALIDITY                          float64\n",
       "dtype: object"
      ]
     },
     "execution_count": 47,
     "metadata": {},
     "output_type": "execute_result"
    }
   ],
   "source": [
    "train.dtypes"
   ]
  },
  {
   "cell_type": "code",
   "execution_count": 48,
   "metadata": {
    "ExecuteTime": {
     "end_time": "2022-05-07T06:38:15.625377Z",
     "start_time": "2022-05-07T06:38:15.494210Z"
    }
   },
   "outputs": [
    {
     "data": {
      "text/plain": [
       "ACCOUNT NUMBER                                0\n",
       "SITE NUMBER                                   0\n",
       "LEGAL NAME                                    0\n",
       "DOING BUSINESS AS NAME                        1\n",
       "CITY                                          0\n",
       "STATE                                         0\n",
       "ZIP CODE                                     31\n",
       "WARD                                      49701\n",
       "PRECINCT                                  56701\n",
       "WARD PRECINCT                             49700\n",
       "POLICE DISTRICT                           54012\n",
       "LICENSE CODE                                  0\n",
       "LICENSE DESCRIPTION                           0\n",
       "LICENSE NUMBER                                1\n",
       "APPLICATION TYPE                              0\n",
       "CONDITIONAL APPROVAL                          0\n",
       "LATITUDE                                      0\n",
       "LONGITUDE                                     0\n",
       "LICENSE STATUS                                0\n",
       "APPLICATION REQUIREMENTS COMPLETE YEAR        0\n",
       "PAYMENT YEAR                                  0\n",
       "PAYMENT MONTH                              1289\n",
       "LICENSE APPROVED FOR ISSUANCE YEAR            0\n",
       "YEAR ISSUED                                   0\n",
       "LICENSE STATUS CHANGE YEAR                    0\n",
       "LICENSE VALIDITY                              0\n",
       "dtype: int64"
      ]
     },
     "execution_count": 48,
     "metadata": {},
     "output_type": "execute_result"
    }
   ],
   "source": [
    "train.isna().sum()"
   ]
  },
  {
   "cell_type": "code",
   "execution_count": 49,
   "metadata": {
    "ExecuteTime": {
     "end_time": "2022-05-07T06:40:14.035556Z",
     "start_time": "2022-05-07T06:40:13.952686Z"
    }
   },
   "outputs": [
    {
     "data": {
      "text/plain": [
       "ACCOUNT NUMBER                               0\n",
       "SITE NUMBER                                  0\n",
       "LEGAL NAME                                   0\n",
       "DOING BUSINESS AS NAME                       2\n",
       "CITY                                         0\n",
       "STATE                                        0\n",
       "ZIP CODE                                    12\n",
       "WARD                                       626\n",
       "PRECINCT                                  1578\n",
       "WARD PRECINCT                              616\n",
       "POLICE DISTRICT                           1475\n",
       "LICENSE CODE                                 0\n",
       "LICENSE DESCRIPTION                          0\n",
       "LICENSE NUMBER                               0\n",
       "APPLICATION TYPE                             0\n",
       "CONDITIONAL APPROVAL                         0\n",
       "LATITUDE                                     0\n",
       "LONGITUDE                                    0\n",
       "APPLICATION REQUIREMENTS COMPLETE YEAR       0\n",
       "PAYMENT YEAR                                 0\n",
       "PAYMENT MONTH                             1051\n",
       "LICENSE APPROVED FOR ISSUANCE YEAR           0\n",
       "YEAR ISSUED                                  0\n",
       "LICENSE STATUS CHANGE YEAR                   0\n",
       "LICENSE VALIDITY                             0\n",
       "dtype: int64"
      ]
     },
     "execution_count": 49,
     "metadata": {},
     "output_type": "execute_result"
    }
   ],
   "source": [
    "test.isna().sum()"
   ]
  },
  {
   "cell_type": "code",
   "execution_count": 50,
   "metadata": {
    "ExecuteTime": {
     "end_time": "2022-05-07T06:42:30.044403Z",
     "start_time": "2022-05-07T06:42:29.995149Z"
    }
   },
   "outputs": [],
   "source": [
    "# replace NA values of DOING BUSINESS AS NAME with 'None'\n",
    "\n",
    "def impute_none(none_list):\n",
    "    for i in none_list:\n",
    "        train[i] = train[i].fillna('None')\n",
    "        test[i] = test[i].fillna('None')\n",
    "        \n",
    "none_list = ['DOING BUSINESS AS NAME']\n",
    "impute_none(none_list)"
   ]
  },
  {
   "cell_type": "code",
   "execution_count": 51,
   "metadata": {
    "ExecuteTime": {
     "end_time": "2022-05-07T06:42:38.090169Z",
     "start_time": "2022-05-07T06:42:37.899287Z"
    },
    "scrolled": true
   },
   "outputs": [
    {
     "data": {
      "text/plain": [
       "ACCOUNT NUMBER                                0\n",
       "SITE NUMBER                                   0\n",
       "LEGAL NAME                                    0\n",
       "DOING BUSINESS AS NAME                        0\n",
       "CITY                                          0\n",
       "STATE                                         0\n",
       "ZIP CODE                                     31\n",
       "WARD                                      49701\n",
       "PRECINCT                                  56701\n",
       "WARD PRECINCT                             49700\n",
       "POLICE DISTRICT                           54012\n",
       "LICENSE CODE                                  0\n",
       "LICENSE DESCRIPTION                           0\n",
       "LICENSE NUMBER                                1\n",
       "APPLICATION TYPE                              0\n",
       "CONDITIONAL APPROVAL                          0\n",
       "LATITUDE                                      0\n",
       "LONGITUDE                                     0\n",
       "LICENSE STATUS                                0\n",
       "APPLICATION REQUIREMENTS COMPLETE YEAR        0\n",
       "PAYMENT YEAR                                  0\n",
       "PAYMENT MONTH                              1289\n",
       "LICENSE APPROVED FOR ISSUANCE YEAR            0\n",
       "YEAR ISSUED                                   0\n",
       "LICENSE STATUS CHANGE YEAR                    0\n",
       "LICENSE VALIDITY                              0\n",
       "dtype: int64"
      ]
     },
     "execution_count": 51,
     "metadata": {},
     "output_type": "execute_result"
    }
   ],
   "source": [
    "train.isna().sum()"
   ]
  },
  {
   "cell_type": "code",
   "execution_count": 89,
   "metadata": {
    "ExecuteTime": {
     "end_time": "2022-05-07T07:51:08.817517Z",
     "start_time": "2022-05-07T07:51:08.698520Z"
    }
   },
   "outputs": [],
   "source": [
    "# replace missing values in ZIP CODE, WARD, PRECINCT, WARD PRECINCT, POLICE DISTRICT, LICENSE NUMBER, PAYMENT MONTH with 0:\n",
    "\n",
    "def impute_0(list_0):\n",
    "    for i in list_0:\n",
    "        train[i] = train[i].fillna(0)\n",
    "        test[i] = test[i].fillna(0)\n",
    "        \n",
    "list_0 = ['ZIP CODE', 'WARD', 'PRECINCT', 'WARD PRECINCT', 'POLICE DISTRICT', 'LICENSE NUMBER', 'PAYMENT MONTH']\n",
    "impute_0(list_0)"
   ]
  },
  {
   "cell_type": "code",
   "execution_count": 90,
   "metadata": {
    "ExecuteTime": {
     "end_time": "2022-05-07T07:51:10.593375Z",
     "start_time": "2022-05-07T07:51:10.530374Z"
    }
   },
   "outputs": [
    {
     "data": {
      "text/plain": [
       "ACCOUNT NUMBER                            0\n",
       "SITE NUMBER                               0\n",
       "CITY                                      0\n",
       "STATE                                     0\n",
       "ZIP CODE                                  0\n",
       "WARD                                      0\n",
       "PRECINCT                                  0\n",
       "WARD PRECINCT                             0\n",
       "POLICE DISTRICT                           0\n",
       "LICENSE CODE                              0\n",
       "LICENSE DESCRIPTION                       0\n",
       "LICENSE NUMBER                            0\n",
       "APPLICATION TYPE                          0\n",
       "CONDITIONAL APPROVAL                      0\n",
       "LATITUDE                                  0\n",
       "LONGITUDE                                 0\n",
       "LICENSE STATUS                            0\n",
       "APPLICATION REQUIREMENTS COMPLETE YEAR    0\n",
       "PAYMENT YEAR                              0\n",
       "PAYMENT MONTH                             0\n",
       "LICENSE APPROVED FOR ISSUANCE YEAR        0\n",
       "YEAR ISSUED                               0\n",
       "LICENSE STATUS CHANGE YEAR                0\n",
       "LICENSE VALIDITY                          0\n",
       "LEGAL TYPE                                0\n",
       "dtype: int64"
      ]
     },
     "execution_count": 90,
     "metadata": {},
     "output_type": "execute_result"
    }
   ],
   "source": [
    "train.isna().sum()"
   ]
  },
  {
   "cell_type": "code",
   "execution_count": 91,
   "metadata": {
    "ExecuteTime": {
     "end_time": "2022-05-07T07:51:34.576253Z",
     "start_time": "2022-05-07T07:51:34.434080Z"
    }
   },
   "outputs": [
    {
     "data": {
      "text/plain": [
       "0"
      ]
     },
     "execution_count": 91,
     "metadata": {},
     "output_type": "execute_result"
    }
   ],
   "source": [
    "test.isna().sum().sum()"
   ]
  },
  {
   "cell_type": "code",
   "execution_count": 57,
   "metadata": {
    "ExecuteTime": {
     "end_time": "2022-05-07T06:45:34.867438Z",
     "start_time": "2022-05-07T06:45:34.805821Z"
    }
   },
   "outputs": [
    {
     "data": {
      "text/html": [
       "<div>\n",
       "<style scoped>\n",
       "    .dataframe tbody tr th:only-of-type {\n",
       "        vertical-align: middle;\n",
       "    }\n",
       "\n",
       "    .dataframe tbody tr th {\n",
       "        vertical-align: top;\n",
       "    }\n",
       "\n",
       "    .dataframe thead th {\n",
       "        text-align: right;\n",
       "    }\n",
       "</style>\n",
       "<table border=\"1\" class=\"dataframe\">\n",
       "  <thead>\n",
       "    <tr style=\"text-align: right;\">\n",
       "      <th></th>\n",
       "      <th>ACCOUNT NUMBER</th>\n",
       "      <th>SITE NUMBER</th>\n",
       "      <th>LEGAL NAME</th>\n",
       "      <th>DOING BUSINESS AS NAME</th>\n",
       "      <th>CITY</th>\n",
       "      <th>STATE</th>\n",
       "      <th>ZIP CODE</th>\n",
       "      <th>WARD</th>\n",
       "      <th>PRECINCT</th>\n",
       "      <th>WARD PRECINCT</th>\n",
       "      <th>...</th>\n",
       "      <th>LATITUDE</th>\n",
       "      <th>LONGITUDE</th>\n",
       "      <th>LICENSE STATUS</th>\n",
       "      <th>APPLICATION REQUIREMENTS COMPLETE YEAR</th>\n",
       "      <th>PAYMENT YEAR</th>\n",
       "      <th>PAYMENT MONTH</th>\n",
       "      <th>LICENSE APPROVED FOR ISSUANCE YEAR</th>\n",
       "      <th>YEAR ISSUED</th>\n",
       "      <th>LICENSE STATUS CHANGE YEAR</th>\n",
       "      <th>LICENSE VALIDITY</th>\n",
       "    </tr>\n",
       "  </thead>\n",
       "  <tbody>\n",
       "    <tr>\n",
       "      <th>85890</th>\n",
       "      <td>8011</td>\n",
       "      <td>1</td>\n",
       "      <td>UNITED PARCEL SERVICE</td>\n",
       "      <td>UNITED PARCEL SERVICE</td>\n",
       "      <td>CHICAGO</td>\n",
       "      <td>IL</td>\n",
       "      <td>60607</td>\n",
       "      <td>11.0</td>\n",
       "      <td>28.0</td>\n",
       "      <td>11-28</td>\n",
       "      <td>...</td>\n",
       "      <td>41.863501</td>\n",
       "      <td>-87.642210</td>\n",
       "      <td>AAC</td>\n",
       "      <td>2012.0</td>\n",
       "      <td>2012.0</td>\n",
       "      <td>5.0</td>\n",
       "      <td>2012.0</td>\n",
       "      <td>2012</td>\n",
       "      <td>2012.0</td>\n",
       "      <td>2.0</td>\n",
       "    </tr>\n",
       "    <tr>\n",
       "      <th>85891</th>\n",
       "      <td>317725</td>\n",
       "      <td>1</td>\n",
       "      <td>EXPRESS BOARD UP SERVICE, INC.</td>\n",
       "      <td>EXPRESS BOARD UP SERVICE, INC.</td>\n",
       "      <td>MACHESNEY PARK</td>\n",
       "      <td>IL</td>\n",
       "      <td>61115</td>\n",
       "      <td>NaN</td>\n",
       "      <td>NaN</td>\n",
       "      <td>NaN</td>\n",
       "      <td>...</td>\n",
       "      <td>41.880952</td>\n",
       "      <td>-87.681165</td>\n",
       "      <td>AAI</td>\n",
       "      <td>2007.0</td>\n",
       "      <td>2007.0</td>\n",
       "      <td>5.0</td>\n",
       "      <td>2007.0</td>\n",
       "      <td>2007</td>\n",
       "      <td>2009.0</td>\n",
       "      <td>2.0</td>\n",
       "    </tr>\n",
       "    <tr>\n",
       "      <th>85892</th>\n",
       "      <td>8458</td>\n",
       "      <td>2</td>\n",
       "      <td>ARAMARK SMMS LLC</td>\n",
       "      <td>ARAMARK FACILITY SERVICES</td>\n",
       "      <td>DOWNERS GROVE</td>\n",
       "      <td>IL</td>\n",
       "      <td>60515</td>\n",
       "      <td>NaN</td>\n",
       "      <td>NaN</td>\n",
       "      <td>NaN</td>\n",
       "      <td>...</td>\n",
       "      <td>41.880952</td>\n",
       "      <td>-87.681165</td>\n",
       "      <td>AAI</td>\n",
       "      <td>2008.0</td>\n",
       "      <td>2009.0</td>\n",
       "      <td>1.0</td>\n",
       "      <td>2009.0</td>\n",
       "      <td>2009</td>\n",
       "      <td>2009.0</td>\n",
       "      <td>2.0</td>\n",
       "    </tr>\n",
       "    <tr>\n",
       "      <th>85893</th>\n",
       "      <td>2156</td>\n",
       "      <td>43</td>\n",
       "      <td>GENERAL NUTRITION CORPORATION</td>\n",
       "      <td>GENERAL NUTRITION CENTER # 61</td>\n",
       "      <td>CHICAGO</td>\n",
       "      <td>IL</td>\n",
       "      <td>60632</td>\n",
       "      <td>23.0</td>\n",
       "      <td>NaN</td>\n",
       "      <td>23-</td>\n",
       "      <td>...</td>\n",
       "      <td>41.799012</td>\n",
       "      <td>-87.723181</td>\n",
       "      <td>AAC</td>\n",
       "      <td>2011.0</td>\n",
       "      <td>2011.0</td>\n",
       "      <td>10.0</td>\n",
       "      <td>2011.0</td>\n",
       "      <td>2011</td>\n",
       "      <td>2012.0</td>\n",
       "      <td>2.0</td>\n",
       "    </tr>\n",
       "    <tr>\n",
       "      <th>85894</th>\n",
       "      <td>205936</td>\n",
       "      <td>1</td>\n",
       "      <td>JUAN CARLOS ERAZO</td>\n",
       "      <td>CASA DE JUAN RESTAURANT</td>\n",
       "      <td>CHICAGO</td>\n",
       "      <td>IL</td>\n",
       "      <td>60639</td>\n",
       "      <td>30.0</td>\n",
       "      <td>52.0</td>\n",
       "      <td>30-52</td>\n",
       "      <td>...</td>\n",
       "      <td>41.924004</td>\n",
       "      <td>-87.771507</td>\n",
       "      <td>AAC</td>\n",
       "      <td>2003.0</td>\n",
       "      <td>2004.0</td>\n",
       "      <td>2.0</td>\n",
       "      <td>2003.0</td>\n",
       "      <td>2004</td>\n",
       "      <td>2005.0</td>\n",
       "      <td>1.0</td>\n",
       "    </tr>\n",
       "  </tbody>\n",
       "</table>\n",
       "<p>5 rows × 26 columns</p>\n",
       "</div>"
      ],
      "text/plain": [
       "       ACCOUNT NUMBER  SITE NUMBER                      LEGAL NAME  \\\n",
       "85890            8011            1           UNITED PARCEL SERVICE   \n",
       "85891          317725            1  EXPRESS BOARD UP SERVICE, INC.   \n",
       "85892            8458            2                ARAMARK SMMS LLC   \n",
       "85893            2156           43   GENERAL NUTRITION CORPORATION   \n",
       "85894          205936            1               JUAN CARLOS ERAZO   \n",
       "\n",
       "               DOING BUSINESS AS NAME            CITY STATE ZIP CODE  WARD  \\\n",
       "85890           UNITED PARCEL SERVICE         CHICAGO    IL    60607  11.0   \n",
       "85891  EXPRESS BOARD UP SERVICE, INC.  MACHESNEY PARK    IL    61115   NaN   \n",
       "85892       ARAMARK FACILITY SERVICES   DOWNERS GROVE    IL    60515   NaN   \n",
       "85893   GENERAL NUTRITION CENTER # 61         CHICAGO    IL    60632  23.0   \n",
       "85894         CASA DE JUAN RESTAURANT         CHICAGO    IL    60639  30.0   \n",
       "\n",
       "       PRECINCT WARD PRECINCT  ...   LATITUDE  LONGITUDE LICENSE STATUS  \\\n",
       "85890      28.0         11-28  ...  41.863501 -87.642210            AAC   \n",
       "85891       NaN           NaN  ...  41.880952 -87.681165            AAI   \n",
       "85892       NaN           NaN  ...  41.880952 -87.681165            AAI   \n",
       "85893       NaN           23-  ...  41.799012 -87.723181            AAC   \n",
       "85894      52.0         30-52  ...  41.924004 -87.771507            AAC   \n",
       "\n",
       "       APPLICATION REQUIREMENTS COMPLETE YEAR PAYMENT YEAR PAYMENT MONTH  \\\n",
       "85890                                  2012.0       2012.0           5.0   \n",
       "85891                                  2007.0       2007.0           5.0   \n",
       "85892                                  2008.0       2009.0           1.0   \n",
       "85893                                  2011.0       2011.0          10.0   \n",
       "85894                                  2003.0       2004.0           2.0   \n",
       "\n",
       "       LICENSE APPROVED FOR ISSUANCE YEAR  YEAR ISSUED  \\\n",
       "85890                              2012.0         2012   \n",
       "85891                              2007.0         2007   \n",
       "85892                              2009.0         2009   \n",
       "85893                              2011.0         2011   \n",
       "85894                              2003.0         2004   \n",
       "\n",
       "      LICENSE STATUS CHANGE YEAR  LICENSE VALIDITY  \n",
       "85890                     2012.0               2.0  \n",
       "85891                     2009.0               2.0  \n",
       "85892                     2009.0               2.0  \n",
       "85893                     2012.0               2.0  \n",
       "85894                     2005.0               1.0  \n",
       "\n",
       "[5 rows x 26 columns]"
      ]
     },
     "execution_count": 57,
     "metadata": {},
     "output_type": "execute_result"
    }
   ],
   "source": [
    "train.tail()"
   ]
  },
  {
   "cell_type": "code",
   "execution_count": 58,
   "metadata": {
    "ExecuteTime": {
     "end_time": "2022-05-07T06:47:41.140416Z",
     "start_time": "2022-05-07T06:47:40.943284Z"
    }
   },
   "outputs": [
    {
     "data": {
      "text/plain": [
       "0                           RS HOMES I LLC\n",
       "1                           CSX INTERMODAL\n",
       "2                     LOCOMOBILE LOFTS LLC\n",
       "3                          ANNA F. JAMISON\n",
       "4                                  DETAILS\n",
       "                       ...                \n",
       "57234    GOODHEALTH MEDICAL PRODUCTS, INC.\n",
       "57235                            INTERPARK\n",
       "57236                         TOP CLEANERS\n",
       "57237         D. C. A. TOWING INCORPORATED\n",
       "57238             MARI'S CLEANING SERVICES\n",
       "Name: DOING BUSINESS AS NAME, Length: 57239, dtype: object"
      ]
     },
     "execution_count": 58,
     "metadata": {},
     "output_type": "execute_result"
    }
   ],
   "source": [
    "train['LEGAL NAME'].apply(lambda x: x.upper())\n",
    "train['DOING BUSINESS AS NAME'].apply(lambda x: x.upper())\n",
    "test['LEGAL NAME'].apply(lambda x: x.upper())\n",
    "test['DOING BUSINESS AS NAME'].apply(lambda x: x.upper())"
   ]
  },
  {
   "cell_type": "code",
   "execution_count": 59,
   "metadata": {
    "ExecuteTime": {
     "end_time": "2022-05-07T06:51:00.912300Z",
     "start_time": "2022-05-07T06:51:00.575021Z"
    }
   },
   "outputs": [],
   "source": [
    "train['LEGAL NAME'] = train['LEGAL NAME'].str.replace('.', '', regex= False)\n",
    "train['DOING BUSINESS AS NAME'] = train['DOING BUSINESS AS NAME'].str.replace('.', '', regex= False)\n",
    "\n",
    "test['LEGAL NAME'] = test['LEGAL NAME'].str.replace('.', '', regex= False)\n",
    "test['DOING BUSINESS AS NAME'] = test['DOING BUSINESS AS NAME'].str.replace('.', '', regex= False)"
   ]
  },
  {
   "cell_type": "code",
   "execution_count": 60,
   "metadata": {
    "ExecuteTime": {
     "end_time": "2022-05-07T06:51:53.270529Z",
     "start_time": "2022-05-07T06:51:53.129564Z"
    }
   },
   "outputs": [],
   "source": [
    "train['LEGAL TYPE'] = 'PVT'\n",
    "test['LEGAL TYPE'] = 'PVT'"
   ]
  },
  {
   "cell_type": "code",
   "execution_count": 67,
   "metadata": {
    "ExecuteTime": {
     "end_time": "2022-05-07T07:00:27.913679Z",
     "start_time": "2022-05-07T07:00:27.825384Z"
    },
    "scrolled": true
   },
   "outputs": [
    {
     "data": {
      "text/plain": [
       "['CARMEN CAHUE',\n",
       " 'ISLA TROPICAL, INC',\n",
       " 'DJS REMODELING',\n",
       " 'ALL-BRY CONSTRUCTION CO',\n",
       " 'MCDONOUGH MECHANICAL SERVICE',\n",
       " 'QUALITY PLUMBING SERVICES INC',\n",
       " 'FELIX BARRERA',\n",
       " 'INTERSTATE MECHANICAL & CONSTRUCTION INC',\n",
       " 'LESLIE LOCKETT',\n",
       " 'JOY CHEMMACHEL',\n",
       " 'EMILIO RODRIQUEZ',\n",
       " 'ARTHUR FRANCIS',\n",
       " 'FIDEL VILLEDA',\n",
       " 'MILAN & LUKA BILJAN',\n",
       " 'AMERICAN PRIDE HEATING & COOLING, INC',\n",
       " 'LAYLA F JUDEH',\n",
       " 'SODEXO MANAGEMENT, INC',\n",
       " 'DESIGN INSTALLATION SYSTEMS INC',\n",
       " 'NORTH AMERICAN MIDWAY ENTERTAINMENT ASTRO AMUSEMEN',\n",
       " 'INNOVATIVE INSULATION',\n",
       " 'THANH HANG THI TRUONG',\n",
       " 'ERICKSON AMUSEMENTS, INC',\n",
       " 'NORTHWEST AIRLINES INC',\n",
       " 'NAUGHTON HEATING & AIR CONDITIONING',\n",
       " 'B & N HEATING & AIR COND INC',\n",
       " 'DAVID T MALLY',\n",
       " 'MARIO P MAJEWSKI',\n",
       " 'LOVATT & RADCLIFFE, LTD',\n",
       " 'WOJCIECH NAZUR',\n",
       " 'J & R AMUSEMENT CO INC',\n",
       " 'WESTOWER COMMUNICATIONS, INC',\n",
       " 'HERMINIA GARCIA',\n",
       " 'CENTRAL PRINT SERVICES, INC',\n",
       " \"AWGUL'S CORP\",\n",
       " 'SCANDINAVIAN BUILDERS LIMITED',\n",
       " 'DEDERICHS HOME IMPROVEMENT CO',\n",
       " 'M & T CREDIT SERVICES, LLC',\n",
       " 'REGINALD L HOWZE SR',\n",
       " 'LANE BRYANT #4530, LLC',\n",
       " 'PHOENIX EVENT SERVICES',\n",
       " 'JUSTIN J BOEREMA',\n",
       " 'Designers Hair Gallery, Incorporated',\n",
       " 'DYNA-ROOTER INC',\n",
       " 'EUDO/EXO INC',\n",
       " \"ALBERTO'S GROUP CLEANING, INC\",\n",
       " 'Green Envee Organics, Inc',\n",
       " 'ISAI F PAGAZA',\n",
       " 'ECLIPSE USA INC',\n",
       " 'BIND-IT CORPORATION',\n",
       " 'QIDEAS INC',\n",
       " 'Touched Dreams Entertainment Inc',\n",
       " 'DAREK ZAK',\n",
       " 'SWEPT AWAY SNOW REMOVAL',\n",
       " 'HERBERT K PETERSEN',\n",
       " 'VICTOR EDUARDO VERDE',\n",
       " 'VITALIY MOTYASHOK',\n",
       " 'JAYCE THOMAS, JUSTIN WRICE, AARON HOPKINS',\n",
       " 'T VICTOR CONSTRUCTION INC',\n",
       " 'BEN EZZO DISCOUNT, INC',\n",
       " 'C & A ROOFING INC',\n",
       " 'DYNAMIC ASPHALT MAINTENANCE,INC',\n",
       " 'ANDREW BLYTH',\n",
       " 'VERTEX INC',\n",
       " 'EVELYN WILSON',\n",
       " 'MAXIM ELECTRICAL CONTRACTORS, INC',\n",
       " 'Channeled Resources Inc',\n",
       " 'ELIZABETH SIMKIN',\n",
       " 'ELIAS P PATRAS',\n",
       " 'HECTOR SANCHEZ',\n",
       " 'THE DETROIT SALT COMPANY, LLC',\n",
       " 'BLUE ISLAND DISCOUNT CENTER',\n",
       " 'SUSAN L FERRARO',\n",
       " 'K D HOME IMPROVEMENT,INC',\n",
       " 'LESLIE HINDMAN AUCTIONEERS, INC',\n",
       " \"BETTY L O'BANNON-SALEIKA\",\n",
       " 'MICHAEL JOHN MCGUIGAN',\n",
       " 'JIMMY THE LE',\n",
       " 'MULROY DEMOLITION AND EXCAVATION, LLC',\n",
       " 'Thomas Sohn',\n",
       " 'CHICAGO FLOORING INNOVATIONS, INC',\n",
       " 'PEDRO DIAZ',\n",
       " 'Crossfit Defined LLC',\n",
       " 'CLASSIC TICKETS INC',\n",
       " 'LUNT ARMS, LLC',\n",
       " 'LUNA HEATING AND COOLING, INC',\n",
       " 'LETICIA SALGADO',\n",
       " 'ROBERT LEROY ENTERPRISES, INC',\n",
       " \"ERNESTO'S GROCERY STORE, INC\",\n",
       " 'GI-LA BUILDERS INC',\n",
       " 'CENTURY SUPPLY CO',\n",
       " 'Hee T Kim',\n",
       " 'HARRY JOSEPH CARTER JR',\n",
       " 'THOMAS & NARAYANAN, INC',\n",
       " 'BRAINSURF INFORMATICS INC',\n",
       " 'STANCIL REMODELING COMPANY, INC',\n",
       " 'FAITH TRUCK LINES II, INC',\n",
       " 'BETUNIA CITGO INC',\n",
       " 'BEAUTY WORLD USA, INC',\n",
       " 'GARY MACIEJEWSKI',\n",
       " 'KBC MECHANICAL INC',\n",
       " 'DORU VIDICAN',\n",
       " 'ANNA GEORGE LTD',\n",
       " 'ZBIGNIEW CWIK',\n",
       " 'CARL JOHANSON & SON CONSTRUCTION',\n",
       " 'DON C MUSICK CONSTRUCTION CO I',\n",
       " 'ACCURATE MECHANICAL CONTROL, INC',\n",
       " 'VIRGIL ALLEN',\n",
       " 'DURAN CONSTRUCTION INC',\n",
       " 'TANYA DEANN WAITS',\n",
       " 'NOMBACH COMPANY, INC',\n",
       " 'MATHEW BENDER & CO, INC',\n",
       " 'ABSOLUTE MEDICAL, INC',\n",
       " 'BILT-RITE TILE INDUSTRIES INC',\n",
       " 'MIDWEST VALET, INC',\n",
       " 'ABOVE AND BEYOND CONSTRUCTION',\n",
       " 'WIRELESS VISION, LLC',\n",
       " 'WESLEY & TED CORPORATION',\n",
       " 'SUPERIOR DECORATING & GEN CONT',\n",
       " 'GROOT RECYCLING & WASTE SERVICES, INC',\n",
       " 'CVS INDIANA, LLC',\n",
       " 'NEW FRONTIER REAL ESTATE DEVELOPMENT, INC',\n",
       " 'DENNIS M MCMAHON',\n",
       " 'Crocs Retail, Inc',\n",
       " 'GRANITE STARS, INC',\n",
       " 'LEAH K PARK',\n",
       " 'M-K SIGNS INC',\n",
       " 'WINTIME INTERNATIONAL CORPORATION',\n",
       " 'DONE RITE RECOVERY SERVICES, INC',\n",
       " 'ROY STROM REFUSE INC',\n",
       " 'BRAD ALAN PERRY',\n",
       " 'DELTA FINANCIALS, INC',\n",
       " 'SCHULER INTERIORS INC',\n",
       " 'RINGLAND JOHNSON  INC',\n",
       " 'ALTRA SOURCE INC',\n",
       " 'PROTECTCO INC',\n",
       " 'JOSE PAGAN',\n",
       " 'THOMAS PAINTING & DECORATING, INC',\n",
       " 'JOSE J MACIAS',\n",
       " 'VINCENT J RICCIARDI',\n",
       " 'TCN FUTURE CORP',\n",
       " 'DYLAN T LOTT',\n",
       " 'ENVIRONMENTAL CLEANSING CORP',\n",
       " 'MERRILL IRON & STEEL INC',\n",
       " 'ALL BROTHERS PAINTING & DECORATING INC',\n",
       " 'ALBA CONSTRUCTION INC',\n",
       " 'PATHWAY DEVELOPMENT LLC',\n",
       " 'WASTE MANAGEMENT OF ILLINOIS INC',\n",
       " 'PALETERIA PONCHO INC',\n",
       " 'MARTHA DAVILA',\n",
       " 'ALPHA ZETA, INC',\n",
       " 'CLARENDON MINI MART INC',\n",
       " 'RODOLFO AVILA',\n",
       " 'DEMETRIOS CHRISTAKOS',\n",
       " 'MICHAEL E CARR',\n",
       " 'MY PRIVATE CHEF, INC',\n",
       " 'Gipson Groundwork',\n",
       " 'J WELTER& SONS INC',\n",
       " 'DI PAOLO COMPANY INC',\n",
       " 'AIDA & METANIOS ELRASSI',\n",
       " 'MARIO ALBERTO ARELLANO-REAL',\n",
       " 'MODESTO FUENTES',\n",
       " 'FFQ CONSTRUCTION CO',\n",
       " 'VALLEY GLASS COMPANY, INC',\n",
       " 'MARTIN MECHANICAL CORPORATION',\n",
       " 'ANDREW MARTIN HERTZBERG',\n",
       " 'ROSARIO SCALISE',\n",
       " 'A J MAGGIO CO',\n",
       " 'MCGINNIS PLUMBING CO INC',\n",
       " 'LESLIE ELLEN KEMP',\n",
       " 'ELM HEATING & COOLING, INCORPORATED',\n",
       " 'ASHBURY CORP',\n",
       " 'WILLIAM BLAKE CANNON',\n",
       " 'PC POWER SYSTEMS INC',\n",
       " 'SUNSHINE COMMERCIAL SERVICES, INC',\n",
       " 'FOLLETT HIGHER EDUCATION GROUP, INC',\n",
       " 'ALTHOFF INDUSTRIES, INC',\n",
       " 'VAN TO TRAN',\n",
       " 'THE FLAX COMPANY',\n",
       " 'ALLIED WASTE TRANSPORTATION, INC',\n",
       " 'GREAT LAKES RESTORATION, INC',\n",
       " \"Brennan's Environmental Services, Inc\",\n",
       " 'JRT SERVICES INC',\n",
       " 'ROLAND B SHARPE',\n",
       " 'AlphaMetrix 360, LLC',\n",
       " 'WAUD CAPITAL PARTNERS, LLC',\n",
       " \"VAN'S INDUSTRIAL\",\n",
       " 'YURI YEVDOKIM SCHEGELSKY',\n",
       " 'TERRACON CONSULTANTS, INC',\n",
       " 'KALISH ELECTRIC CO',\n",
       " 'GC Pivotal, LLC',\n",
       " 'M N A FOOD & LIQUOR',\n",
       " 'MARTHA L PALACIOS',\n",
       " 'Around The Town Heating & Cooling, Inc',\n",
       " 'JUNIPER CONSTRUCTION & DESIGN',\n",
       " 'ALLIED WASTE INDUSTRIES INC',\n",
       " 'MARK NIEGO & COMPANY, INC',\n",
       " \"BIG O'LIQUOR & FOOD STORE INC\",\n",
       " \"MARIE'S PET GROOMING INC\",\n",
       " 'MARINA CARTAGE INC',\n",
       " 'JOHN MAIER COMPANY',\n",
       " 'ADVANCED AIR SERVICES, INC',\n",
       " 'ECONOMY LIQUORS, INC',\n",
       " 'COATINGS APPLICATION & WATERPR',\n",
       " 'BAP ENTERPRISES INC',\n",
       " 'ESTATE TITLE GROUP, LLC',\n",
       " 'KELLY SERVICES, INC',\n",
       " 'RAZORFISH LLC',\n",
       " 'SOCORRO MARTINEZ',\n",
       " 'KAG DECORATION AND LANDSCAPING CORPORATION',\n",
       " 'JEAN M KOWALL',\n",
       " 'ZYAD GHAZI HADDAD',\n",
       " 'S & J TOWING & RECOVERY INC',\n",
       " 'ZENAIDA GAMEZ',\n",
       " 'FOTOFABRICATION CORPORATION',\n",
       " \"DOMINICK'S FINER FOODS, LLC\",\n",
       " 'JOSE DANIEL LOPEZ',\n",
       " 'MEAGAN J CADE',\n",
       " 'SIMON ELKIND',\n",
       " 'SHERMAN MECHANICAL,INC',\n",
       " 'UNIVERSAL MECHANICAL INC',\n",
       " 'COMPLETE CUSTOM SERVICES, INC',\n",
       " 'JUANELL F STENNIS',\n",
       " 'PRAIRIE CONTRACTORS INC',\n",
       " '51ST EXPRESS FOOD & LIQUOR INC',\n",
       " 'PETER PHAM',\n",
       " 'HARRINGTON EXCAVATING & CONSTRUCTION',\n",
       " 'ALL AMERICAN CONTRACTORS, INC',\n",
       " 'METAL INSTALLATIONS INCORPORATED',\n",
       " 'BUFALO CEMENT WORKS, INC',\n",
       " 'RAMON VELASCO',\n",
       " 'JOSEPH VINCENT BASTIEN',\n",
       " \"HECKLE N' JECKLE INC\",\n",
       " \"WORLD'S FINEST CHOCOLATE INC\",\n",
       " 'MARIA DE LA LUZ ANAYA-ZAMORA',\n",
       " 'ELIAS SHAMUEL',\n",
       " 'GIEDRA ZEGLINSKIENE',\n",
       " 'CARPET FOR LESS',\n",
       " 'WILLIAM A MALDONADO',\n",
       " 'CIRO LOPEZ',\n",
       " 'United Investments of illinois Inc',\n",
       " 'PATRICIA PAGE',\n",
       " 'RUSSELL LEE',\n",
       " 'ZT DOLLAR EXCHANGE, INC',\n",
       " 'ZENNIE W LYNCH',\n",
       " 'EL LAUREL RESTAURANT INC',\n",
       " \"HARRY'S KINZIE, INC\",\n",
       " 'MANUEL PEREZ',\n",
       " 'EMPRESS AUTO GROUP, LTD',\n",
       " 'TJG ENTERPRISES, INC',\n",
       " 'HARMONY REMODELING INC',\n",
       " 'ALKA CONSTRUCTION OF ILLINOIS, INC',\n",
       " 'RADIOSHACK CORPORATION',\n",
       " 'MAMA LOUKAS, INC',\n",
       " 'QU-BAR, INC',\n",
       " 'CHAN & HYEON INC',\n",
       " 'HEATING & COOLING EXPRESS INC',\n",
       " 'JOSEFA CARRASQUILLO',\n",
       " 'PRECISION CONTROL SYSTEMS',\n",
       " 'Ridgewood Enterprise Inc',\n",
       " 'LMD INC',\n",
       " 'LAND AND LAKES DISPOSAL SERVICES, LLC',\n",
       " 'LEVY TOWER LIMITED PARTNERSHIP',\n",
       " 'URBAN PROPERTIES DEVELOPMENT INC',\n",
       " 'J & J AIRCONDITIONING & HEATING INC',\n",
       " 'HICKORY OAKS CONSTRUCTION',\n",
       " 'DOSSARY AMOR REYES',\n",
       " 'PETRU HORA',\n",
       " 'QV CONSTRUCTION INC',\n",
       " 'ALION SCIENCE AND TECHNOLOGY CORPORATION',\n",
       " 'Alicja Zmuda',\n",
       " 'JLL CONSTRUCTION SERVICES',\n",
       " 'MARJORIE BENNETT LARSON',\n",
       " 'HOLISTIC NURSING INC',\n",
       " 'MITSUBISHI ELECTRIC US, INC',\n",
       " 'JOSE ABEL FERNANDEZ',\n",
       " 'KAITLIN MEREDITH CHIN',\n",
       " 'N H ENVIROMENTAL',\n",
       " 'ANNITRA S TAYLOR',\n",
       " 'JASON S GILMAN',\n",
       " 'JOSEPH NOWAK',\n",
       " 'CARL ROBERT SCHMITT',\n",
       " 'NUMERTECH, LTD',\n",
       " 'STEVEN FELDMAN',\n",
       " 'ANNA RAJTER',\n",
       " 'ARC ENVIRONMENTAL CONSULTANTS, INC',\n",
       " 'Precision Window Tinting LLC',\n",
       " 'LADY LUCK ENTERPRISES INC',\n",
       " 'I & D STONE INC',\n",
       " 'WARREN AVERY',\n",
       " 'AMERICAN MILLENNIUM INC',\n",
       " 'GHADIR 12, INC',\n",
       " 'MARY JONES',\n",
       " 'WAXMAN CANDLES CHICAGO',\n",
       " 'Trump Treasure',\n",
       " 'SHAHID INCORPORATED',\n",
       " 'BUSINESS WIRE',\n",
       " 'MARGARET INTERNATIONAL, INC',\n",
       " 'MIRZA P AURAHA',\n",
       " 'NORTHLAND SERVICES INC',\n",
       " 'AINT THAT SWEET INC',\n",
       " 'NOVA CONSTRUCTION OF ILLINOIS',\n",
       " 'ASSOCIATED BROKERS OF ILL',\n",
       " '5 T CONSTRUCTION INC',\n",
       " 'SPRING PILATES WELLNESS CENTER, LLC',\n",
       " 'SKIBA CONSTRUCTION, INC',\n",
       " 'US RESIDENTIAL MANAGEMENT, LLC',\n",
       " 'TKX TRANSPORT REFRIGERATION SE',\n",
       " 'AMERICAN CONCORDE SYSTEMS INC',\n",
       " 'ED SIGNS, INC',\n",
       " 'JORGE MUNOZ',\n",
       " 'GRIFFIN PLATING CO INC',\n",
       " 'JIN DOO KIM',\n",
       " 'BIG ASH FINE CIGARS & TOBACCOS, INC',\n",
       " 'MILES & CO',\n",
       " 'BLIND DUCK LOUNGE INC',\n",
       " 'BARBARA L ROBINS',\n",
       " \"SWEET MANDY B'S, INC\",\n",
       " 'HIGHLAND PARK CVS, LLC',\n",
       " 'ALEJANDRO  G  GARCIA',\n",
       " 'FIRST CLASS, INC',\n",
       " 'The Playful Pup, Inc',\n",
       " 'CARLOS MUNHOZ',\n",
       " 'MRMS, INC',\n",
       " 'MILLARD MAINTENANCE SERVICE CO',\n",
       " 'LARIX, INC',\n",
       " 'SZABO ROOTERMAN PLUMBING',\n",
       " 'HIGH RISE SECURITY SYSTEMS, LLC',\n",
       " 'SONG SIM',\n",
       " 'BRITISH AIRWAYS PLC CORPORATION',\n",
       " 'RYAN FRANK CORSARO',\n",
       " 'SHINE-AWN INC',\n",
       " 'FLANAGAN CONSTRUCTION INC',\n",
       " 'CLOH REAL ESTATE GROUP',\n",
       " 'BOZENA BUDZYNSKA',\n",
       " 'EMCO GEARS, INC',\n",
       " 'CERMAK CITGO, INC',\n",
       " 'NG CORPORATION',\n",
       " 'X-CELL COMMUNICATIONS OF CHICAGO CORP',\n",
       " 'EVA JUAREZ HERNANDEZ',\n",
       " 'ANDREW C JEKIEL',\n",
       " 'JEWEL FOOD STORES, INC',\n",
       " 'DANIEL G GARCIA',\n",
       " 'DETAIL CONCRETE INC',\n",
       " 'ADVENT SYSTEMS INC',\n",
       " 'CAMREN LEE BROWN',\n",
       " 'ARACELY GAMBOA',\n",
       " \"THAT'S OUR BAG, INC\",\n",
       " 'SARA B, INC',\n",
       " 'NEUROTHERAPEUTICS PHARMA, INC',\n",
       " 'ANGEL RIVERA',\n",
       " 'FRANCISCO DAMIAN MOLINA',\n",
       " 'SUBURBAN ELEVATOR CO',\n",
       " 'KENNETH T SIMMONS',\n",
       " 'ALFRED FRICANO',\n",
       " 'BERMAR PROPERTIES, LLC',\n",
       " 'PROVIEW CONSTRUCTION CO',\n",
       " 'FLASH TAX SERVICE, INC',\n",
       " 'SCOTT L CHENOW',\n",
       " 'ALLIED WASTE TRANSPORTATION INC',\n",
       " 'DANIEL  GARCIA',\n",
       " 'KAMIL GIZYCKI & MARCIN KOWALEWSKI',\n",
       " 'RUBEN MENDEZ',\n",
       " 'Copy Cat Cleaning Corporation',\n",
       " 'FRANK W RZEPKA',\n",
       " 'IPEK GUNDOGDU',\n",
       " 'RUSSELL BUTLER',\n",
       " 'R J B PROPERTIES INC',\n",
       " 'FE ROOFTEC CORPORATION',\n",
       " 'Eyequilt, Inc',\n",
       " 'BELLO PLAZA, INC',\n",
       " 'MID CITY CONSTRUCTION INC',\n",
       " 'RAVEN AVIATION LLC',\n",
       " 'CHETAN C JOSHI',\n",
       " 'RAE H P REYNOLDS',\n",
       " 'INTEGRITY BUILDING & RENOVATION, INC',\n",
       " 'TENANT PROJECT SERVICES INC',\n",
       " 'JAMES M BARTLEY',\n",
       " 'OCEAN MIST, INC',\n",
       " 'DEMOX, INC',\n",
       " 'M & F MEGAMARKET, INC',\n",
       " 'CROUCH-WALKER CORPORATION',\n",
       " 'VIOLETAS PERMIT & BUSINESS LICENSE LLC',\n",
       " 'Z CORP SERVICES, INC',\n",
       " 'FRONTLINE SEWER & WATER SPECIALIST, INC',\n",
       " 'THE ASHLAND ARMS GUEST HOUSE, INC',\n",
       " \"ALEXANDER'S HEATING/COOLING CO\",\n",
       " 'DTLR, INC',\n",
       " 'TREMONT BUILDING SERVICE INC',\n",
       " 'CONNER TRUCKIN OF IL INC',\n",
       " 'OCASIO CONSTRUCTION CO',\n",
       " 'DEVIN P HORTON',\n",
       " 'MARTEZ J  CONNER',\n",
       " 'ERNESTAS KAVOLIUNAS',\n",
       " 'TIDWELL CONSTRUCTION LTD',\n",
       " 'M G HOME IMPROVEMENT CORP',\n",
       " 'RANQUIST DEVELOPMENT, INC',\n",
       " 'TIMOTHY L ELVERY',\n",
       " 'VARIETY REMODELING INC',\n",
       " 'EUGENIA  WALKER- FRANKLIN',\n",
       " 'CHICAGO ALE HOUSE, RAW BAR AND GRILL, LTD',\n",
       " 'DELL PLUMBING CO INC',\n",
       " 'HARRIS INDUSTRIES INC',\n",
       " 'OTIS T SPAULDING',\n",
       " 'NORBERT D PLENCER',\n",
       " 'CARLOS SOLIS',\n",
       " 'WOO DEVELOPMENT AND INVESTMENT, INC',\n",
       " 'BEST BUY STORES, LP',\n",
       " 'FAIRBORN EQUIPMENT CO',\n",
       " 'TERRENCE WAYNE MCCULLOUGH',\n",
       " 'LA & A CONSTRUCTION, INC',\n",
       " 'SERIGNE F DIOP',\n",
       " 'MARIA TERESA VILLARRUEL',\n",
       " 'DEBRA L GARY',\n",
       " 'EVEREADY MULTIPLE SERVICE INC',\n",
       " 'DORIN MODERN CONSTRUCTION COMPANY',\n",
       " 'HUGO NAVARRO',\n",
       " 'RAND FINANCIAL SERVICES INC',\n",
       " 'RAM MECHANICAL SERVICE INC',\n",
       " 'QSR, INC',\n",
       " 'ANDERSON & SHAH ROOFING INC',\n",
       " 'JOSH HARP',\n",
       " 'J P Concrete Service, Inc',\n",
       " 'CHAMPION ENV SERVICES  INC',\n",
       " 'SENHAY NADZAKU',\n",
       " 'VIEWPOINTS NETWORK, LLC',\n",
       " 'E B ELECTRICAL BUSINESS INC',\n",
       " 'NAVARROS SERVICES HEATING & COOLING',\n",
       " 'INSIDE DIMENSIONS',\n",
       " 'AVG HEATING COOLING INC',\n",
       " 'DrMark J Stone',\n",
       " 'AUTOZONE PARTS INC',\n",
       " 'ONSCAPE, INC',\n",
       " 'INTRASTATE MILLWRIGHTSERVICES',\n",
       " 'CUT ME LOOSE LTD',\n",
       " 'BALANCE ENERGY LLC',\n",
       " \"TOMM'S REDEMPTION, INC\",\n",
       " 'FORTINI & SON',\n",
       " 'ZBIGNIEW WALAS',\n",
       " \"CHEWIE'S MOTORBIKES, INC\",\n",
       " 'RESTORATIONS  UNLIMITED INC',\n",
       " 'AUTO REPAIR BP CORPORATION',\n",
       " 'LUDELLA LEWIS',\n",
       " 'ALEKSANDER KASIELSKI',\n",
       " 'RUDAS ENTERPRISES, INC',\n",
       " 'DOLLAR WAY PLUS, INC',\n",
       " 'DOGGY DOOZ, INC',\n",
       " 'DARNEL HARRIS',\n",
       " 'DYNAMIC WRECKING & EXCAVATION, INC',\n",
       " 'MATTHEWS MEDICAL & SCIENTIFIC BOOKS, INC',\n",
       " 'MP 13TH STREET TOWER LLC',\n",
       " \"WONDAAL'S HEATING & A/C INC\",\n",
       " 'FELDCO FACTORY DIRECT, LLC',\n",
       " 'DRESS UP INC',\n",
       " 'ARTISAN HEATING AND COOLING INC',\n",
       " 'BRIAN K ELMORE',\n",
       " 'CHRISTIANO MOTORS, INC',\n",
       " 'ELGIN SHEET METAL COMPANY',\n",
       " 'CH2M HILL Engineers, INC',\n",
       " 'SPORTS & ENTERTAINMENT HOLDINGS, INC',\n",
       " 'JACOB DAVID SHUBAT',\n",
       " 'JOSE SEVILLA',\n",
       " 'FITNESS INTERNATIONAL, LLC',\n",
       " 'SAM SCHWARTZ ENGINEERING, PLLC',\n",
       " 'CUBA MATRIX',\n",
       " 'FRESH LOOK CONSTRUCTION INC',\n",
       " 'BULLOCK, LOGAN AND ASSOCIATES, INC',\n",
       " 'ALAN L FARNSWORTH',\n",
       " 'GREEN,TAYLOR,MILLER,JOHNSON',\n",
       " 'HONEY \"B\" ENTERPRISES INC',\n",
       " 'JODY UPP',\n",
       " 'JM LANDSCAPING I, INC',\n",
       " 'ADVANCED SEWER & PLUMBING, INC',\n",
       " 'HOANG KIM CORP',\n",
       " 'MAURITZON INC',\n",
       " 'SIMBORG DEVELOPMENT INC',\n",
       " 'OAK WORTH PLUMBING, INC',\n",
       " 'Barnes & Noble College Booksellers, LLC',\n",
       " 'W E BISHOP & CO',\n",
       " 'DAVID J WITTHOFF',\n",
       " 'R & L TRANSFER, INC',\n",
       " 'MICHAEL R  DENNIS',\n",
       " 'BAGHDAD ZABIHA HALAL MEAT INC',\n",
       " 'ALICE K SZETO',\n",
       " 'LEONARDO LOPEZ',\n",
       " 'K & R ASSOCIATES INC',\n",
       " \"CHICAGO O'HARE LEATHER CONCESSION\",\n",
       " 'JAMES STEPHEN BARRUS',\n",
       " 'WILLIAM K RILEY',\n",
       " 'GREG & SON CONSTRUCTION, INC',\n",
       " 'ACHILLES INCORPORATED',\n",
       " 'HAVILAH BOUTIQUE, INC',\n",
       " 'NICOLAS HERNANDEZ',\n",
       " 'ALL DRY OF CHICAGO INC',\n",
       " 'ELIZABETH ANNE WHEELER',\n",
       " 'OCEAN INTERNATIONAL INC',\n",
       " 'LUCKY SPIN LAUNDRIES, LLC',\n",
       " 'ONE STOP DISTRIBUTORS, LLC',\n",
       " 'J&E CONSTRUCTION & REHAB INC',\n",
       " 'LUNGEVITY FOUNDATION',\n",
       " 'MAZZ MOBILE POWER WASH, INC',\n",
       " 'Pearl Meyer & Partners, LLC',\n",
       " 'RANDI L GARNICK',\n",
       " 'JUMAANEE LEE ROGERS',\n",
       " 'MARS KUDELA',\n",
       " 'ONE STOP FOOD & GENERAL MERCHARDISES, INC',\n",
       " 'TOP HAT TATTOO, INC',\n",
       " 'American Street Capital',\n",
       " 'CHRIS S UFF',\n",
       " 'DOERR LANDSCAPING',\n",
       " 'BRIAN M KOEHLER',\n",
       " 'SURPLUSASSET MANAGEMENT, INC',\n",
       " 'PARKSIDE ASSOCIATES, LLC',\n",
       " 'HV LLC',\n",
       " 'ENERGY REDUCTION INC',\n",
       " 'MODE CARPENTRY, INC',\n",
       " 'LEANELL  WILLIAMS',\n",
       " 'PATRICK MALONEY',\n",
       " 'IBM CREDIT LLC',\n",
       " '3XDATA CORPORATION',\n",
       " 'WEBSTER CONSTRUCTION GROUP INC',\n",
       " 'EV QUALITY CLEANING SERVICE, INC',\n",
       " 'H & F TRUCK & TRAILER',\n",
       " 'CRONIN-DEKKER HOLDINGS, LLC',\n",
       " 'KIMISAN F COSTELLO',\n",
       " 'VERONICA MITCHELL',\n",
       " 'PNS ENTERPRISES,  INC',\n",
       " 'VERSOR INC',\n",
       " 'TPL SIGN SERVICES INC',\n",
       " 'CONCRETE CRAWLSPACES CORP',\n",
       " 'OUR LADY OF THE RESURRECTION MEDICAL CENTER',\n",
       " 'POK SUN KIM & KEUM BOK AN',\n",
       " 'CARMELO MARTINEZ & CELLESTE REYES DE OJEDA',\n",
       " 'Witech Company, Inc',\n",
       " 'Roe Construction, Inc',\n",
       " 'A T M I',\n",
       " 'J T A Leasing Co, LLC',\n",
       " \"SHIOLI'S SUNRISE HEATING\",\n",
       " 'MARK A STEENBERG',\n",
       " 'ZIMA HVAC, INC',\n",
       " 'THOMAS JOSEPH BURNS SR',\n",
       " 'JONATHAN FUCHS',\n",
       " 'VINCE NERI POWER RODDING & SEWER REPAIR CONSTRUCTION, INC',\n",
       " 'AUBURN CORPORATION',\n",
       " 'SUNNY, LTD',\n",
       " 'BELLA VEYTSEL',\n",
       " 'CARLOS ARRIOLA',\n",
       " 'CHICAGO MEDICAL EQUIPMENT & SU',\n",
       " 'CRUZ CARLOS',\n",
       " 'ESTEBAN MEDINA',\n",
       " 'BURNHAM CONSTRUCTION',\n",
       " 'SKY COMMUNICATIONS, INC',\n",
       " 'DUTCH VALLEY LANDSCAPING, INC',\n",
       " 'ZITELLA DEVELOPMENT CORP',\n",
       " 'ACCURATE ENVIRONMENTAL SOLUTIONS INC',\n",
       " 'JOSE ANTONIO CHAVEZ',\n",
       " 'STERLING RENAISSANCE, INC',\n",
       " 'ISIDRO MARCIAL',\n",
       " 'CHICAGO AVENUE DEVELOPMENT, LLC',\n",
       " 'HOME REMODELING INC',\n",
       " 'F KENNETH BABE',\n",
       " 'J & P AUTO REPAIR LIMITED',\n",
       " 'MICRO STAR KEG MANAGEMENT LLC',\n",
       " 'MICHAEL VERNON WARREN',\n",
       " 'INTERSTATE BRANDS CORPORATION',\n",
       " 'MODEL BUILDERS, INC',\n",
       " 'JAMES L JONES',\n",
       " 'DOMINIC CATENA',\n",
       " 'DS APPAREL INC',\n",
       " 'KENNETH H BUI',\n",
       " 'OLAR CONSTRUCTION, INC',\n",
       " 'CALCON, CORP',\n",
       " 'MIDWEST OFFICE INTERIORS, INC',\n",
       " 'LINCOLN PARK AUTO, INC',\n",
       " 'SOCORRO CUETO',\n",
       " 'CS Mechanical, Inc',\n",
       " 'AUTO PROGRESS INC',\n",
       " 'JC BUILDERS,INC',\n",
       " 'SHEREEN F KHADRI',\n",
       " 'CUBBY BEAR LOUNGE LIMITED',\n",
       " 'BONE JOVCEVSKI',\n",
       " 'THOMAS W WHITAKER JR',\n",
       " 'VICENTE JAUREGUI',\n",
       " 'OZSU AUTOMOTIVE, INC',\n",
       " 'J C ANDERSON INC',\n",
       " 'MYONG YUL KIM',\n",
       " 'UPGRADE INC',\n",
       " 'MARYJANE A NOWAK',\n",
       " 'A M C INC',\n",
       " 'THE PRIME GROUP INC',\n",
       " 'BANDWIDTH MANAGEMENT, INC',\n",
       " 'JP MORGAN ELECTRONIC FINANCIAL SERVICES, INC',\n",
       " 'AREA SHEET METAL INC',\n",
       " 'F & R DECORATING SERVICE, INC',\n",
       " 'HELEN LOUISE FOGARTY',\n",
       " 'Paragraphs Design Company',\n",
       " 'DOORNBOS INC',\n",
       " 'CHESTER K SZYMICZEK',\n",
       " 'SUPER SKY PRODUCTS INC',\n",
       " 'JTG CONTRACTORS,INC',\n",
       " 'ALBRECHT ENTERPRISES, INC',\n",
       " 'CAPITAL FITNESS INC',\n",
       " \"ARTUR'S MARBLE & CERAMIC, INC\",\n",
       " 'ALTHEA SINISE',\n",
       " 'HYUN S KIM',\n",
       " 'DESIGN WITHIN REACH, INC',\n",
       " 'GERRY AIR CONDITIONING AND HEATING INC',\n",
       " 'PRO AUTO TIRES & WHEELS, INC',\n",
       " 'SANTANA HERNANDEZ',\n",
       " 'P C HEATING & COOLING INC',\n",
       " 'QWBS SERVICES INC',\n",
       " 'TADEUSZ NIEMYSKI',\n",
       " 'CHARLES V UTSLER JR',\n",
       " 'HELENA SADELSKA KOZEL',\n",
       " 'GRISBY LLC',\n",
       " 'MITZI ACHILLE',\n",
       " 'NORTHEAST CONTRACTORS INC',\n",
       " 'GWB HIGHLANDERS HEATING & AIR CONDITIONING INC',\n",
       " 'JANET M SCHULTZ - MROZ',\n",
       " 'GLENN A WINTERNITZ',\n",
       " 'DAVID DANKU',\n",
       " 'WITMAN SERVICES CORP',\n",
       " 'CHRISTOPHER ST, LTD',\n",
       " 'DANKA OFFICE IMAGING COMPANY',\n",
       " 'BASIC CHEMICAL SOLUTIONS LLC',\n",
       " 'T & M MECHANICAL CONST INC',\n",
       " 'TERESA THOMPSON',\n",
       " \"WHERE'S THE DUKE, INC\",\n",
       " 'ERIC TRIDALE DOUGLAS SR',\n",
       " 'JACK PETER VITALE',\n",
       " 'GENERAL WINDOW CLNG CO',\n",
       " 'MERCFUEL, INC',\n",
       " 'NORTHERN WEATHERMAKERS HVAC IN',\n",
       " 'JOSE G MELGAR',\n",
       " 'MARIA CALDERON',\n",
       " 'NINJA CONSTRUCTION COMPANY',\n",
       " 'SAGINAW RESTAURANT & FOOD, INC',\n",
       " \"WE'RE CLEANING, INC\",\n",
       " 'J & M LAUNDERETTE, INC',\n",
       " 'HILL MECHANICAL OPERATIONS, INC',\n",
       " 'CENTRAL CONTRACTORS SERVICE IN',\n",
       " 'FANNY L LEON',\n",
       " 'LAURA KORANDA',\n",
       " 'BELL FUELS INC',\n",
       " \"MICHAEL R O'GIEBLYN\",\n",
       " 'A & R CONSTRUCTION INC',\n",
       " 'DEBORAH J HETMAN',\n",
       " 'PSC Group, LLC',\n",
       " 'FRANCISCO M REYES',\n",
       " 'KIRK DOVE',\n",
       " 'U S Lec Communications',\n",
       " 'SMART TAX INC',\n",
       " 'KRENGEL & ASSOCIATES INC',\n",
       " 'KOHLMAN HEG',\n",
       " 'DEE WILLIAMS ENTERPRISES, LLC',\n",
       " 'DMC INC',\n",
       " 'JAMES K CAGE III',\n",
       " 'WIG, INC',\n",
       " 'VICENTE BERNAL',\n",
       " 'SOLO CUP OPERATING CORPORATION',\n",
       " 'AERO-TEMP MECHANICAL LLC',\n",
       " 'SEMKO INC',\n",
       " 'DO RIGHT ROOTER PLUMBING AND HEATING',\n",
       " 'ERIN M KREMZAR',\n",
       " 'MARISCOS EL VENENO #2 CORP',\n",
       " 'ROBERT A ALCANTARA',\n",
       " 'TRACK SERVICE INC',\n",
       " 'TAD CARPENTRY INC',\n",
       " 'CODE MECHANICAL, INC',\n",
       " 'TERRA SERVICES, INC',\n",
       " 'SMJGENERAL CONTRACTOR',\n",
       " 'TRICO MECHANICAL INC',\n",
       " 'CLAUSS BROTHERS INC',\n",
       " 'STEVO KOTUR',\n",
       " \"NOAH'S CLEANING SERVICES INC\",\n",
       " 'CHICAGO STEEL CONSTRUCTION, LLC',\n",
       " 'DESIGN CARPENTRY CO',\n",
       " 'CONSTRUCTION 77 INC',\n",
       " 'BEELER CONSTRUCTION INC',\n",
       " 'DNA GENERAL CONTRACTING INC',\n",
       " 'A & J GLASS',\n",
       " 'PUBLICIS DIALOG - CHICAGO, INC',\n",
       " 'K Underly Enterprises, Inc',\n",
       " 'ECUAMERICA GROUP , INC',\n",
       " 'EARSELENE PEARSON',\n",
       " 'K & S PHARMACY INC',\n",
       " 'PROMUS HOTELS, INC',\n",
       " 'CHECKPOINT SECURITY SYSTEMS GR',\n",
       " 'ROBERT YIU CONST INC',\n",
       " 'BRIAZZ INC',\n",
       " 'BECHSTEIN CONSTRUCTION CORP',\n",
       " 'National Decorating Service, Inc',\n",
       " 'SIGNCO, INC',\n",
       " 'BRH Strategic Solutions',\n",
       " 'THE ART OF PARTY INC',\n",
       " 'LARAMIE HEATING & AIR CONDITIONING, INC',\n",
       " 'TWIN CONTRACTORS, INC',\n",
       " 'NICOLAS J LABYCZ',\n",
       " 'Joanna De Jesus',\n",
       " 'CROWN BUILDING CONTRACTORS, INC',\n",
       " \"CLIFF'S HEATING REF, A/C INC\",\n",
       " 'LAWRENCE L STEVENS',\n",
       " 'BERNARDO VILLASENOR',\n",
       " 'STUART DESIGN, LLC',\n",
       " 'MELVYN VORONOFF',\n",
       " 'ABLE CONSTRUCTION',\n",
       " 'ANIELA KWAK',\n",
       " 'RAIMONDA SIREIKIENE',\n",
       " 'TEC CONSTRUCTION, LLC',\n",
       " 'JOSE L LOZANO',\n",
       " 'CHE KAHLO CAFE INC',\n",
       " 'CZARNOWSKI DISPLAY SERVICE, INC',\n",
       " 'JoA  Beauty Inc',\n",
       " 'CESAR R RANGEL',\n",
       " 'BELEN GOMEZ SALINAS',\n",
       " 'ASKM CORPORATION',\n",
       " 'COMMERCIAL CARPENTRY CORP',\n",
       " 'CLEAN UP SERVICE, INC',\n",
       " 'COSTA DEL SOL TRAVEL INC',\n",
       " 'FAHIYM A NASIR',\n",
       " 'AUDRIUS MAGYLA',\n",
       " 'MICHAEL J NORTON',\n",
       " 'Indoor Environmental Technologies, Inc',\n",
       " 'LAKEVIEW LUMBER & CONSTRUCTION',\n",
       " 'MARIA D OLAGUEZ',\n",
       " \"DAVE & BUSTER'S OF ILLINOIS, INC\",\n",
       " 'POLSELLI + ZAPPEL CONSTRUCTION LLC',\n",
       " 'PREMIER CONTRACTING GROUP',\n",
       " \"BELLADONNA'S LLC\",\n",
       " 'SOUTHFIELD CORPORATION',\n",
       " 'LAST CHANCE LOUNGE, INC',\n",
       " 'PHALLA TAN',\n",
       " 'RONCARANI & ASSOCIATES INC',\n",
       " 'ALL-TECH DECORATING CO',\n",
       " 'NORTHERN EXCAVATERS, INC',\n",
       " 'IUS INC',\n",
       " 'ESP SERVICES, LLC',\n",
       " 'INGRAM EXCAVATING',\n",
       " 'ALL SEALANTS INC',\n",
       " 'NBRUNO CONSTRUCTION,INC',\n",
       " \"LUKE'S HEATING & COOLING, LLC\",\n",
       " 'THIEU VAN LUU',\n",
       " 'BURNHAM NATIONWIDE, INC',\n",
       " 'AYMAN EDWARD SAWA',\n",
       " 'SHELLEY A DAVIS',\n",
       " 'ARCUS CONSTRUCTION, INC',\n",
       " 'NORTON NORRIS, INC',\n",
       " '1040 CLUB',\n",
       " 'PIRTANO CONSTRUCTION CO INC',\n",
       " 'MOHD A FREIHAT',\n",
       " 'CHICAGOLAND REMODELING INC',\n",
       " 'JACINDA L BEASON',\n",
       " 'MARK S BARCZAK',\n",
       " 'AZTECAS MUFFLERS & BRAKES SHOP II, INC',\n",
       " 'Mensch With A Wrench',\n",
       " 'KENNETH L KEMP SR',\n",
       " 'MICHAEL WALLACE MYERS',\n",
       " 'ANNIE GILLUM',\n",
       " 'OTSUKA DENTAL LABORATORY INC',\n",
       " 'DC MEDICAL SUPPLIES COMPANY',\n",
       " 'CONSOLIDATED MECH SERV INC',\n",
       " 'VECTA, DIVISION OF STEEL CASE',\n",
       " 'PEARL BEAUTY SPA LLC',\n",
       " 'SKYVIEW TECHNOLOGY, INC',\n",
       " 'MY-OP (NY), LLC',\n",
       " 'PROFUS CONSTRUCTION CORP',\n",
       " 'ADVANCED COOLER INC',\n",
       " 'NATION SUPREME CLEANING SERVICES INC',\n",
       " 'JARED D CAMPBELL',\n",
       " 'CONTRERAS PRODUCTIONS, INC',\n",
       " 'MARCUS A TYLER',\n",
       " 'COMPASS GROUP USA, INC',\n",
       " 'Paul W Thompson',\n",
       " 'TRLAK BROTHERS CONSTRUCTION INC',\n",
       " 'DKN ENTERPRISES, LTD',\n",
       " 'ACCELERATED HEALTH SYSTEMS, LLC',\n",
       " 'F3 SOLUTIONS, LLC',\n",
       " 'SERVICE CONSTRUCTION INC',\n",
       " 'PAMELA WILK',\n",
       " 'ALICE LEVY',\n",
       " 'PAULIN HERRERA',\n",
       " 'RL GUSTAFSON AND CO, INCORPORATED',\n",
       " 'BLUE STAR INSURANCE AND SERVICES INC',\n",
       " 'STARBUCKS CORPORATION',\n",
       " 'M MERCED/L E RIVERA',\n",
       " 'DAVID L SMITH',\n",
       " 'ZACHARY M MITTON',\n",
       " 'ZEFERINO CORTES GUZMAN',\n",
       " 'Allied Institute of Professional Studies',\n",
       " 'VICTORY AUTO GLASS CORP',\n",
       " 'SANDRA ROWE',\n",
       " 'OJEDA CONSTRUCTION CO INC',\n",
       " 'MOON STAR GROCERY, INC',\n",
       " 'KASIM GROUP INC',\n",
       " 'CALUMET HEATING & AIR CONDITIO',\n",
       " 'PRECISION HEATING & COOL',\n",
       " 'ARC DISPOSAL COMPANY, INC',\n",
       " 'PABLO ALCANTARA-CAMARILLO',\n",
       " 'SIMONA AND STELIAN',\n",
       " 'HEALY CONSTRUCTION SERVICE',\n",
       " 'MILAGO HEATING AND COOLING INC',\n",
       " 'MORRIS EXCAVATING INC',\n",
       " 'AUTO SERVICES OF CHICAGO, INC',\n",
       " 'UNITED EDUCATIONAL CULTURAL ACADEMY, INC',\n",
       " 'COLORS FOR TOTS DAYCARE CENTER INCORPORATED',\n",
       " 'FATEMA M AOKI',\n",
       " 'CRISPY ROCK, INC',\n",
       " 'TEMPERATURE SERVICE CO, INC',\n",
       " 'QASIM AIMTAIRAH',\n",
       " 'JORGE A CRUZ',\n",
       " \"Smitty's Landscape And Tree Services, Inc\",\n",
       " 'ALL SUBURBAN REMODELERS INC',\n",
       " 'Kooky LLC',\n",
       " 'CGC MECHANICAL, INC',\n",
       " 'AARON D CRITES',\n",
       " 'KERMIT C STORY',\n",
       " 'MARK I RESTORATION COMPANY',\n",
       " 'KMR CONSULTING INC',\n",
       " 'THE EDGE LOFTS & TOWER CONDOMINIUM ASSOCIATION, INC',\n",
       " 'CASIAN GROSU',\n",
       " 'BMK INDUSTRIES INC',\n",
       " 'ASSET RECOVERY CONTRACTING LLC',\n",
       " 'CHARLES HALL CONSTRUCTION, LLC',\n",
       " 'AMERICAN ADVANCED REMODELING, INC',\n",
       " 'HILL MECHANICAL CORP',\n",
       " 'DIANA J SEMMELHACK',\n",
       " 'MMI MANAGEMENT, LLC',\n",
       " 'STATE AUTOMATIC HEATING & CLG',\n",
       " 'MICHAEL J BROWN',\n",
       " 'SILVIA V RAMIREZ',\n",
       " 'LAPELUSA HOME IMPROVEMENT INC',\n",
       " 'BBC CONSTRUCTION COMPANY, INCORPORATED',\n",
       " 'Southport fitness llc',\n",
       " 'EVO-SITE LLC',\n",
       " 'ROBERT B MARLEAU',\n",
       " 'H2O PLUS INC & FRED J WEINERT',\n",
       " 'TOWN & COUNTRY SHEET METAL INC',\n",
       " 'PANAGIOTIS ZAHAROPOULO',\n",
       " 'AIR LOGISTICS AMERICA, INC',\n",
       " 'PROFIT INVESTMENT MANAGEMENT, LLC',\n",
       " 'ARTUR KOPEC',\n",
       " 'MYRA TERESA ROBINSON',\n",
       " \"WINGS O' FLAVOR, INC\",\n",
       " 'DALE A KIRK',\n",
       " 'SECOND CITY CONSTRUCTION CO, INC',\n",
       " 'ASSOCIATES ROSE INC',\n",
       " 'STAUNTON & STAUNTON',\n",
       " 'A ALVARADO & JL ALVARADO',\n",
       " 'D C  TAYLOR CO',\n",
       " 'ADVANCED COMFORT HVAC INC',\n",
       " 'ATLAS EXPEDITING SOLUTIONS, INC',\n",
       " 'ELANDA R BROWN',\n",
       " \"BARRY'S HEATING AND COOLING\",\n",
       " 'ANY WEATHER MECHANICAL INC',\n",
       " 'SKOKIE VALLEY AIR CONTROL, INC',\n",
       " 'PLAN-IT CNSTRUCTION MANAGEMENT LLC',\n",
       " 'EDMOND E MARCUS',\n",
       " 'CONCEPCION COHETZALTITLA - MONROY',\n",
       " 'STASH CONSTRUCTION, INC',\n",
       " 'FRANK H RATH',\n",
       " 'CAPITALSOURCE FINANCE LLC',\n",
       " 'MAXIMUM RECOVERY SERVICE, INC',\n",
       " 'KELLANEY CONTRACTING',\n",
       " 'JD & SONS ROOFING CO',\n",
       " 'CRYSTAL CLEAN HAND CAR WASH AND DETAILING OF CHICAGOLAND INC',\n",
       " 'Granite Dezigns of Illinois Inc',\n",
       " 'ANGELO CONSTRUCTION SERVICES INC',\n",
       " 'BELL LAND  IMPROVEMENT INC',\n",
       " '606 PROPERTIES',\n",
       " \"FRANCHI'S CONSTRUCTION\",\n",
       " 'AMERI ENVIROMENTAL',\n",
       " 'AMERICAN BROADBAND INC',\n",
       " 'ROSSI REAL ESTATE',\n",
       " 'H & A FOOD MARKET, INC',\n",
       " 'HERMAN/STEWART CONSTRUCTION',\n",
       " 'ROBERTO GONZALEZ & FRANCISCO SAMAYOA',\n",
       " 'FINE CONSTRUCTION CORP',\n",
       " 'Luxury Eyesight LLC',\n",
       " 'MICHAEL   W  BOUCHER',\n",
       " 'JACK GORE',\n",
       " 'SUPERIOR PETROLEUM MARKETERS',\n",
       " 'PRESTIGE WINDOW CLEANING, INC',\n",
       " 'EDWARD F FITZPATRICK',\n",
       " 'FIRM58, INC',\n",
       " 'MARIAN KAPLINSKI',\n",
       " 'EQUITABLE SERVICES INC',\n",
       " 'DELGADO TRAVEL AGENCY, INC',\n",
       " 'AUDI ANSWERING SERVICE, INC',\n",
       " 'JMS, INC',\n",
       " 'James Paul Hacker',\n",
       " 'VERRAN Z STEWART',\n",
       " 'GARAGE KING, INC',\n",
       " 'MARK ENNS',\n",
       " 'INVISTA SARL COMPANY',\n",
       " 'CORRECT CLEANING JANITOR',\n",
       " 'FAMILY DOLLAR, INC',\n",
       " 'CSO #5 LLC',\n",
       " 'TOPCONCRETECOMPANY',\n",
       " 'AUDREY MASON WHITE',\n",
       " 'JAN SPORNA',\n",
       " 'McDERMOT CONSTRUCTION',\n",
       " 'HDO PRODUCTIONS',\n",
       " 'HELIDA CAMPOS',\n",
       " 'FAMILY DISCOUNT & FURNITURE, INC',\n",
       " 'RADOSLAW CZAPLA',\n",
       " 'THE ATRIUM HLTH CARE CTRS, INC',\n",
       " 'JOHN S KOIS',\n",
       " 'CERTIFIED TANK SERVICES',\n",
       " 'JAMES MCNAUGHTON-PERSHING ROAD, LLC',\n",
       " 'BRICKS & STEEL LTD',\n",
       " 'JOYFUL BEGINNINGS INC',\n",
       " 'NORTH STAR CABLE CONSTRUCTION, INC',\n",
       " 'B C I COMMERCIAL ROOFING, INC',\n",
       " 'RICHARDSON & SONS CONCRETE, INC',\n",
       " 'DEBT RECOVERY SPECIALISTS, INC',\n",
       " 'DONALD R DEROSS',\n",
       " 'PADE MATTRESS INC',\n",
       " 'ELEVATOR TECHNICIANS, INC',\n",
       " 'EUROPEAN SOJOURNS, LTD',\n",
       " 'LINDA CONSTRUCTION INC',\n",
       " 'CHAN HO KIM',\n",
       " 'NELLIGAN INC',\n",
       " 'SAKE INC',\n",
       " 'CENTERBEAM INC',\n",
       " \"SUAVE'S TUCKPOINTING CO\",\n",
       " 'STANLEY CIEZCZAK',\n",
       " 'R CARLSON & SONS INC',\n",
       " 'ALLIED MECHANICAL INC',\n",
       " 'ABC Plumbing, Heating, and Cooling, Inc',\n",
       " 'ANDRZEJ KLUCZEWSKI',\n",
       " 'HOMEWOOD DISPOSAL SERVICE, INC',\n",
       " 'PAUL GIDASZEWSKI',\n",
       " 'DUNLEAVY CONCRETE, INC',\n",
       " 'ADINO, INC',\n",
       " 'ANTRIM CO INC',\n",
       " \"GEORGE'S GARAGES & DOORS, INC\",\n",
       " 'MICHELS CORPORATION',\n",
       " 'RAYMOND BLEDSOE',\n",
       " 'JAN K BURZYNSKI',\n",
       " 'NEW CONSOLIDATED INTERNATIONALL CORPORATION',\n",
       " 'LIFT WORKS INC',\n",
       " 'CHICAGO BOARD-UP SERVICE INC',\n",
       " 'CENTRAL CLEANERS',\n",
       " 'JESUS ARRENDONDO',\n",
       " 'LOUIS SAGGIONE JR',\n",
       " 'TUSCANY CONSTRUCTION, INC',\n",
       " 'BROOKE R VAHOSKY',\n",
       " 'SERVICE SANITATION',\n",
       " 'BERNARD TECHNOLOGIES, INC',\n",
       " 'TROY AMUSEMENTS',\n",
       " 'THE FINISHING TOUCH CUSTOM METAL POLISHING, INC',\n",
       " 'A AND S FENCES SUPPLIES CORP',\n",
       " \"LOWE'S HOME CENTERS, LLC\",\n",
       " 'KANO CONSTRUCTION LLC',\n",
       " 'M & J GENERAL CONTRACTORS',\n",
       " 'A AND K ELECTRICAL INC CHICAGO',\n",
       " 'AMERICAN LANDMARK DEVELOPMENT, INC',\n",
       " 'AMERICAN INREPO OF ILLINOIS INC',\n",
       " 'ARBOL GRANDE, INC',\n",
       " 'GSM Investments, Ltd',\n",
       " 'CARL BUONAFEDE',\n",
       " 'TAWANA L SANDERS',\n",
       " 'BULKMATIC TRANSPORT CO',\n",
       " 'J S SERVICES RESEARCH AND TRADING LLC',\n",
       " 'EB & JB ENTERPRISES INC',\n",
       " 'DEARBORN PROFESSIONAL SERVICES',\n",
       " 'DAVID D VELDE',\n",
       " 'JABCO INDUSTRIAL SERVCES COMPANY',\n",
       " 'DEPENDABLE HEALTH SERVICE CORPORATION',\n",
       " 'G A JOHNSON & SON',\n",
       " 'MILORAD COJBASIC',\n",
       " 'MJ MECHANICAL SERVICES, INC',\n",
       " 'KIRBY RYAN & ASSOCIATES, INC',\n",
       " 'GRAPHIC CONSERVATION COMPANY',\n",
       " 'NATIONAL TRUSS CO INC',\n",
       " 'THE MOWING DEPOT INC',\n",
       " 'HORIZON CONSTRUCTION INC',\n",
       " 'CONCEPT PLUMBING INC',\n",
       " 'NOSAL CONSTRUCTION CORP',\n",
       " 'Rodolfo Angeles',\n",
       " 'MIDWAY PLUMBING INC',\n",
       " 'JODI FRABOTTA',\n",
       " 'AI BUS SERVICE, LLC',\n",
       " 'KESTLER GRAPHICS, INC',\n",
       " 'Eli N Naeher',\n",
       " 'RAYMOND J VALAVICIUS',\n",
       " 'C3 CONSTRUCTION SERVICES, INC',\n",
       " 'SHARITA L DAVIS',\n",
       " 'DUSTY GROOVE, INC',\n",
       " '1111 SOUTH WABASH, LLC',\n",
       " 'EVENTIVE INC',\n",
       " 'ZERA CONSTRUCTION CO INC',\n",
       " 'GLORIA RODRIQUEZ',\n",
       " 'ANDREW TOMKO JR',\n",
       " 'ZORAN IVKOVIC',\n",
       " \"RENE'S AUTO PARTS\",\n",
       " 'MARIA J DIMAS',\n",
       " 'HERMOSA FURNITURE',\n",
       " 'LINDA M JONES',\n",
       " 'PARS ICECREAM CO, INC',\n",
       " 'Hussmann Services Corporation',\n",
       " ...]"
      ]
     },
     "execution_count": 67,
     "metadata": {},
     "output_type": "execute_result"
    }
   ],
   "source": [
    "train['LEGAL NAME'].unique().tolist()"
   ]
  },
  {
   "cell_type": "code",
   "execution_count": 68,
   "metadata": {
    "ExecuteTime": {
     "end_time": "2022-05-07T07:00:54.307091Z",
     "start_time": "2022-05-07T07:00:54.212211Z"
    }
   },
   "outputs": [
    {
     "data": {
      "text/plain": [
       "[\"CLAUDIA'S BRIDAL SHOP\",\n",
       " 'ISLA TROPICAL',\n",
       " 'DJS REMODELING, INC',\n",
       " 'ALL-BRY CONSTRUCTION CO',\n",
       " 'MCDONOUGH MECHANICAL SERVICE',\n",
       " 'QUALITY PLUMBING SERVICES INC',\n",
       " 'BARRERA CONSTRUCTION',\n",
       " 'INTERSTATE MECHANICAL & CONSTRUCTION INC',\n",
       " 'DELUXE CUSTOM  SERVICES',\n",
       " 'FULLERTON PULASKI SHELL',\n",
       " 'LANDSCAPER',\n",
       " 'ANIMAL LOVERS PET SALON',\n",
       " 'MAGIC MAID NATIONAL',\n",
       " 'ALLWOOD CABINET COMPANY',\n",
       " 'AMERICAN PRIDE HEATING & COOLING',\n",
       " 'WESTERN DISCOUNT',\n",
       " 'ABN AMRO SERVICES',\n",
       " 'DESIGN INSTALLATION SYSTEMS INC',\n",
       " 'NORTH AMERICAN MIDWAY ENTERTAINMENT-ASTRO AMUSEMEN',\n",
       " 'INNOVATIVE INSULATION',\n",
       " 'MAGIC TOUCH NAIL SALON & DAY SPA',\n",
       " 'ERICKSON & HOLL AMUSEMENTS',\n",
       " 'NORTHWEST AIRLINES AIR CARGO',\n",
       " 'NAUGHTON HEATING & AIR CONDITIONING',\n",
       " 'B & N HEATING & AIR CONDITION',\n",
       " 'MALLY MECHANICAL CONSORTIUM',\n",
       " 'FLOOD SPECIALISTS',\n",
       " 'LOVATT & RADCLIFFE',\n",
       " 'WM ROOFING & MASONRY',\n",
       " 'J & R AMUSEMENT',\n",
       " 'WESTOWER COMMUNICATIONS,INC',\n",
       " 'HERMINIA GARCIA',\n",
       " 'CENTRAL PRINT SERVICES',\n",
       " 'PODLASIE',\n",
       " 'SCANDINAVIAN BUILDERS LTD',\n",
       " 'DEDERICHS HOME IMPROVEMENT',\n",
       " 'M & T CREDIT SERVICES, LLC',\n",
       " 'REGINALD L HOWZE SR',\n",
       " 'LANE BRYANT #4530',\n",
       " 'CHICAGO PARTY RENTAL',\n",
       " 'JUSTIN J BOEREMA',\n",
       " 'Designers Hair Gallery',\n",
       " 'DYNA-ROOTER',\n",
       " 'ENDO EXO APOTHERAPHY',\n",
       " \"ALBERTO'S JANITORIAL SERVICE INC\",\n",
       " 'Green Envee Organics, Inc',\n",
       " 'ISAI F PAGAZA',\n",
       " 'ECLIPSE USA INC',\n",
       " 'BIND-IT CORPORATION',\n",
       " 'QIDEAS INC',\n",
       " 'Touched Dreams Entertainment Inc',\n",
       " 'UNITED REMODLER & BUILDERS',\n",
       " 'SWEPT AWAY SNOW REMOVAL',\n",
       " 'K-MAR',\n",
       " 'RWD HEATING AIR CONDITIONING',\n",
       " 'VITALIY MOTYASHOK',\n",
       " 'VIVID INK GALLERY',\n",
       " 'T VICTOR CONSTRUCTION',\n",
       " 'DOLLAR BUSTER',\n",
       " 'C & A ROOFING INC',\n",
       " 'DYNAMIC ASPHALT MAINTENANCE,INC',\n",
       " 'ABC AMUSEMENTS INC',\n",
       " 'VERTEX INC',\n",
       " 'PROMOTING GOOD BEHAVIOR',\n",
       " 'MAXIM ELECTRICAL CONTRACTORS, INC',\n",
       " 'Channeled Resources Inc',\n",
       " 'ELIZABETH SIMKIN',\n",
       " 'ELIAS P PATRAS',\n",
       " 'H S SIGNS',\n",
       " 'THE DETROIT SALT CO LLC',\n",
       " 'BLUEISLAND DISCOUNT CENTER',\n",
       " 'LINCOLN PARK DOG & CAT CLINIC',\n",
       " 'K D HOME IMPROVEMENT,INC',\n",
       " 'LESLIE HINDMAN AUCTIONEERS, INC',\n",
       " 'BETTY L O BANNON  SALEIKA',\n",
       " 'SKYLINE HEATING & AIR',\n",
       " 'JIMMY THE LE',\n",
       " 'MULROY DEMOLITION AND EXCAVATION, LLC',\n",
       " 'AAA Air Control',\n",
       " 'CHICAGO FLOORING INNOVATIONS, INC',\n",
       " 'HVAC COMFORT DIAZ',\n",
       " 'CrossFit Defined',\n",
       " 'CLASSIC TICKETS',\n",
       " 'LUNT ARMS, LLC',\n",
       " 'LUNA HEATING & COOLING',\n",
       " 'LETICIA SALGADO',\n",
       " 'ROBERT LEROY ENTERPRISES INC',\n",
       " \"ERNESTO'S GROCERY STORE, INC\",\n",
       " 'GI-LA BUILDERS INC',\n",
       " 'CENTURY SUPPLY COMPANY',\n",
       " 'International Camera Repair',\n",
       " 'CARTER FUNERAL CHAPELS LTD',\n",
       " 'THOMAS & NARAYANAN, INC',\n",
       " 'BRAINSURF INFORMATICS INC',\n",
       " 'STANCIL REMODELING CO INC',\n",
       " 'FAITH TRUCK LINES II, INC',\n",
       " 'BETUNIA CITGO INC',\n",
       " 'BEAUTY WORLD USA INC',\n",
       " 'TRI-ANGLE ENVIRONMENTAL INC',\n",
       " 'KBC CONSTRUCTION INC',\n",
       " 'DV QUALITY FLOORING',\n",
       " 'ANNA GEORGE LTD',\n",
       " \"ZIGGY'S HEATING\",\n",
       " 'CARL JOHANSON & SON CONSTRUCTION',\n",
       " 'DON C MUSICK CONSTRUCTION  CO',\n",
       " 'ACCURATE MECHANICAL CONTROL, INC',\n",
       " 'VMB CONSTRUCTION',\n",
       " 'DURAN CONSTRUCTION INC',\n",
       " 'The Princess Club',\n",
       " 'NOMBACH COMPANY INC',\n",
       " 'MATHEW BENDER & CO, INC',\n",
       " 'ABSOLUTE MEDICAL, INC',\n",
       " 'BILT-RITE TILE INDUSTRIES INC',\n",
       " 'MIDWEST VALET INC/ VICTORY GARDEN THEATRE',\n",
       " 'ABOVE AND BEYOND CONSTRUCTION',\n",
       " 'T-MOBILE LIMITED',\n",
       " 'WESLEY & TED CORPORATION',\n",
       " 'SUPERIOR DECORATING GEN CONTRA',\n",
       " 'GROOT RECYCLING & WASTE SERVICES, INC',\n",
       " 'CVS INDIANA, LLC',\n",
       " 'NEW FRONTIER CONSTRUCTION CO',\n",
       " 'CONTRACTOR SERVICES',\n",
       " 'Crocs',\n",
       " 'GRANITE STARS, INC',\n",
       " 'STATION CLEANERS',\n",
       " 'M-K SIGNS',\n",
       " 'WIntime Fashion',\n",
       " 'ARIC CHRISTOPHER HLAD',\n",
       " 'ROY STROM REFUSE',\n",
       " 'FIX THIS! PAINT THAT!',\n",
       " 'LIBERTY TAX SERVICE 5948',\n",
       " 'SCHULER INTERIORS INC',\n",
       " 'RINGLAND JOHNSON CONSTRUCTION',\n",
       " 'ALTRA STEEL',\n",
       " 'PROTECTCO INC',\n",
       " \"JP'S PUB\",\n",
       " 'THOMAS PAINTING & DECORATING, INC',\n",
       " \"JOHNNY'S CONSTRUCTION\",\n",
       " 'VINCENT J RICCIARDI',\n",
       " 'TCN RECOVERY CORP',\n",
       " 'DYLAN T LOTT',\n",
       " 'ENVIRONMENTAL CLEANSING CORP',\n",
       " 'MERRILL IRON & STEEL INC',\n",
       " 'ALL BROTHERS PAINTING & DECORATING INC',\n",
       " 'ALBA CONSTRUCTION',\n",
       " 'PATHWAY DEVELOPMENT LLC',\n",
       " 'WASTE MANAGEMENT METRO',\n",
       " 'PALETERIA PONCHO',\n",
       " 'DAVILAS  GIFT SHOP',\n",
       " 'ALPHA ZETA, INC',\n",
       " 'CLARENDON MINI MART INC',\n",
       " 'APPLIED TECHNOLOGIES',\n",
       " \"JIM'S HVAC SERVICE\",\n",
       " 'MICHAEL E CARR',\n",
       " 'MY PRIVATE CHEF, INC',\n",
       " 'Gipson Groundwork',\n",
       " 'J WELTER & SONS INC',\n",
       " 'DI PAOLO CO INC',\n",
       " 'STATE AMUSEMENT',\n",
       " 'MARIO ALBERTO ARELLANO',\n",
       " 'MODESTO FUENTES',\n",
       " 'FFQ CONSTRUCTION CO',\n",
       " 'VALLEY GLASS COMPANY, INC',\n",
       " 'MARTIN MECHANICAL CORPORATION',\n",
       " 'ANDREW MARTIN HERTZBERG',\n",
       " 'SCALISE CONSTRUCTION',\n",
       " 'A J MAGGIO CO',\n",
       " 'MCGINNIS PLUMBING CO INC',\n",
       " 'LESLIE KEMP',\n",
       " 'ELM HEATING & COOLING INC',\n",
       " 'ASHBURY CORP',\n",
       " 'WILLIAM BLAKE CANNON',\n",
       " 'ADVANCED SYSTEMS INTEGRATION, INC',\n",
       " 'SUNSHINE COMMERCIAL SERVICES, INC',\n",
       " 'LOYOLA UNIVERSITY LAKESHORE STORE #1121',\n",
       " 'ALTHOFF INDUSTRIES, INC',\n",
       " 'FANCY NAILS',\n",
       " 'THE FLAX COMPANY',\n",
       " 'ALLIED WASTE OF CHICAGO',\n",
       " 'GREAT LAKES RESTORATION INC',\n",
       " \"Brennan's Environmental Services, Inc\",\n",
       " 'JRT SERVICES INC',\n",
       " 'ROLAND B SHARPE',\n",
       " 'AlphaMetrix 360, LLC',\n",
       " 'WAUD CAPITAL PARTNERS, LLC',\n",
       " \"VAN'S INDUSTRIAL\",\n",
       " 'YURI YEVDOKIM SCHEGELSKY',\n",
       " 'TERRACON CONSULTANTS, INC',\n",
       " 'KALISH ELECTRIC CO',\n",
       " 'Global Capacity, LLC',\n",
       " 'EXTRA VALUE FOOD & LIQUOR',\n",
       " 'EL PALACIO DE LA NATURALEZA',\n",
       " 'Around The Town Heating & Cooling, Inc',\n",
       " 'JUNIPER CONSTRUCTION & DESIGN',\n",
       " 'JOHN SPOT PORTABLE SERVICES',\n",
       " 'MARK NIEGO & COMPANY, INC',\n",
       " \"BIG O'LIQUOR & FOOD STORE INC\",\n",
       " \"MARIE'S PET GROOMING INC\",\n",
       " 'MARINA CARTAGE INC',\n",
       " 'JOHN MAIER COMPANY',\n",
       " 'ADVANCED AIR SERVICES, INC',\n",
       " 'ECONOMY LIQUOR INC',\n",
       " 'COATINGS APPLICATION & WATERPR',\n",
       " 'BAP ENTERPRISES INC',\n",
       " 'ESTATE TITLE GROUP, LLC',\n",
       " 'KELLY SERVICES, INC',\n",
       " 'RAZORFISH, LLC',\n",
       " 'SOCORRO MARTINEZ',\n",
       " 'KAG DECORATION AND LANDSCAPING',\n",
       " 'JEAN M KOWALL',\n",
       " 'BIG Z CARRY OUT',\n",
       " 'S & J TOWING RECOVERY INC',\n",
       " 'SOUNDS ELECTRONICS AND ACCESSORIES',\n",
       " 'FOTOFAB',\n",
       " \"DOMINICK'S # 75/4075\",\n",
       " 'ABARROTES FAMILIA LOPEZ',\n",
       " 'MEAGAN J CADE',\n",
       " \"SIMON'S HEATING & A C\",\n",
       " 'SHERMAN MECHANICAL,INC',\n",
       " 'UNIVERSAL MECHANICAL',\n",
       " 'COMPLETE CUSTOM SERVICES, INC',\n",
       " 'BTS PROJECT MANAGEMENT & ASSOCIATES',\n",
       " 'PRAIRIE CONTRACTORS INC',\n",
       " '51ST EXPRESS & LIQUOR INC',\n",
       " 'MIA NAILS',\n",
       " 'Harrington Excavating & Construction',\n",
       " 'ALL AMERICAN CONTRACTORS, INC',\n",
       " 'METAL INSTALLATION INC',\n",
       " 'BUFALO CEMENT WORKS, INC',\n",
       " 'R V TIRE SHOP',\n",
       " 'JOSEPH VINCENT BASTIEN',\n",
       " \"HECKLE N' JECKLE INC\",\n",
       " \"WORLD'S FINEST CHOCOLATE\",\n",
       " 'INTERNET CITY',\n",
       " 'EDENS ACCOUNTING & TAX SERVICE',\n",
       " 'GIEDRA ZEGLINSKAENE',\n",
       " 'CARPET FOR LESS',\n",
       " \"WILLY'S TIRE SHOP\",\n",
       " \"JOSHUA'S COMPUTERS\",\n",
       " 'G Skin & Beauty Institute',\n",
       " 'PATRICIA PAGE',\n",
       " 'RRL CLEANING AND REPAIR COMPANY',\n",
       " 'Z T DOLLAR EXCHANGE, INC',\n",
       " 'WORLDS FINEST CHOCOLATE',\n",
       " 'Z-BEST HEATING & COOLING',\n",
       " 'EL LAUREL RESTAURANT INC',\n",
       " \"HARRY CARAY'S RESTAURANT\",\n",
       " 'M & A LANDSCAPING',\n",
       " 'EMPRESS AUTO GROUP, LTD',\n",
       " 'PRECISION HEATING & COOLING',\n",
       " 'HARMONY REMODELING',\n",
       " 'ALKA CONSTRUCTION OF ILLINOIS, INC',\n",
       " 'RADIO SHACK #6495',\n",
       " 'VINES ON CLARK',\n",
       " 'QU-BAR',\n",
       " 'SUN JEWLERS',\n",
       " 'HEATING & COOLING EXPRESS INC',\n",
       " 'JOSEFA CARRASQUILLO',\n",
       " 'PRECISION CONTROL SYSTEMS',\n",
       " 'Loads of Fun Laudromat',\n",
       " 'LMD INC',\n",
       " 'LAND AND LAKES DISPOSAL SERVICES',\n",
       " \"MRS LEVY'S DELI/ANTONNIO'S PIZ\",\n",
       " 'URBAN PROPERTIES DEVELOPMENT',\n",
       " 'J & J AIR CONDITIONING/HEATING',\n",
       " 'HICKORY OAKS CONSTRUCTION',\n",
       " 'DOSSARY AMOR REYES',\n",
       " 'HORA, CO',\n",
       " 'QV CONSTRUCTION INC',\n",
       " 'ALION SCIENCE AND TECHNOLOGY CORPORATION',\n",
       " 'Alicja Zmuda',\n",
       " 'JLL CONSTRUCTION SERVICES',\n",
       " 'MARJORIE BENNETT LARSON',\n",
       " 'HOLISTIC NURSING INC',\n",
       " 'MITSUBISHI ELECTRIC & ELECTRONICS USA, INC',\n",
       " 'FERNANDEZ AUTO GLASS & REPAIR',\n",
       " 'KAITLIN MEREDITH CHIN',\n",
       " 'TIERRA ENVIROMENTAL',\n",
       " 'DEFT RESOURCES',\n",
       " 'JASON S GILMAN',\n",
       " 'MIDWEST BLDG MAINTENANCE/CONST',\n",
       " 'CARL ROBERT SCHMITT',\n",
       " 'NUMERTECH, LTD',\n",
       " 'STEVEN FELDMAN',\n",
       " \"ANNA'S CLEANING SERVICE\",\n",
       " 'ARC ENVIRONMENTAL CONSULTANTS',\n",
       " 'Precision Window Tinting LLC',\n",
       " 'LADY LUCK ENTERPRISES INC',\n",
       " 'I & D STONE INC',\n",
       " 'WARREN AVERY',\n",
       " 'AMERICAN MILLENNIUM INC',\n",
       " 'MARIOS GOOD',\n",
       " 'JONES BEAUTY SUPPLY SALON',\n",
       " 'WAXMAN CANDLES CHICAGO',\n",
       " 'Trump Treasure Service',\n",
       " 'DIVERSEY & ASHLAND SHELL',\n",
       " 'BUSINESS WIRE',\n",
       " 'MARGARET INTERNATIONAL',\n",
       " 'MIRZA HEATING & COOLING',\n",
       " 'NORTHLAND SERVICES INC',\n",
       " 'AINT THAT SWEET CAFE',\n",
       " 'NOVA CONSTRUCTION OF ILLINOIS',\n",
       " 'ASSOCIATED BROKERS OF ILL',\n",
       " '5 T CONSTRUCTION',\n",
       " 'Spring Wellness Center',\n",
       " 'SKIBA CONSTRUCTION, INC',\n",
       " 'US RESIDENTIAL MANAGEMENT,LLC',\n",
       " 'TKX TRANSPROT REFRIGERATION SE',\n",
       " 'AMERICAN CONCORDE SYSTEMS INC',\n",
       " 'ED SIGNS INC',\n",
       " 'JORGE M LANDSCAPING',\n",
       " 'GRIFFIN PLATING CO INC',\n",
       " 'C - US CLEANERS',\n",
       " 'BIG ASH FINE CIGAR & TABACCO',\n",
       " 'MILES & CO',\n",
       " 'BLIND DUCK LOUNGE INC',\n",
       " 'LANDBERG ROBINS INTERIORS',\n",
       " \"SWEET MANDY B'S\",\n",
       " 'CVS/PHARMACY #8759',\n",
       " 'ALLA HVAC NECH SYSTEMS COMPANY',\n",
       " 'FIRST CLASS INC',\n",
       " 'The Grooming Gallery',\n",
       " 'CARLOS MUNHOZ',\n",
       " 'MIDAS MUFFLER CORP',\n",
       " 'STANDARD WINDOW CLEANING CO',\n",
       " 'ALLIED WASTE TRANSPORTATION, INC',\n",
       " 'LARIX, INC',\n",
       " 'SZABO ROOTERMAN PLUMBING',\n",
       " 'HIGH RISE SECURITY SYSTEMS, LLC',\n",
       " 'SON RISA COIN LAUNDRY',\n",
       " 'BRITISH AIRWAYS PLC',\n",
       " 'RYAN FRANK CORSARO',\n",
       " 'SHINE-AWN INC',\n",
       " 'FLANAGAN CONSTRUCTION',\n",
       " 'CLOH REAL ESTATE GROUP',\n",
       " 'BOZENA BUDZYNSKA PHOTOGRAPHY',\n",
       " 'GEAR MFG',\n",
       " 'CERMAK CITGO, INC',\n",
       " 'SHUI WAH CHINESE CUISINE',\n",
       " 'X-Cell Communications',\n",
       " 'EVA JUAREZ HERNANDEZ',\n",
       " 'ANDY JEKIEL',\n",
       " 'JEWEL FOOD STORE #3139',\n",
       " 'JAGOLI',\n",
       " 'DETAIL CONCRETE INC',\n",
       " 'ADVENT SYSTEMS, INC',\n",
       " 'CAMREN LEE BROWN',\n",
       " 'MVP SPORTZ BARBER SHOP',\n",
       " \"THAT'S HER BAG\",\n",
       " 'BOOST MOBILE',\n",
       " 'NeuroTherapeutics Pharma, Inc',\n",
       " \"RIVERA'S TIRE SHOP\",\n",
       " 'CHICAGO PUPPY PLACE',\n",
       " 'SUBURBAN ELEVATOR CO',\n",
       " 'KENNETH T SIMMONS',\n",
       " 'ALFRED FRICANO',\n",
       " 'BERMAR PROPERTIES, LLC',\n",
       " 'PROVIEW CONSTRUCTION CO',\n",
       " 'FLASH TAX SERVICE',\n",
       " 'SCOTT L CHENOW',\n",
       " 'GROEN WASTE SERVICE',\n",
       " 'DANIEL GARCIA',\n",
       " 'M & K HEATING & COOLING',\n",
       " 'RUBEN JONATHON CONSTRUCTION',\n",
       " 'Copy Cat Cleaning Corporation',\n",
       " 'F W GRAPHICS',\n",
       " 'IPEK GUNDOGDU',\n",
       " 'BUTLER PLUMBING & SEWER',\n",
       " 'R J B PROPERTIES INC',\n",
       " 'FE ROOFTEC CORPORATION',\n",
       " 'Eyequilt, Inc',\n",
       " 'BELLO PLAZA, INC',\n",
       " 'MID CITY CONSTRUCTION INC',\n",
       " 'RAVEN AVIATION LLC',\n",
       " \"CHET'S LOBBY STORE\",\n",
       " 'RAINBOW CLEANERS',\n",
       " 'INTEGRITY HEATING',\n",
       " 'TENANT PROJECT INC',\n",
       " 'J M BARTLEY CONST CO',\n",
       " 'OCEAN MIST, INC',\n",
       " 'DEMOX INC',\n",
       " 'M & F MEGAMARKET, INC',\n",
       " 'CROUCH-WALKER CORPORATION',\n",
       " 'VIOLETAS PERMIT & BUSINESS LICENSE LLC',\n",
       " 'Z CORP SERVICE',\n",
       " 'FRONTLINE SEWER & WATER SPECIALIST',\n",
       " 'THE ASHLAND ARMS GUEST HOUSE',\n",
       " \"ALEXANDER'S HTG & COOLING CO\",\n",
       " 'DTLR',\n",
       " 'TREMONT BUILDING SERVICE INC',\n",
       " 'CONNER TRUCKING OF IL INC',\n",
       " 'OCASIO CONSTRUCTION CO',\n",
       " 'DEVIN P HORTON',\n",
       " 'MARTEZ J CONNER',\n",
       " 'CSS AUTO ELECTRIC',\n",
       " 'TIDWELL CONSTRUCTION LTD',\n",
       " 'M G HOME IMPROVEMENT CORP',\n",
       " 'RANQUIST DEVELOPMENT, INC',\n",
       " 'TIMOTHY L ELVERY',\n",
       " 'VARIETY REMODELING INC',\n",
       " 'THE PASSION PROFESSIONALS',\n",
       " 'CHICAGO ALE HOUSE, RAW BAR & GRILL',\n",
       " 'DELL PLUMBING CO INC',\n",
       " 'HARRIS INDUSTRIES INC',\n",
       " 'OTIS T SPAULDING',\n",
       " 'PLENCER CONSTRUCTION CO',\n",
       " 'BOTANICA SOMOS',\n",
       " 'WOO DEVELOPMENT AND INVESTMENT, INC',\n",
       " 'BEST BUY',\n",
       " 'FAIRBORN EQUIPMENT',\n",
       " 'MCCULLOUGH INTERIOR DESIGN',\n",
       " 'LA & A CONSTRUCTION, INC',\n",
       " 'JAYLA-AFRICAN HAIR BRAIDING',\n",
       " \"BETHANY'S ROOM\",\n",
       " 'FIRST SECONDS RESALE',\n",
       " 'EVEREADY MULTIPLE SERVICES INC',\n",
       " 'DORIN MODERN CONSTRUCTION CO',\n",
       " 'HUGO NAVARRO',\n",
       " 'Rand Financial Services, Inc',\n",
       " 'RAM MECHANICAL SERVICE INC',\n",
       " 'TACO BELL#2719',\n",
       " 'ANDERSON & SHAH ROOFING INC',\n",
       " 'JOSH HARP',\n",
       " 'J P Concrete Service, Inc',\n",
       " 'CHAMPION ENV SERVICES INC',\n",
       " 'STUDIO 4 HAIR',\n",
       " 'VIEWPOINTS NETWORK, LLC',\n",
       " 'E B ELECTRICAL BUSINESS INC',\n",
       " 'NAVARROS SERVICES HEATING & COOLING',\n",
       " 'INSIDE DIMENSIONS',\n",
       " 'AVG HEATING COOLING INC',\n",
       " 'Dr Mark J Stone, PhD',\n",
       " 'AUTOZONE #4421',\n",
       " 'ONSCAPE, INC',\n",
       " 'INTRASTATE MILLWRIGHT SERVICES',\n",
       " 'CUT ME LOOSE LTD',\n",
       " 'BALANCE ENERGY LLC',\n",
       " \"TOMM'S REDEMPTION\",\n",
       " 'FORTINI AND SON',\n",
       " \"ZIGGI'S SERVICES\",\n",
       " \"CHEWIE'S MOTORBIKES\",\n",
       " 'RESTORATION UNLIMITED INC',\n",
       " 'AUTO REPAIR BP CORPORATION',\n",
       " 'LUDELLA LEWIS & CO',\n",
       " 'HEATING AND COOLING SERVICES',\n",
       " 'NORWOOD PARK DODGE',\n",
       " 'DOLLAR WAY PLUS',\n",
       " 'DOGGY DOOZ, INC',\n",
       " 'RAPID ABSTRACT & RESEARCH',\n",
       " 'DYNAMIC WRECKING & EXCAVATION, INC',\n",
       " 'Rush University Medical Center Bookstore',\n",
       " 'MP 13TH STREET TOWER LLC',\n",
       " \"WONDAAL'S HEATING & ACINC\",\n",
       " 'FELDCO FACTORY TO YOU LLC',\n",
       " 'DRESS UP INC',\n",
       " 'ARTISAN HEATING AND COOLING INC',\n",
       " 'BRIAN K ELMORE',\n",
       " 'ALL MAKES AUTO REBUILDERS',\n",
       " 'ELGIN SHEET METAL CO',\n",
       " 'CH2M HILL Engineers, INC',\n",
       " '10 PIN  BOWLING LOUNGE',\n",
       " 'JACOB D SHUBAT',\n",
       " 'SEVILLA FASHIONS',\n",
       " 'L A Fitness and Pro Results',\n",
       " 'Sam Schwartz Engineering, PLLC',\n",
       " 'CUBA MATRIX',\n",
       " 'FRESH LOOK CONSTRUCTION INC',\n",
       " 'BULLOCK, LOGAN AND ASSOCIATES, INC',\n",
       " 'ALAN L FARNSWORTH',\n",
       " 'CORRECT CUTS',\n",
       " 'HONEY \"B\" ENTERPRISES INC',\n",
       " 'JODY UPP',\n",
       " 'JM LANDSCAPING I, INC',\n",
       " 'ADVANCED SEWER & PLUMBING,',\n",
       " 'HOANG KIM',\n",
       " 'MAURITZON INC',\n",
       " 'SIMBORG DEVELOPMENT INC',\n",
       " 'OAK WORTH PLUMBING INC',\n",
       " 'UNIVERSITY OF CHICAGO BOOKSTORE #491',\n",
       " 'W E BISHOP & CO',\n",
       " 'DAVID J WITTHOFF',\n",
       " 'R & L CARRIERS',\n",
       " 'DENNIS DECORATING',\n",
       " 'BAGHDAD ZABIHA HALAL MEAT',\n",
       " 'ALICE BEAUTY SALON',\n",
       " 'BAMBI',\n",
       " 'POST CONSTRUCTION CO',\n",
       " 'WILSONS THE LEATHER EXPERTS',\n",
       " 'JAMES STEPHEN BARRUS',\n",
       " 'WILLIAM K RILEY',\n",
       " 'Greg & Son Construction, Inc',\n",
       " 'ACHILLES CONSTRUCTION',\n",
       " 'HAVILAH BOUTIQUE',\n",
       " 'TEMPCONTROL',\n",
       " 'ALL DRY OF CHICAGO INC',\n",
       " 'ELIZABETH WHEELER',\n",
       " 'OCEAN INTERNATIONAL INC',\n",
       " 'SPINCYCLE COIN LAUNDRY',\n",
       " 'ONE STOP DISTRIBUTORS, LLC',\n",
       " 'J&E CONSTRUCTION & REHAB INC',\n",
       " 'LUNGEVITY FOUNDATION',\n",
       " 'MAZZMOBILE POWERWASH',\n",
       " 'Pearl Meyer & Partners, LLC',\n",
       " 'RANDI L GARNICK',\n",
       " 'JUMAANEE LEE ROGERS',\n",
       " 'M & M CARPENTRY',\n",
       " 'ONE STOP FOOD & GENERAL MERCHANDISES, INC',\n",
       " 'TOP HAT TATTOO',\n",
       " 'American Street Capital',\n",
       " 'CHRIS S UFF',\n",
       " 'DOERR LANDSCAPING',\n",
       " 'BRIAN M KOEHLER',\n",
       " 'SURPLUS ASSET MANAGEMENT AUCTIONS',\n",
       " 'PARKSIDE ASSOCIATES, LLC',\n",
       " 'CIRCOS HNOS VAZQUEZ',\n",
       " 'ENERGY REDUCTION INC',\n",
       " 'MODE CARPENTRY',\n",
       " 'LENDELL MECHANICAL SERVICE',\n",
       " 'PATRICK JMALONEY',\n",
       " 'IBM CREDIT CORPORATION',\n",
       " '3X DATA CORPORATION',\n",
       " 'WEBSTER CONSTRUCTION GROUP INC',\n",
       " 'EV QUALITY CLEANING SERVICE, INC',\n",
       " 'H & F TRUCK & TRAILER REPAIR',\n",
       " 'CRONIN DEKKER HOLDINGS, LLC',\n",
       " 'REVELATIONS OF BEAUTY',\n",
       " 'VERONICA MITCHELL',\n",
       " 'PNS ENTERPRISES, INC',\n",
       " 'VERSOR, INC',\n",
       " 'TPL SIGN SERVICES INC',\n",
       " 'CONCRETE CRAWLSPACES CORP',\n",
       " \"CHILDREN'S CHOICE LEARNING CENTER AT SISTER BONAVENTURE CHILDREN'S CENTER\",\n",
       " 'THE WAXING HOUSE',\n",
       " 'SUPER MERCADO EL GURERRERITO',\n",
       " 'Witech Company, Inc',\n",
       " 'Roe Construction, Inc',\n",
       " 'A T M I',\n",
       " 'J T A Leasing Co, LLC',\n",
       " \"SHIOLI'S SUNRISE HEATING\",\n",
       " 'MARK A STEENBERG',\n",
       " 'ZIMA HVAC, INC',\n",
       " 'T BURNS TRUCKING',\n",
       " 'JON FUCHS PAINTING',\n",
       " 'VINCE NERIN POWER RODDING & SEWER REPAIR CONSTRUCTION, INC',\n",
       " 'AUBURN CORPORATION',\n",
       " 'SUNNY,LTD',\n",
       " 'BELLA SHOE REPAIR',\n",
       " 'CARLOS ARRIOLA',\n",
       " 'CHGO MEDICAL EQUPMT & SUPPLIES',\n",
       " 'TACOS & BURRITO LOS TRES PANCHO #2',\n",
       " \"MEDINA'S AUTO REPAIR\",\n",
       " 'BURNHAM CONSTRUCTION',\n",
       " 'SKYCOMMUNICATION INC',\n",
       " 'DUTCH VALLEY LANDSCAPING INC',\n",
       " 'ZITELLA DEVELOPMENT CORP',\n",
       " 'ACCURATE ENVIROMENTAL  SOLUTIONS INC',\n",
       " 'JCHAVEZ LANDSCAPING',\n",
       " 'STERLING RENAISSANCE, INC',\n",
       " 'ISIDRO MARCIAL',\n",
       " 'CHAPPLE DESIGN-BUILD',\n",
       " 'HOME REMODELING INC',\n",
       " 'FIREMAN ENTERPRISES',\n",
       " 'J & P AUTO REPAIR LTD',\n",
       " 'MICROSTAR KEG MANAGEMENT LLC',\n",
       " 'A & W GROUP',\n",
       " 'DOLLY MADISON BAKERY',\n",
       " 'MODEL BUILDERS, INC',\n",
       " 'ADVANCED UNITED SYSTEMS',\n",
       " 'CATENA HEATING & COOLING',\n",
       " 'SHOWTIME 21 INC',\n",
       " 'KD HOME IMPROVEMENT, INC',\n",
       " 'HOLLYWOOD NAILS',\n",
       " 'OLAR CONSTRUCTION INC',\n",
       " 'CALCON, CORP',\n",
       " 'MIDWEST OFFICE INTERIORS, INC',\n",
       " \"MILITO'S MOBIL\",\n",
       " \"VALLE'S TILE\",\n",
       " 'CS Mechanical, Inc',\n",
       " 'AUTO PROGRESS',\n",
       " 'JC BUILDERS INC',\n",
       " 'SHERAS CONSTRUCTION & CONSTRUCTION',\n",
       " 'CUBBY BEAR LOUNGE LTD',\n",
       " \"BON'S CONSTRUCTION\",\n",
       " 'THOMAS W WHITAKER JR',\n",
       " 'DISCOTECA TEPA',\n",
       " 'BUCARO BROTHERS AUTO CARE',\n",
       " 'J C ANDERSON',\n",
       " 'ONTARIO CLEANERS',\n",
       " 'BISTRO 90',\n",
       " 'MJ CONSTRUCTION',\n",
       " 'AMC INC',\n",
       " 'THE PRIME GROUP INC',\n",
       " 'BANDWIDTH MANAGEMENT INC',\n",
       " 'JP MORGAN ELECTRONIC FINANCIAL SERVICES, INC',\n",
       " 'AREA SHEET METAL INC',\n",
       " 'F & R DECORATING SERVICE, INC',\n",
       " 'HELEN LOUISE FOGARTY',\n",
       " 'Paragraphs Design',\n",
       " 'DOORNBOS INC',\n",
       " 'CHESTER SZYMICZEK',\n",
       " 'SUPER_SKY PRODUCTS INC',\n",
       " 'JTG CONTRACTORS, INC',\n",
       " 'ALBRECHT   ENTERPRISES',\n",
       " 'XSPORT FITNESS',\n",
       " \"ARTUR'S MARBLE & CERAMIC, INC\",\n",
       " 'ALTHEA SINISE',\n",
       " 'BELDEN CLEANERS',\n",
       " 'DESIGN WITHIN REACH',\n",
       " 'GERRY AIR CONDITIONING AND HEATING',\n",
       " 'PRO AUTO TIRES & WHEELS, INC',\n",
       " 'SANTANA HERNANDEZ',\n",
       " 'P C HEATING & COOLING',\n",
       " 'QWBS SERVICES INC',\n",
       " 'TA HEATING AND COOLING CO',\n",
       " 'CHARLES V UTSLER JR',\n",
       " 'HELEN SADELSKA KOZEL',\n",
       " 'GRISBY',\n",
       " 'ENTERPRISE PAINTING COMPANY',\n",
       " 'NORTHEAST CONTRACTORS INC',\n",
       " 'GWB HIGHLANDERS HEATING & AIR CONDITIONING INC',\n",
       " 'JANET M SCHULTZ - MROZ',\n",
       " 'GLENN A WINTERNITZ, LLC',\n",
       " 'THE AFRICAN HEDONIST',\n",
       " 'WITMAN SERVICES CORP',\n",
       " 'Hydrate',\n",
       " 'DANKA OFFICE IMAGING COMPANY',\n",
       " 'Basic Chemical Solutions LLC',\n",
       " 'T & M MECHANICAL CONSTRUCTION',\n",
       " 'THOMPSON CONSTRUCTION',\n",
       " \"BANANA JOE'S\",\n",
       " 'ERIC DOUGLAS',\n",
       " 'JACK PETER VITALE',\n",
       " 'GENERAL WINDOW CLEANING CO',\n",
       " 'MERCURY FUELS',\n",
       " 'NORTHERN WEATHERMAKERS HVAC INC',\n",
       " 'JOSE G MELGAR',\n",
       " 'CALDERON LANDSCAPING',\n",
       " 'ACE CONSTRUCTION',\n",
       " 'SAGINAW RESTAURANT & FOOD',\n",
       " \"WE'RE CLEANING INC\",\n",
       " 'J & M LAUNDERETTE INC',\n",
       " 'HILL MECHANICAL OPERATIONS, INC',\n",
       " 'CENTRAL CONTRACTORS SERVICE IN',\n",
       " \"FANNY'S JEWELRY\",\n",
       " 'BEACON PRINTERS',\n",
       " 'BELL FUELS INC',\n",
       " \"MICHAEL R O'GIEBLYN\",\n",
       " 'A & R CONSTRUCTION INC',\n",
       " 'DEBORAH J  HATMAN',\n",
       " 'PSC Group, LLC',\n",
       " 'GK COMFORT HVAC',\n",
       " 'DoveBid, Inc',\n",
       " 'U S Lec Communications',\n",
       " 'JACKSON HEWITT TAX SERVICES',\n",
       " 'KRENGEL & ASSOCIATES INC',\n",
       " 'GG AFRICAN HAIR BRAIDING',\n",
       " 'DEE WILLIAMS ENTERPRISES',\n",
       " 'DMC INC',\n",
       " 'JAMES K CAGE, III',\n",
       " 'PAJE`',\n",
       " 'VICENTE BERNAL',\n",
       " 'SOLO CUP OPERATING CORPORATION',\n",
       " 'AERO-TEMP MECHANICAL',\n",
       " 'SEMKO INC',\n",
       " 'DO RIGHT ROOTER PLUMBING AND HEATING',\n",
       " 'ERIN M KREMZAR',\n",
       " 'MARISCOS EL VENENO #2 CORP',\n",
       " 'ALCAN HEATING & AIR CONDITIONING',\n",
       " 'TRACK SERVICE INC',\n",
       " 'TAD CARPENTRY INC',\n",
       " 'CODE MECHANICAL, INC',\n",
       " 'TERRA DEMOLITION',\n",
       " 'SMJGENERAL CONTRACTOR',\n",
       " 'TRICO MECHANICAL INC',\n",
       " 'CLAUSS BROTHERS INC',\n",
       " \"STEVO'S PLUMBING\",\n",
       " \"NOAH'S CLEANING SERVICES\",\n",
       " 'CHICAGO STEEL CONSTRUCTION, LLC',\n",
       " 'DESIGN CARPENTRY CO',\n",
       " 'CONSTRUCTION 77 INC',\n",
       " 'BEELER CONSTRUCTION INC',\n",
       " 'DNA GENERAL CONTRACTING INC',\n",
       " 'A & J GLASS',\n",
       " 'PUBLICIS DIALOG - CHICAGO, INC',\n",
       " 'Range',\n",
       " 'HOME LOANS',\n",
       " 'PEARSON RESOURCE CENTER PRC TRANSPORTATION SERVICE',\n",
       " 'K & S PHARMACY INC',\n",
       " 'EMBASSY SUITES HOTEL',\n",
       " 'CHECKPOINT SECURITIY SYSTEMS',\n",
       " 'ROBERT YIU CONST INC',\n",
       " 'BRIAZZ',\n",
       " 'BECHSTEIN CONSTRUCTION CORP',\n",
       " 'National Decorating Service',\n",
       " 'GROEN WASTE SERVICES',\n",
       " 'SIGNCO, INC',\n",
       " 'BRH Strategic Solutions',\n",
       " 'THE ART OF PARTY INC',\n",
       " 'LARAMIE HEATING & REFRIGERATIO',\n",
       " 'TWIN CONTRACTORS INC',\n",
       " \"NICK'S CONSTRUCTION\",\n",
       " 'Heavenly Cleaning Supplies',\n",
       " 'CROWN BUILDING CONTRACTORS, INC',\n",
       " \"CLIFF'S HEATING REF,A/C INC\",\n",
       " 'LAWRENCE L STEVENS',\n",
       " 'B & B TIRE REPAIR',\n",
       " 'STUART DESIGN, LLC',\n",
       " 'MARK AMUSEMENT CO',\n",
       " 'ABLE CONSTRUCTION',\n",
       " 'JOHN SPOT PORTBALE SERVICES',\n",
       " 'ANIELA KWAK',\n",
       " 'RAIMONDA SIREIKIENE',\n",
       " 'TEC CONSTRUCTION LLC',\n",
       " \"DENISE'S\",\n",
       " 'CHE KAHLO CAFE,',\n",
       " 'CZARNOWSKI DISPLAY SERVIC',\n",
       " 'JoA Beauty',\n",
       " 'CESAR R RANGEL',\n",
       " 'BELEN SERVICES',\n",
       " 'MARATHON GAS',\n",
       " 'COMMERCIAL CARPENTRY CORP',\n",
       " 'CLEAN UP SERVICE, INC',\n",
       " 'COSTA DEL SOL TRAVEL, INC',\n",
       " 'FAHIYM A NASIR',\n",
       " 'AUDRIUS MAGYLA',\n",
       " \"NORTON'S NOVELTY SHOP\",\n",
       " 'Indoor Environmental Technologies, Inc',\n",
       " 'LAKEVIEW LUMBER & CONSTRUCTION',\n",
       " 'OLA STUDIO',\n",
       " \"DAVE & BUSTER'S/MIDWAY BAR\",\n",
       " 'POLSELLI + ZAPPEL CONSTRUCTION LLC',\n",
       " 'PREMIER CONTRACTING GROUP',\n",
       " \"BELLADONNA'S\",\n",
       " 'PRAIRIE MATERIAL SALES INC',\n",
       " 'LAST CHANCE LOUNGE, INC',\n",
       " 'LOWFARE TRAVEL CHICAGO',\n",
       " 'RONCARANI & ASSOCIATES INC',\n",
       " 'ALL-TECH DECORATING',\n",
       " 'NORTHERN EXCAVATOR INC',\n",
       " 'IUS INC',\n",
       " 'BELL VENDING CO',\n",
       " 'INGRAM EXCAVATING',\n",
       " 'ALL SEALANTS INC',\n",
       " 'NBRUNO CONSTRUCTION,INC',\n",
       " \"LUKE'S HEATING & COOLING, LLC\",\n",
       " 'WASTE MANAGEMET METRO',\n",
       " 'NAILS FOR YOU',\n",
       " 'STEVE RODRIGUEZ',\n",
       " 'SAWA FLOORING',\n",
       " 'SHELLEY A DAVIS',\n",
       " 'ARCUS CONSTRUCTION, INC',\n",
       " 'Norton Norris, Inc',\n",
       " '1040 CLUB INC',\n",
       " 'PIRTANO CONSTRUCTION CO INC',\n",
       " 'JUSTINE FOOD MART',\n",
       " 'CHICAGOLAND REMODELING INC',\n",
       " 'JL BEASON CONSULTING',\n",
       " 'MB HEATING AND AIR CONDITIONING',\n",
       " 'AZTECAS MUFFLERS & BRAKES',\n",
       " 'Mensch With A Wrench',\n",
       " 'KENNETH L KEMP SR',\n",
       " 'MICHAEL WALLACE MYERS',\n",
       " \"MID-CITY HEATING & AIR CONDT'N\",\n",
       " 'OTSUKA DENTAL LABORATORY INC',\n",
       " 'DC MEDICAL SUPPLIES COMPANY',\n",
       " 'CONSOLIDATED MECH SERV INC',\n",
       " 'VECTA DIVISION OF STEEL CASE',\n",
       " 'PEARL BEAUTY SPA',\n",
       " 'SKYVIEW TECHNOLOGY, INC',\n",
       " 'Oliver Peoples',\n",
       " 'PROFUS CONSTRUCTION',\n",
       " 'ADVANCED COOLER INC',\n",
       " 'NATION SUPREME CLEANING SERVICES INC',\n",
       " 'MEN AT WORK',\n",
       " 'CONTRERAS PRODUCTIONS, INC',\n",
       " \"MR FIE'S GOODS & SERVICES\",\n",
       " \"Harry's Cafe @ WMS Gaming\",\n",
       " 'Paul W Thompson Music',\n",
       " 'TRLAK BROS CONSTRUCTION INC',\n",
       " 'SNAPPY CONVENIENCE CENTER',\n",
       " 'ACCELERATED REHABILITATION CENTERS',\n",
       " 'JOHN F SEARLES JR',\n",
       " 'SERVICE CONSTRUCTION INC',\n",
       " \"MR VIRGIL'S CANINE CREATIONS\",\n",
       " 'V AND A CONSTRUCTION CO',\n",
       " 'HERRERA CONSTRUCTIN COMPANY',\n",
       " 'R L GUSTAFSON & CO INC',\n",
       " 'BLUE STAR INSURANCE AND SERVICES INC',\n",
       " 'STARBUCKS COFFEE',\n",
       " \"MIKE'S DECORATIVE CONSTRUCTION\",\n",
       " 'ALWAYS HEATING & COOLING',\n",
       " 'ZACHARY M MITTON',\n",
       " 'ZEFERINO CORTES GUZMAN',\n",
       " 'Allied Institute of Professional Studies',\n",
       " 'VICTORY AUTO GLASS CORP',\n",
       " 'GOSPEL INTERNATIONAL APPAREL SHOP',\n",
       " 'OJEDA CONSTRUCTION CO INC',\n",
       " 'MOON STAR GROCERY, INC',\n",
       " 'DOLLAR CITY PLUS',\n",
       " 'CALUMET HEATING & AIR CONDITIO',\n",
       " 'PRECISION HEATING & COOL',\n",
       " 'ARC DISPOSAL COMPANY, INC',\n",
       " 'PET PARADISE GROOMING SALON',\n",
       " 'A-Z FLOORS',\n",
       " 'HEALY CONSTRUCTION SERVICE INC',\n",
       " 'MILAGO HEATING AND COOLING INC',\n",
       " 'MORRIS EXCAVATING INC',\n",
       " 'AUTO SERVICES OF CHICAGO, INC',\n",
       " 'UNITED EDUCATIONAL CULTURAL ACADEMY',\n",
       " 'Colors For Tots Daycare Center',\n",
       " \"MIKE'S NEIGHBORHOOD GROCERIES\",\n",
       " 'DOLLAR BUY PLUS',\n",
       " 'TEMPERATURE SERVICE CO, INC',\n",
       " 'PRINCESA',\n",
       " 'JORGE A CRUZ',\n",
       " \"Smitty's Landscape And Tree Services, Inc\",\n",
       " 'ALL SUBURBAN REMODELERS INC',\n",
       " 'Kooky',\n",
       " 'CGC MECHANICAL, INC',\n",
       " 'AARON D CRITES',\n",
       " 'KERMIT C STORY',\n",
       " 'MARK I RESTORATION COMPANY',\n",
       " 'KMR CONSULTING INC',\n",
       " 'THE EDGE LOFTS AND TOWER',\n",
       " 'PROFFESIONAL PLUMBING',\n",
       " 'BMK INDUSTRIES INC',\n",
       " 'ASSET RECOVERY CONTRACTING LLC',\n",
       " 'CHARLES HALL CONSTRUCTION LLC',\n",
       " 'AMERICAN ADVANCED REMODELING, INC',\n",
       " 'The Hill Group',\n",
       " 'DIANA J SEMMELHACK',\n",
       " 'AIGRE DOUX',\n",
       " 'STATE AUTOMATIC HEATING & CLG',\n",
       " 'MICHAEL J BROWN PHONE SERVICE',\n",
       " 'SILVIA STATUARY',\n",
       " 'LAPELUSA HOME IMPROVEMENT INC',\n",
       " 'BOGI  HANDYMAN SERVICES INC',\n",
       " 'Southport Fitness',\n",
       " 'EVO-SITE LLC',\n",
       " 'AIRPORT HEATING & A C',\n",
       " 'H20 PLUS',\n",
       " 'TOWN & COUNTRY SHEET METAL INC',\n",
       " 'OLYMPUS',\n",
       " 'AIR LOGISTICS AMERICA',\n",
       " 'PROFIT INVESTMENT MANAGEMENT',\n",
       " 'A K PAINTING, CO',\n",
       " 'MYRA TERESA ROBINSON',\n",
       " \"WINGS O' FLAVOR\",\n",
       " 'DALE A KIRK',\n",
       " 'SECOND CITY CONSTRUCTION CO IN',\n",
       " 'GROW FLOWER SHOP',\n",
       " 'STAUNTON & STAUNTON',\n",
       " 'LA NUEVA IMAGEN',\n",
       " 'D C TAYLOR CO',\n",
       " 'ADVANCED COMFORT HVAC INC',\n",
       " 'ATLAS EXPEDITING SOLUTIONS, INC',\n",
       " 'ELANDA R BROWN',\n",
       " \"BARRY'S HEATING AND COOLING\",\n",
       " 'ANY WEATHER MECHANICAL INC',\n",
       " 'SKOKIE VALLEY AIR CONTROL INC',\n",
       " 'Plan-It Granite & Marble',\n",
       " 'MARCUS TIRE & WHEELS',\n",
       " 'CONCEPCION COHETZALTITLA - MONROY',\n",
       " 'STASH CONSTRUCTION INC',\n",
       " 'FRANK H RATH',\n",
       " 'CAPITALSOURCE',\n",
       " 'MAXIMUM RECOVERY SERVICE, INC',\n",
       " 'KELLANEY CONTRACTING',\n",
       " 'JD & SONS ROOFING CO, INC',\n",
       " 'CRYSTAL CLEAN HAND CAR WASH',\n",
       " 'GRANITE DEZIGNS',\n",
       " 'ANGELO CONSTRUCTION SERVICES INC',\n",
       " 'BELL LAND IMPROVEMENT INC',\n",
       " '606 PROPERTIES',\n",
       " \"FRANCHI'S CONSTRUCTION\",\n",
       " 'AMERI ENVIROMENTAL',\n",
       " 'AMERICAN BROADBAND',\n",
       " 'ROSSI BROS PROPERTIES',\n",
       " 'H & A FOOD MARKET, INC',\n",
       " 'HERMAN/STEWART CONSTRUCTION',\n",
       " 'S & G SECURITY',\n",
       " 'FINE CONSTRUCTION CORP',\n",
       " 'Luxury Eyesight',\n",
       " 'MICHAEL  W   BOUCHER',\n",
       " 'IRVING PARK RD SRO',\n",
       " 'SUPERIOR PETROLEUM MARKETERS',\n",
       " 'PRESTIGE WINDOW CLEANING',\n",
       " 'EDWARD F FITZPATRICK',\n",
       " 'FIRM58, INC',\n",
       " 'MARIAN KAPLINSKI',\n",
       " 'CINDY MASEK',\n",
       " 'DELGADO TRAVEL AGENCY INC',\n",
       " 'AUDI ANSWERING SERVICE',\n",
       " 'JMS, INC',\n",
       " 'Hacker Refrigeration',\n",
       " 'VERRAN Z STEWART',\n",
       " 'GARAGE KING',\n",
       " 'ENNS RENOVATION',\n",
       " 'INVISTA SARL',\n",
       " 'CORRECT CLEANING JANITOR',\n",
       " 'FAMILY DOLLAR STORE #6618',\n",
       " \"CHERNIN'S SHOE OUTLET\",\n",
       " 'TOP CONCRETE COMPANY',\n",
       " 'CRYSTAL & DOMONIQUE HOUSE OF B',\n",
       " 'COMFFORT TEMP HEATING',\n",
       " 'McDERMOTT CONSTRUCTION',\n",
       " 'HDO PRODUCTIONS',\n",
       " 'CAMPOS  LANDSCAPING/SNOW REMOVAL',\n",
       " 'FAMILY DISCOUNT & FURNITURE, INC',\n",
       " 'RICKY CONSTRUCTION',\n",
       " 'THE ATRIUM HLTH CARE CTRS, INC',\n",
       " 'KOIS CONSTRUCTION',\n",
       " 'CERTIFIED TANK SERVICES INC',\n",
       " 'JAMES NCNAUGHTON-PERSHING ROAD, LLC',\n",
       " 'BRICKS & STEEL LTD',\n",
       " 'JOYFUL BEGINNINGS INC',\n",
       " 'NORTH STAR CABLE CONSTRUCTION, INC',\n",
       " 'B C I COMMERCIAL ROOFING, INC',\n",
       " 'RICHARDSON & SONS CONCRETE, INC',\n",
       " 'BULLDOG RECOVERY',\n",
       " 'AZ-TECH HEATING & COOLING',\n",
       " 'PADE MATTRESS INC',\n",
       " 'ELEVATOR TECHNICIANS INC',\n",
       " 'EUROPEAN SOJOURNS',\n",
       " 'LINDA CONSTRUCTION SERVICES IN',\n",
       " 'TCS LINCOLN WIRELESS',\n",
       " 'NELLIGAN INC',\n",
       " 'TEPCO TUNE UP & AUTO CARE',\n",
       " 'CENTERBEAM',\n",
       " 'SUAVES TUCKPOINTING CO',\n",
       " 'CIEZCZAK BROTHERS CONSTRUCTION',\n",
       " 'R CARLSON & SONS, INC',\n",
       " 'ALLIED MECHANICAL, INC',\n",
       " 'ABC Plumbing, Heating, Cooling, and Electric',\n",
       " 'A AUTO REPAIR',\n",
       " 'HOMEWOOD DISPOSAL SERVICE INC',\n",
       " 'P G CONSTRUCTION',\n",
       " 'DUNLEAVY CONCRETE INC',\n",
       " 'ADINO, INC',\n",
       " 'ANTRIM CO INC',\n",
       " 'GEORGES GARAGES',\n",
       " 'MICHELS CORPORATION',\n",
       " 'RAYS CONSTRUCTION',\n",
       " 'JAN K BURZYNSKI',\n",
       " \"NEW CONSOLIDATED INT'L CORP\",\n",
       " 'LIFT WORKS INC',\n",
       " 'CHICAGO BOARD-UP SERVICES INC',\n",
       " 'CENTRAL CLEANES',\n",
       " 'JS SOUND SHOP',\n",
       " 'SAGGIONE & SONS',\n",
       " 'TUSCANY CONSTRUCTION',\n",
       " 'BROOKE R VHOSKY',\n",
       " 'SERVICE SANITATION',\n",
       " 'BERNARD TECHNOLOGIES INC',\n",
       " 'TROY AMUSEMENTS INC',\n",
       " 'THE FINISHING TOUCH',\n",
       " 'A & S FENCE',\n",
       " 'LOWES #2301',\n",
       " 'KANO CONSTRUCTION LLC',\n",
       " 'M & J GENERAL CONTRACTORS',\n",
       " 'ELECTRICAL CONTRACTORS',\n",
       " 'AMERICAN LANDMARK HOMES',\n",
       " 'AMERICA INREPO OF ILLINOIS INC',\n",
       " \"'MI-TIERRA'\",\n",
       " 'BILLABONG',\n",
       " 'CARL BUONAFEDE',\n",
       " \"JT'S QUALITY CLEANING SERVICES\",\n",
       " 'BULKMATIC TRANSPORT CO',\n",
       " 'J S SERVICES RESEARCH AND TRADING LLC',\n",
       " 'EB & JB ENTERPRISES INC',\n",
       " 'DEARBORN PROFESSIONAL SERVICES',\n",
       " 'JABCO INDUSTRIAL SERVICES COMPANY',\n",
       " 'DEPENDABLE HEALTH SERVICE CORP',\n",
       " 'GA JOHNSON & SON',\n",
       " \"DOMINICK'S # 111/4111\",\n",
       " 'MASTER CARPENTER',\n",
       " 'MJ MECHANICAL SERVICES, INC',\n",
       " 'KIRBY RYAN & ASSOCIATES',\n",
       " 'Graphic Conservation Company',\n",
       " 'NATIONAL TRUSS CO INC',\n",
       " 'THE MOWING DEPOT INC',\n",
       " 'HORIZON CONSTRUCTION INC',\n",
       " 'CONCEPT PLUMBING INC',\n",
       " 'NOSAL CONSTRUCTION CORP',\n",
       " 'Rodolfo Angeles',\n",
       " 'MIDWAY PLUMBING INC',\n",
       " 'CITIZEN CANINE BED & BREAKFAST',\n",
       " 'AI BUS SERVICE, LLC',\n",
       " 'FAMILY DOLLAR #5319',\n",
       " 'KESTLER GRAPHICS',\n",
       " 'Inland Clothing',\n",
       " 'R & D VALAVIC  COMPANY',\n",
       " 'C3 CONSTRUCTION SERVICES, INC',\n",
       " 'SHARITA L DAVIS',\n",
       " 'Dusty Groove, Inc',\n",
       " '1111 SOUTH WABASH, LLC',\n",
       " 'EVENTIVE INC',\n",
       " 'ZERA CONSTRUCTION CO INC',\n",
       " 'MUEBLERIA MUNOZ',\n",
       " 'SERVICE SYSTEMS REFRIGERATION',\n",
       " ...]"
      ]
     },
     "execution_count": 68,
     "metadata": {},
     "output_type": "execute_result"
    }
   ],
   "source": [
    "train['DOING BUSINESS AS NAME'].unique().tolist()"
   ]
  },
  {
   "cell_type": "markdown",
   "metadata": {
    "ExecuteTime": {
     "end_time": "2022-05-07T06:54:55.521352Z",
     "start_time": "2022-05-07T06:54:55.503162Z"
    }
   },
   "source": [
    "## Adding values to new column - LEGAL TYPE according to LEGAL NAME and DOING BUSINESS AS NAME columns"
   ]
  },
  {
   "cell_type": "code",
   "execution_count": 69,
   "metadata": {
    "ExecuteTime": {
     "end_time": "2022-05-07T07:06:06.741514Z",
     "start_time": "2022-05-07T07:06:05.549579Z"
    }
   },
   "outputs": [],
   "source": [
    "train['LEGAL TYPE'] = np.where(train['LEGAL NAME'].str.contains('INC'), 'INC', train['LEGAL TYPE'])\n",
    "train['LEGAL TYPE'] = np.where(train['LEGAL NAME'].str.contains('INCORPORATED'), 'INC', train['LEGAL TYPE'])\n",
    "train['LEGAL TYPE'] = np.where(train['DOING BUSINESS AS NAME'].str.contains('INC'), 'INC', train['LEGAL TYPE'])\n",
    "train['LEGAL TYPE'] = np.where(train['DOING BUSINESS AS NAME'].str.contains('INCORPORATED'), 'INC', train['LEGAL TYPE'])\n",
    "\n",
    "test['LEGAL TYPE'] = np.where(test['LEGAL NAME'].str.contains('INC'), 'INC', test['LEGAL TYPE'])\n",
    "test['LEGAL TYPE'] = np.where(test['LEGAL NAME'].str.contains('INCORPORATED'), 'INC', test['LEGAL TYPE'])\n",
    "test['LEGAL TYPE'] = np.where(test['DOING BUSINESS AS NAME'].str.contains('INC'), 'INC', test['LEGAL TYPE'])\n",
    "test['LEGAL TYPE'] = np.where(test['DOING BUSINESS AS NAME'].str.contains('INCORPORATED'), 'INC', test['LEGAL TYPE'])"
   ]
  },
  {
   "cell_type": "code",
   "execution_count": 70,
   "metadata": {
    "ExecuteTime": {
     "end_time": "2022-05-07T07:08:06.512332Z",
     "start_time": "2022-05-07T07:08:05.854590Z"
    }
   },
   "outputs": [],
   "source": [
    "train['LEGAL TYPE'] = np.where(train['LEGAL NAME'].str.contains('LLC'), 'LLC', train['LEGAL TYPE'])\n",
    "train['LEGAL TYPE'] = np.where(train['DOING BUSINESS AS NAME'].str.contains('LLC'), 'LLC', train['LEGAL TYPE'])\n",
    "\n",
    "test['LEGAL TYPE'] = np.where(test['LEGAL NAME'].str.contains('LLC'), 'LLC', test['LEGAL TYPE'])\n",
    "test['LEGAL TYPE'] = np.where(test['DOING BUSINESS AS NAME'].str.contains('LLC'), 'LLC', test['LEGAL TYPE'])"
   ]
  },
  {
   "cell_type": "code",
   "execution_count": 71,
   "metadata": {
    "ExecuteTime": {
     "end_time": "2022-05-07T07:11:18.111076Z",
     "start_time": "2022-05-07T07:11:16.739223Z"
    }
   },
   "outputs": [],
   "source": [
    "train['LEGAL TYPE'] = np.where(train['LEGAL NAME'].str.contains('CORP'), 'CORP', train['LEGAL TYPE'])\n",
    "train['LEGAL TYPE'] = np.where(train['LEGAL NAME'].str.contains('CO'), 'CORP', train['LEGAL TYPE'])\n",
    "train['LEGAL TYPE'] = np.where(train['LEGAL NAME'].str.contains('CORPORATION'), 'CORP', train['LEGAL TYPE'])\n",
    "train['LEGAL TYPE'] = np.where(train['DOING BUSINESS AS NAME'].str.contains('CORP'), 'CORP', train['LEGAL TYPE'])\n",
    "train['LEGAL TYPE'] = np.where(train['DOING BUSINESS AS NAME'].str.contains('CO'), 'CORP', train['LEGAL TYPE'])\n",
    "train['LEGAL TYPE'] = np.where(train['DOING BUSINESS AS NAME'].str.contains('CORPORATION'), 'CORP', train['LEGAL TYPE'])\n",
    "\n",
    "test['LEGAL TYPE'] = np.where(test['LEGAL NAME'].str.contains('CORP'), 'CORP', test['LEGAL TYPE'])\n",
    "test['LEGAL TYPE'] = np.where(test['LEGAL NAME'].str.contains('CO'), 'CORP', test['LEGAL TYPE'])\n",
    "test['LEGAL TYPE'] = np.where(test['LEGAL NAME'].str.contains('CORPORATION'), 'CORP', test['LEGAL TYPE'])\n",
    "test['LEGAL TYPE'] = np.where(test['DOING BUSINESS AS NAME'].str.contains('CORP'), 'CORP', test['LEGAL TYPE'])\n",
    "test['LEGAL TYPE'] = np.where(test['DOING BUSINESS AS NAME'].str.contains('CO'), 'CORP', test['LEGAL TYPE'])\n",
    "test['LEGAL TYPE'] = np.where(test['DOING BUSINESS AS NAME'].str.contains('CORPORATION'), 'CORP', test['LEGAL TYPE'])"
   ]
  },
  {
   "cell_type": "code",
   "execution_count": 72,
   "metadata": {
    "ExecuteTime": {
     "end_time": "2022-05-07T07:13:32.357974Z",
     "start_time": "2022-05-07T07:13:31.221968Z"
    }
   },
   "outputs": [],
   "source": [
    "train['LEGAL TYPE'] = np.where(train['LEGAL NAME'].str.contains('LIMITED'), 'LTD', train['LEGAL TYPE'])\n",
    "train['LEGAL TYPE'] = np.where(train['LEGAL NAME'].str.contains('LTD'), 'LTD', train['LEGAL TYPE'])\n",
    "train['LEGAL TYPE'] = np.where(train['DOING BUSINESS AS NAME'].str.contains('LIMITED'), 'LTD', train['LEGAL TYPE'])\n",
    "train['LEGAL TYPE'] = np.where(train['DOING BUSINESS AS NAME'].str.contains('LTD'), 'LTD', train['LEGAL TYPE'])\n",
    "\n",
    "test['LEGAL TYPE'] = np.where(test['LEGAL NAME'].str.contains('LIMITED'), 'LTD', test['LEGAL TYPE'])\n",
    "test['LEGAL TYPE'] = np.where(test['LEGAL NAME'].str.contains('LTD'), 'LTD', test['LEGAL TYPE'])\n",
    "test['LEGAL TYPE'] = np.where(test['DOING BUSINESS AS NAME'].str.contains('LIMITED'), 'LTD', test['LEGAL TYPE'])\n",
    "test['LEGAL TYPE'] = np.where(test['DOING BUSINESS AS NAME'].str.contains('LTD'), 'LTD', test['LEGAL TYPE'])"
   ]
  },
  {
   "cell_type": "code",
   "execution_count": 73,
   "metadata": {
    "ExecuteTime": {
     "end_time": "2022-05-07T07:13:57.194638Z",
     "start_time": "2022-05-07T07:13:57.162006Z"
    }
   },
   "outputs": [
    {
     "data": {
      "text/plain": [
       "['PVT', 'INC', 'CORP', 'LTD', 'LLC']"
      ]
     },
     "execution_count": 73,
     "metadata": {},
     "output_type": "execute_result"
    }
   ],
   "source": [
    "train['LEGAL TYPE'].unique().tolist()"
   ]
  },
  {
   "cell_type": "code",
   "execution_count": 74,
   "metadata": {
    "ExecuteTime": {
     "end_time": "2022-05-07T07:14:23.103886Z",
     "start_time": "2022-05-07T07:14:23.065850Z"
    }
   },
   "outputs": [
    {
     "data": {
      "text/plain": [
       "CORP    27765\n",
       "PVT     27020\n",
       "INC     24447\n",
       "LLC      5048\n",
       "LTD      1615\n",
       "Name: LEGAL TYPE, dtype: int64"
      ]
     },
     "execution_count": 74,
     "metadata": {},
     "output_type": "execute_result"
    }
   ],
   "source": [
    "train['LEGAL TYPE'].value_counts()"
   ]
  },
  {
   "cell_type": "code",
   "execution_count": 75,
   "metadata": {
    "ExecuteTime": {
     "end_time": "2022-05-07T07:15:24.120976Z",
     "start_time": "2022-05-07T07:15:23.962705Z"
    }
   },
   "outputs": [],
   "source": [
    "# dropping columns LEGAL NAME and DOING BUSINESS AS NAME\n",
    "train.drop(['LEGAL NAME', 'DOING BUSINESS AS NAME'], axis= 1, inplace= True)\n",
    "test.drop(['LEGAL NAME', 'DOING BUSINESS AS NAME'], axis= 1, inplace= True)"
   ]
  },
  {
   "cell_type": "code",
   "execution_count": 76,
   "metadata": {
    "ExecuteTime": {
     "end_time": "2022-05-07T07:15:29.638505Z",
     "start_time": "2022-05-07T07:15:29.627824Z"
    }
   },
   "outputs": [
    {
     "data": {
      "text/plain": [
       "Index(['ACCOUNT NUMBER', 'SITE NUMBER', 'CITY', 'STATE', 'ZIP CODE', 'WARD',\n",
       "       'PRECINCT', 'WARD PRECINCT', 'POLICE DISTRICT', 'LICENSE CODE',\n",
       "       'LICENSE DESCRIPTION', 'LICENSE NUMBER', 'APPLICATION TYPE',\n",
       "       'CONDITIONAL APPROVAL', 'LATITUDE', 'LONGITUDE', 'LICENSE STATUS',\n",
       "       'APPLICATION REQUIREMENTS COMPLETE YEAR', 'PAYMENT YEAR',\n",
       "       'PAYMENT MONTH', 'LICENSE APPROVED FOR ISSUANCE YEAR', 'YEAR ISSUED',\n",
       "       'LICENSE STATUS CHANGE YEAR', 'LICENSE VALIDITY', 'LEGAL TYPE'],\n",
       "      dtype='object')"
      ]
     },
     "execution_count": 76,
     "metadata": {},
     "output_type": "execute_result"
    }
   ],
   "source": [
    "train.columns"
   ]
  },
  {
   "cell_type": "code",
   "execution_count": 82,
   "metadata": {
    "ExecuteTime": {
     "end_time": "2022-05-07T07:31:01.358978Z",
     "start_time": "2022-05-07T07:31:01.336903Z"
    }
   },
   "outputs": [
    {
     "data": {
      "text/plain": [
       "['Accessory Garage',\n",
       " 'Affiliation',\n",
       " 'Airport Pushcart Liquor Midway - Class A',\n",
       " \"Airport Pushcart Liquor O'Hare - Class A\",\n",
       " 'Animal Care Facility',\n",
       " 'Animal Care License',\n",
       " 'Animal Exhibition',\n",
       " 'Assisted Living/Shared Housing Establishment',\n",
       " 'Auctioneer',\n",
       " 'Automatic Amusement Device Operator',\n",
       " 'Bed-And-Breakfast Establishment',\n",
       " 'Bicycle Messenger Service',\n",
       " 'Board-Up Work',\n",
       " 'Body Piercing',\n",
       " 'Broker',\n",
       " \"Caterer's Liquor License\",\n",
       " \"Caterer's Registration (Liquor)\",\n",
       " \"Children's Activities Facilities\",\n",
       " 'Consumption on Premises - Incidental Activity',\n",
       " 'Day Care Center 2 - 6 Years',\n",
       " 'Day Care Center Under 2 Years',\n",
       " 'Day Care Center Under 2 and 2 - 6 Years',\n",
       " 'Day Labor Agency',\n",
       " 'Electronic Equipment Repair',\n",
       " 'Expediter - Class A',\n",
       " 'Expediter - Class B',\n",
       " 'Expediter - Class B Employee',\n",
       " 'Explosives',\n",
       " 'Explosives, Certificate of Fitness',\n",
       " 'Filling Station',\n",
       " 'Grooming Facility',\n",
       " 'Guard Dog Service',\n",
       " 'Hazardous Materials',\n",
       " 'Home Occupation',\n",
       " 'Home Repair',\n",
       " 'Hospital',\n",
       " 'Hotel',\n",
       " 'Humane Society',\n",
       " 'Indoor Special Event',\n",
       " 'Itinerant Merchant, Class I',\n",
       " 'Itinerant Merchant, Class II',\n",
       " 'Junk Peddler',\n",
       " 'Kennels and Catteries',\n",
       " 'Laboratories',\n",
       " 'Late Hour',\n",
       " 'Laundry, Late Hour',\n",
       " 'Limited Business License',\n",
       " 'Long-Term Care Facility',\n",
       " 'Manufacturing Establishments',\n",
       " 'Massage Establishment',\n",
       " 'Massage Therapist',\n",
       " 'Mobile Food Dispenser',\n",
       " 'Mobile Frozen Desserts Dispenser - Non-Motorized',\n",
       " 'Motor Vehicle Repair : Engine Only (Class II)',\n",
       " 'Motor Vehicle Repair: Engine/Body(Class III)',\n",
       " 'Motor Vehicle Repair; Specialty(Class I)',\n",
       " 'Motor Vehicle Services License',\n",
       " 'Music and Dance',\n",
       " 'Navy Pier - Mobile',\n",
       " 'Navy Pier - Outdoor Fixed',\n",
       " 'Navy Pier Vendor (Non-Food)',\n",
       " 'Night Care Privilege',\n",
       " 'Not-For-Profit Club',\n",
       " 'Outdoor Patio',\n",
       " 'Package Goods',\n",
       " 'Pawnbroker',\n",
       " 'Peddler, food (fruits and vegtables only)',\n",
       " 'Peddler, non-food',\n",
       " 'Peddler, non-food, special',\n",
       " 'Peddler,food - (fruits and vegetables only) - special',\n",
       " 'Performing Arts Venue',\n",
       " 'Pet Shop',\n",
       " 'Private Booting Operation',\n",
       " 'Produce Merchant',\n",
       " 'Public Place of Amusement',\n",
       " 'Public Place of Amusement-TCC',\n",
       " 'Raffles',\n",
       " 'Regulated Business License',\n",
       " 'Repossessor Class A',\n",
       " 'Repossessor Class B',\n",
       " 'Repossessor Class B Employee',\n",
       " 'Residential Real Estate Developer',\n",
       " 'Retail Computing Center',\n",
       " 'Retail Food Est.-Supplemental License for Dog-Friendly Areas',\n",
       " 'Retail Food Establishment',\n",
       " 'Riverwalk Venue Liquor License',\n",
       " 'Scavenger, Private',\n",
       " 'Secondhand Dealer (No Valuable Objects)',\n",
       " \"Secondhand Dealer - Children's Products\",\n",
       " 'Single Room Occupancy Class I',\n",
       " 'Single Room Occupancy Class II',\n",
       " 'Street Performer',\n",
       " 'Tavern',\n",
       " 'Tire Facility Class II (1,001 - 5,000 Tires)',\n",
       " 'Tire Facility Class III (5,001 - More Tires)',\n",
       " 'Tire Facilty Class I (100 - 1,000 Tires)',\n",
       " 'Tobacco Dealer Wholesale',\n",
       " 'Tobacco Sampler',\n",
       " 'Tobacco Vending Machine Operator',\n",
       " 'Tobacco Vending, Individual',\n",
       " 'Vacation Rental',\n",
       " 'Valet Parking Operator',\n",
       " 'Veterinary Hospital',\n",
       " 'Weapons Dealer',\n",
       " 'Wholesale Food Establishment',\n",
       " 'Wrigley Field']"
      ]
     },
     "execution_count": 82,
     "metadata": {},
     "output_type": "execute_result"
    }
   ],
   "source": [
    "l1 = train['LICENSE DESCRIPTION'].unique().tolist()\n",
    "l1.sort()\n",
    "l1"
   ]
  },
  {
   "cell_type": "code",
   "execution_count": 83,
   "metadata": {
    "ExecuteTime": {
     "end_time": "2022-05-07T07:44:21.934736Z",
     "start_time": "2022-05-07T07:44:21.599733Z"
    }
   },
   "outputs": [],
   "source": [
    "train['LICENSE DESCRIPTION'] = train['LICENSE DESCRIPTION'].replace('Day Care Center 2 - 6 Years', 'Day Care Center')\n",
    "train['LICENSE DESCRIPTION'] = train['LICENSE DESCRIPTION'].replace('Day Care Center Under 2 Years', 'Day Care Center')\n",
    "train['LICENSE DESCRIPTION'] = train['LICENSE DESCRIPTION'].replace('Day Care Center Under 2 and 2 - 6 Years', \n",
    "                                                                    'Day Care Center')\n",
    "train['LICENSE DESCRIPTION'] = train['LICENSE DESCRIPTION'].replace('Expediter - Class A', 'Expediter')\n",
    "train['LICENSE DESCRIPTION'] = train['LICENSE DESCRIPTION'].replace('Expediter - Class B', 'Expediter')\n",
    "train['LICENSE DESCRIPTION'] = train['LICENSE DESCRIPTION'].replace('Expediter - Class B Employee', 'Expediter')\n",
    "\n",
    "train['LICENSE DESCRIPTION'] = train['LICENSE DESCRIPTION'].replace('Itinerant Merchant, Class I', 'Itinerant Merchant')\n",
    "train['LICENSE DESCRIPTION'] = train['LICENSE DESCRIPTION'].replace('Itinerant Merchant, Class II', 'Itinerant Merchant')\n",
    "\n",
    "train['LICENSE DESCRIPTION'] = train['LICENSE DESCRIPTION'].replace('Motor Vehicle Repair : Engine Only (Class II)',\n",
    "                                                                   'Motor Vehicle Repair')\n",
    "train['LICENSE DESCRIPTION'] = train['LICENSE DESCRIPTION'].replace('Motor Vehicle Repair: Engine/Body(Class III)',\n",
    "                                                                   'Motor Vehicle Repair')\n",
    "train['LICENSE DESCRIPTION'] = train['LICENSE DESCRIPTION'].replace('Motor Vehicle Repair; Specialty(Class I)',\n",
    "                                                                   'Motor Vehicle Repair')\n",
    "\n",
    "train['LICENSE DESCRIPTION'] = train['LICENSE DESCRIPTION'].replace('Peddler, food (fruits and vegtables only)', 'Peddler')\n",
    "train['LICENSE DESCRIPTION'] = train['LICENSE DESCRIPTION'].replace('Peddler, non-food', 'Peddler')\n",
    "train['LICENSE DESCRIPTION'] = train['LICENSE DESCRIPTION'].replace('Peddler, non-food, special', 'Peddler')\n",
    "train['LICENSE DESCRIPTION'] = train['LICENSE DESCRIPTION'].replace('Peddler,food - (fruits and vegetables only) - special',\n",
    "                                                                    'Peddler')\n",
    "\n",
    "train['LICENSE DESCRIPTION'] = train['LICENSE DESCRIPTION'].replace('Repossessor Class A', 'Repossessor')\n",
    "train['LICENSE DESCRIPTION'] = train['LICENSE DESCRIPTION'].replace('Repossessor Class B', 'Repossessor')\n",
    "train['LICENSE DESCRIPTION'] = train['LICENSE DESCRIPTION'].replace('Repossessor Class B Employee', 'Repossessor')\n",
    "\n",
    "train['LICENSE Dtest['LICENSE DESCRIPTION'] = test['LICENSE DESCRIPTION'].replace('Day Care Center 2 - 6 Years', 'Day Care Center')\n",
    "test['LICENSE DESCRIPTION'] = test['LICENSE DESCRIPTION'].replace('Day Care Center Under 2 Years', 'Day Care Center')\n",
    "test['LICENSE DESCRIPTION'] = test['LICENSE DESCRIPTION'].replace('Day Care Center Under 2 and 2 - 6 Years', \n",
    "                                                                    'Day Care Center')\n",
    "test['LICENSE DESCRIPTION'] = test['LICENSE DESCRIPTION'].replace('Expediter - Class A', 'Expediter')\n",
    "test['LICENSE DESCRIPTION'] = test['LICENSE DESCRIPTION'].replace('Expediter - Class B', 'Expediter')\n",
    "test['LICENSE DESCRIPTION'] = test['LICENSE DESCRIPTION'].replace('Expediter - Class B Employee', 'Expediter')\n",
    "\n",
    "test['LICENSE DESCRIPTION'] = test['LICENSE DESCRIPTION'].replace('Itinerant Merchant, Class I', 'Itinerant Merchant')\n",
    "test['LICENSE DESCRIPTION'] = test['LICENSE DESCRIPTION'].replace('Itinerant Merchant, Class II', 'Itinerant Merchant')\n",
    "\n",
    "test['LICENSE DESCRIPTION'] = test['LICENSE DESCRIPTION'].replace('Motor Vehicle Repair : Engine Only (Class II)',\n",
    "                                                                   'Motor Vehicle Repair')\n",
    "test['LICENSE DESCRIPTION'] = test['LICENSE DESCRIPTION'].replace('Motor Vehicle Repair: Engine/Body(Class III)',\n",
    "                                                                   'Motor Vehicle Repair')\n",
    "test['LICENSE DESCRIPTION'] = test['LICENSE DESCRIPTION'].replace('Motor Vehicle Repair; Specialty(Class I)',\n",
    "                                                                   'Motor Vehicle Repair')\n",
    "\n",
    "test['LICENSE DESCRIPTION'] = test['LICENSE DESCRIPTION'].replace('Peddler, food (fruits and vegtables only)', 'Peddler')\n",
    "test['LICENSE DESCRIPTION'] = test['LICENSE DESCRIPTION'].replace('Peddler, non-food', 'Peddler')\n",
    "test['LICENSE DESCRIPTION'] = test['LICENSE DESCRIPTION'].replace('Peddler, non-food, special', 'Peddler')\n",
    "test['LICENSE DESCRIPTION'] = test['LICENSE DESCRIPTION'].replace('Peddler,food - (fruits and vegetables only) - special',\n",
    "                                                                    'Peddler')\n",
    "\n",
    "test['LICENSE DESCRIPTION'] = test['LICENSE DESCRIPTION'].replace('Repossessor Class A', 'Repossessor')\n",
    "test['LICENSE DESCRIPTION'] = test['LICENSE DESCRIPTION'].replace('Repossessor Class B', 'Repossessor')\n",
    "test['LICENSE DESCRIPTION'] = test['LICENSE DESCRIPTION'].replace('Repossessor Class B Employee', 'Repossessor')\n",
    "\n",
    "test['LICENSE DESCRIPTION'] = test['LICENSE DESCRIPTION'].replace('Tire Facility Class II (1,001 - 5,000 Tires)', \n",
    "                                                                    'Tire Facility')\n",
    "test['LICENSE DESCRIPTION'] = test['LICENSE DESCRIPTION'].replace('Tire Facility Class III (5,001 - More Tires)', \n",
    "                                                                    'Tire Facility')\n",
    "test['LICENSE DESCRIPTION'] = test['LICENSE DESCRIPTION'].replace('Tire Facilty Class I (100 - 1,000 Tires)', \n",
    "                                                                    'Tire Facility')ESCRIPTION'] = train['LICENSE DESCRIPTION'].replace('Tire Facility Class II (1,001 - 5,000 Tires)', \n",
    "                                                                    'Tire Facility')\n",
    "train['LICENSE DESCRIPTION'] = train['LICENSE DESCRIPTION'].replace('Tire Facility Class III (5,001 - More Tires)', \n",
    "                                                                    'Tire Facility')\n",
    "train['LICENSE DESCRIPTION'] = train['LICENSE DESCRIPTION'].replace('Tire Facilty Class I (100 - 1,000 Tires)', \n",
    "                                                                    'Tire Facility')"
   ]
  },
  {
   "cell_type": "code",
   "execution_count": 85,
   "metadata": {
    "ExecuteTime": {
     "end_time": "2022-05-07T07:45:42.866520Z",
     "start_time": "2022-05-07T07:45:42.780505Z"
    }
   },
   "outputs": [
    {
     "data": {
      "text/plain": [
       "array(['Limited Business License', 'Mobile Food Dispenser', 'Home Repair',\n",
       "       'Motor Vehicle Repair', 'Kennels and Catteries',\n",
       "       'Hazardous Materials', 'Retail Food Establishment',\n",
       "       'Automatic Amusement Device Operator', 'Home Occupation',\n",
       "       'Peddler', 'Music and Dance', 'Street Performer', 'Body Piercing',\n",
       "       'Massage Therapist', 'Veterinary Hospital', 'Auctioneer', 'Broker',\n",
       "       'Residential Real Estate Developer', 'Electronic Equipment Repair',\n",
       "       'Filling Station', 'Valet Parking Operator', 'Scavenger, Private',\n",
       "       'Repossessor', 'Tavern',\n",
       "       'Mobile Frozen Desserts Dispenser - Non-Motorized',\n",
       "       'Grooming Facility', 'Package Goods', 'Retail Computing Center',\n",
       "       'Consumption on Premises - Incidental Activity', 'Outdoor Patio',\n",
       "       'Junk Peddler', 'Manufacturing Establishments',\n",
       "       'Tobacco Dealer Wholesale', 'Tobacco Vending, Individual',\n",
       "       'Laundry, Late Hour', 'Tire Facility', 'Pet Shop',\n",
       "       'Bed-And-Breakfast Establishment', 'Massage Establishment',\n",
       "       'Animal Exhibition', 'Day Care Center', \"Caterer's Liquor License\",\n",
       "       'Expediter', 'Laboratories', 'Animal Care Facility',\n",
       "       'Single Room Occupancy Class II', 'Long-Term Care Facility',\n",
       "       'Board-Up Work', 'Wholesale Food Establishment', 'Raffles',\n",
       "       'Single Room Occupancy Class I', 'Vacation Rental',\n",
       "       'Public Place of Amusement', \"Children's Activities Facilities\",\n",
       "       'Day Labor Agency', 'Navy Pier - Outdoor Fixed', 'Humane Society',\n",
       "       'Retail Food Est.-Supplemental License for Dog-Friendly Areas',\n",
       "       'Accessory Garage', 'Tobacco Vending Machine Operator',\n",
       "       'Affiliation', 'Itinerant Merchant', 'Hotel', 'Hospital',\n",
       "       'Late Hour', 'Public Place of Amusement-TCC', 'Produce Merchant',\n",
       "       'Navy Pier Vendor (Non-Food)', 'Guard Dog Service',\n",
       "       'Explosives, Certificate of Fitness', 'Wrigley Field',\n",
       "       \"Airport Pushcart Liquor O'Hare - Class A\",\n",
       "       'Riverwalk Venue Liquor License',\n",
       "       'Assisted Living/Shared Housing Establishment',\n",
       "       'Performing Arts Venue', 'Bicycle Messenger Service',\n",
       "       'Secondhand Dealer (No Valuable Objects)', 'Night Care Privilege',\n",
       "       'Pawnbroker', \"Secondhand Dealer - Children's Products\",\n",
       "       'Explosives', 'Tobacco Sampler', \"Caterer's Registration (Liquor)\",\n",
       "       'Regulated Business License', 'Navy Pier - Mobile',\n",
       "       'Indoor Special Event', 'Private Booting Operation',\n",
       "       'Weapons Dealer', 'Animal Care License',\n",
       "       'Airport Pushcart Liquor Midway - Class A', 'Not-For-Profit Club',\n",
       "       'Motor Vehicle Services License'], dtype=object)"
      ]
     },
     "execution_count": 85,
     "metadata": {},
     "output_type": "execute_result"
    }
   ],
   "source": [
    "train['LICENSE DESCRIPTION'].unique()"
   ]
  },
  {
   "cell_type": "markdown",
   "metadata": {
    "ExecuteTime": {
     "end_time": "2022-05-07T07:46:02.867807Z",
     "start_time": "2022-05-07T07:46:02.805293Z"
    }
   },
   "source": [
    "## Model Preparation"
   ]
  },
  {
   "cell_type": "code",
   "execution_count": 95,
   "metadata": {
    "ExecuteTime": {
     "end_time": "2022-05-07T08:01:54.075662Z",
     "start_time": "2022-05-07T08:01:53.893800Z"
    }
   },
   "outputs": [
    {
     "name": "stdout",
     "output_type": "stream",
     "text": [
      "<class 'pandas.core.frame.DataFrame'>\n",
      "RangeIndex: 85895 entries, 0 to 85894\n",
      "Data columns (total 25 columns):\n",
      " #   Column                                  Non-Null Count  Dtype  \n",
      "---  ------                                  --------------  -----  \n",
      " 0   ACCOUNT NUMBER                          85895 non-null  int64  \n",
      " 1   SITE NUMBER                             85895 non-null  int64  \n",
      " 2   CITY                                    85895 non-null  object \n",
      " 3   STATE                                   85895 non-null  object \n",
      " 4   ZIP CODE                                85895 non-null  object \n",
      " 5   WARD                                    85895 non-null  float64\n",
      " 6   PRECINCT                                85895 non-null  float64\n",
      " 7   WARD PRECINCT                           85895 non-null  object \n",
      " 8   POLICE DISTRICT                         85895 non-null  float64\n",
      " 9   LICENSE CODE                            85895 non-null  int64  \n",
      " 10  LICENSE DESCRIPTION                     85895 non-null  object \n",
      " 11  LICENSE NUMBER                          85895 non-null  float64\n",
      " 12  APPLICATION TYPE                        85895 non-null  object \n",
      " 13  CONDITIONAL APPROVAL                    85895 non-null  object \n",
      " 14  LATITUDE                                85895 non-null  float64\n",
      " 15  LONGITUDE                               85895 non-null  float64\n",
      " 16  LICENSE STATUS                          85895 non-null  int64  \n",
      " 17  APPLICATION REQUIREMENTS COMPLETE YEAR  85895 non-null  float64\n",
      " 18  PAYMENT YEAR                            85895 non-null  float64\n",
      " 19  PAYMENT MONTH                           85895 non-null  float64\n",
      " 20  LICENSE APPROVED FOR ISSUANCE YEAR      85895 non-null  float64\n",
      " 21  YEAR ISSUED                             85895 non-null  int64  \n",
      " 22  LICENSE STATUS CHANGE YEAR              85895 non-null  float64\n",
      " 23  LICENSE VALIDITY                        85895 non-null  float64\n",
      " 24  LEGAL TYPE                              85895 non-null  object \n",
      "dtypes: float64(12), int64(5), object(8)\n",
      "memory usage: 16.4+ MB\n"
     ]
    }
   ],
   "source": [
    "train.info()"
   ]
  },
  {
   "cell_type": "code",
   "execution_count": 103,
   "metadata": {
    "ExecuteTime": {
     "end_time": "2022-05-07T08:19:11.907173Z",
     "start_time": "2022-05-07T08:19:11.895176Z"
    }
   },
   "outputs": [
    {
     "data": {
      "text/plain": [
       "(85895, 25)"
      ]
     },
     "execution_count": 103,
     "metadata": {},
     "output_type": "execute_result"
    }
   ],
   "source": [
    "train.shape"
   ]
  },
  {
   "cell_type": "code",
   "execution_count": 106,
   "metadata": {
    "ExecuteTime": {
     "end_time": "2022-05-07T08:21:44.090496Z",
     "start_time": "2022-05-07T08:21:44.068496Z"
    }
   },
   "outputs": [
    {
     "data": {
      "text/plain": [
       "dtype('O')"
      ]
     },
     "execution_count": 106,
     "metadata": {},
     "output_type": "execute_result"
    }
   ],
   "source": [
    "train['ZIP CODE'].dtypes"
   ]
  },
  {
   "cell_type": "code",
   "execution_count": 109,
   "metadata": {
    "ExecuteTime": {
     "end_time": "2022-05-07T08:24:06.986151Z",
     "start_time": "2022-05-07T08:24:06.765977Z"
    }
   },
   "outputs": [
    {
     "data": {
      "text/html": [
       "<div>\n",
       "<style scoped>\n",
       "    .dataframe tbody tr th:only-of-type {\n",
       "        vertical-align: middle;\n",
       "    }\n",
       "\n",
       "    .dataframe tbody tr th {\n",
       "        vertical-align: top;\n",
       "    }\n",
       "\n",
       "    .dataframe thead th {\n",
       "        text-align: right;\n",
       "    }\n",
       "</style>\n",
       "<table border=\"1\" class=\"dataframe\">\n",
       "  <thead>\n",
       "    <tr style=\"text-align: right;\">\n",
       "      <th></th>\n",
       "      <th>ACCOUNT NUMBER</th>\n",
       "      <th>SITE NUMBER</th>\n",
       "      <th>CITY</th>\n",
       "      <th>STATE</th>\n",
       "      <th>ZIP CODE</th>\n",
       "      <th>WARD</th>\n",
       "      <th>PRECINCT</th>\n",
       "      <th>WARD PRECINCT</th>\n",
       "      <th>POLICE DISTRICT</th>\n",
       "      <th>LICENSE CODE</th>\n",
       "      <th>...</th>\n",
       "      <th>LONGITUDE</th>\n",
       "      <th>LICENSE STATUS</th>\n",
       "      <th>APPLICATION REQUIREMENTS COMPLETE YEAR</th>\n",
       "      <th>PAYMENT YEAR</th>\n",
       "      <th>PAYMENT MONTH</th>\n",
       "      <th>LICENSE APPROVED FOR ISSUANCE YEAR</th>\n",
       "      <th>YEAR ISSUED</th>\n",
       "      <th>LICENSE STATUS CHANGE YEAR</th>\n",
       "      <th>LICENSE VALIDITY</th>\n",
       "      <th>LEGAL TYPE</th>\n",
       "    </tr>\n",
       "  </thead>\n",
       "  <tbody>\n",
       "    <tr>\n",
       "      <th>0</th>\n",
       "      <td>32811</td>\n",
       "      <td>1</td>\n",
       "      <td>193</td>\n",
       "      <td>16</td>\n",
       "      <td>625</td>\n",
       "      <td>22.0</td>\n",
       "      <td>28.0</td>\n",
       "      <td>689</td>\n",
       "      <td>10.0</td>\n",
       "      <td>1010</td>\n",
       "      <td>...</td>\n",
       "      <td>-87.714618</td>\n",
       "      <td>0</td>\n",
       "      <td>2002.0</td>\n",
       "      <td>2002.0</td>\n",
       "      <td>8.0</td>\n",
       "      <td>2002.0</td>\n",
       "      <td>2006</td>\n",
       "      <td>2009.0</td>\n",
       "      <td>1.0</td>\n",
       "      <td>4</td>\n",
       "    </tr>\n",
       "    <tr>\n",
       "      <th>1</th>\n",
       "      <td>262311</td>\n",
       "      <td>29</td>\n",
       "      <td>193</td>\n",
       "      <td>16</td>\n",
       "      <td>612</td>\n",
       "      <td>33.0</td>\n",
       "      <td>23.0</td>\n",
       "      <td>1230</td>\n",
       "      <td>17.0</td>\n",
       "      <td>1315</td>\n",
       "      <td>...</td>\n",
       "      <td>-87.699626</td>\n",
       "      <td>1</td>\n",
       "      <td>2005.0</td>\n",
       "      <td>2005.0</td>\n",
       "      <td>11.0</td>\n",
       "      <td>2006.0</td>\n",
       "      <td>2006</td>\n",
       "      <td>2006.0</td>\n",
       "      <td>1.0</td>\n",
       "      <td>1</td>\n",
       "    </tr>\n",
       "    <tr>\n",
       "      <th>2</th>\n",
       "      <td>345008</td>\n",
       "      <td>1</td>\n",
       "      <td>466</td>\n",
       "      <td>16</td>\n",
       "      <td>32</td>\n",
       "      <td>0.0</td>\n",
       "      <td>0.0</td>\n",
       "      <td>1</td>\n",
       "      <td>0.0</td>\n",
       "      <td>1011</td>\n",
       "      <td>...</td>\n",
       "      <td>-87.681165</td>\n",
       "      <td>0</td>\n",
       "      <td>2009.0</td>\n",
       "      <td>2009.0</td>\n",
       "      <td>7.0</td>\n",
       "      <td>2009.0</td>\n",
       "      <td>2009</td>\n",
       "      <td>2009.0</td>\n",
       "      <td>2.0</td>\n",
       "      <td>1</td>\n",
       "    </tr>\n",
       "    <tr>\n",
       "      <th>3</th>\n",
       "      <td>273121</td>\n",
       "      <td>1</td>\n",
       "      <td>585</td>\n",
       "      <td>16</td>\n",
       "      <td>370</td>\n",
       "      <td>0.0</td>\n",
       "      <td>0.0</td>\n",
       "      <td>1</td>\n",
       "      <td>0.0</td>\n",
       "      <td>1010</td>\n",
       "      <td>...</td>\n",
       "      <td>-87.681165</td>\n",
       "      <td>0</td>\n",
       "      <td>2004.0</td>\n",
       "      <td>2004.0</td>\n",
       "      <td>2.0</td>\n",
       "      <td>2004.0</td>\n",
       "      <td>2004</td>\n",
       "      <td>2009.0</td>\n",
       "      <td>1.0</td>\n",
       "      <td>0</td>\n",
       "    </tr>\n",
       "    <tr>\n",
       "      <th>4</th>\n",
       "      <td>213785</td>\n",
       "      <td>1</td>\n",
       "      <td>1145</td>\n",
       "      <td>16</td>\n",
       "      <td>109</td>\n",
       "      <td>0.0</td>\n",
       "      <td>0.0</td>\n",
       "      <td>1</td>\n",
       "      <td>0.0</td>\n",
       "      <td>1010</td>\n",
       "      <td>...</td>\n",
       "      <td>-87.681165</td>\n",
       "      <td>0</td>\n",
       "      <td>2008.0</td>\n",
       "      <td>2008.0</td>\n",
       "      <td>6.0</td>\n",
       "      <td>2008.0</td>\n",
       "      <td>2008</td>\n",
       "      <td>2009.0</td>\n",
       "      <td>2.0</td>\n",
       "      <td>4</td>\n",
       "    </tr>\n",
       "  </tbody>\n",
       "</table>\n",
       "<p>5 rows × 25 columns</p>\n",
       "</div>"
      ],
      "text/plain": [
       "   ACCOUNT NUMBER  SITE NUMBER  CITY  STATE  ZIP CODE  WARD  PRECINCT  \\\n",
       "0           32811            1   193     16       625  22.0      28.0   \n",
       "1          262311           29   193     16       612  33.0      23.0   \n",
       "2          345008            1   466     16        32   0.0       0.0   \n",
       "3          273121            1   585     16       370   0.0       0.0   \n",
       "4          213785            1  1145     16       109   0.0       0.0   \n",
       "\n",
       "   WARD PRECINCT  POLICE DISTRICT  LICENSE CODE  ...  LONGITUDE  \\\n",
       "0            689             10.0          1010  ... -87.714618   \n",
       "1           1230             17.0          1315  ... -87.699626   \n",
       "2              1              0.0          1011  ... -87.681165   \n",
       "3              1              0.0          1010  ... -87.681165   \n",
       "4              1              0.0          1010  ... -87.681165   \n",
       "\n",
       "   LICENSE STATUS  APPLICATION REQUIREMENTS COMPLETE YEAR  PAYMENT YEAR  \\\n",
       "0               0                                  2002.0        2002.0   \n",
       "1               1                                  2005.0        2005.0   \n",
       "2               0                                  2009.0        2009.0   \n",
       "3               0                                  2004.0        2004.0   \n",
       "4               0                                  2008.0        2008.0   \n",
       "\n",
       "   PAYMENT MONTH  LICENSE APPROVED FOR ISSUANCE YEAR  YEAR ISSUED  \\\n",
       "0            8.0                              2002.0         2006   \n",
       "1           11.0                              2006.0         2006   \n",
       "2            7.0                              2009.0         2009   \n",
       "3            2.0                              2004.0         2004   \n",
       "4            6.0                              2008.0         2008   \n",
       "\n",
       "   LICENSE STATUS CHANGE YEAR  LICENSE VALIDITY  LEGAL TYPE  \n",
       "0                      2009.0               1.0           4  \n",
       "1                      2006.0               1.0           1  \n",
       "2                      2009.0               2.0           1  \n",
       "3                      2009.0               1.0           0  \n",
       "4                      2009.0               2.0           4  \n",
       "\n",
       "[5 rows x 25 columns]"
      ]
     },
     "execution_count": 109,
     "metadata": {},
     "output_type": "execute_result"
    }
   ],
   "source": [
    "# converting categorical variables to numbers using One Hot Encoder\n",
    "\n",
    "encoder = LabelEncoder()\n",
    "train['CITY'] = encoder.fit_transform(train['CITY'])\n",
    "train['STATE'] = encoder.fit_transform(train['STATE'])\n",
    "train['ZIP CODE'] = encoder.fit_transform(train['ZIP CODE'].astype(str))\n",
    "train['WARD PRECINCT'] = encoder.fit_transform(train['WARD PRECINCT'].astype(str))\n",
    "train['LICENSE DESCRIPTION'] = encoder.fit_transform(train['LICENSE DESCRIPTION'])\n",
    "train['APPLICATION TYPE'] = encoder.fit_transform(train['APPLICATION TYPE'])\n",
    "train['CONDITIONAL APPROVAL'] = encoder.fit_transform(train['CONDITIONAL APPROVAL'])\n",
    "train['LEGAL TYPE'] = encoder.fit_transform(train['LEGAL TYPE'])\n",
    "train.head()"
   ]
  },
  {
   "cell_type": "code",
   "execution_count": 110,
   "metadata": {
    "ExecuteTime": {
     "end_time": "2022-05-07T08:25:13.131261Z",
     "start_time": "2022-05-07T08:25:12.835065Z"
    }
   },
   "outputs": [
    {
     "data": {
      "text/html": [
       "<div>\n",
       "<style scoped>\n",
       "    .dataframe tbody tr th:only-of-type {\n",
       "        vertical-align: middle;\n",
       "    }\n",
       "\n",
       "    .dataframe tbody tr th {\n",
       "        vertical-align: top;\n",
       "    }\n",
       "\n",
       "    .dataframe thead th {\n",
       "        text-align: right;\n",
       "    }\n",
       "</style>\n",
       "<table border=\"1\" class=\"dataframe\">\n",
       "  <thead>\n",
       "    <tr style=\"text-align: right;\">\n",
       "      <th></th>\n",
       "      <th>ACCOUNT NUMBER</th>\n",
       "      <th>SITE NUMBER</th>\n",
       "      <th>CITY</th>\n",
       "      <th>STATE</th>\n",
       "      <th>ZIP CODE</th>\n",
       "      <th>WARD</th>\n",
       "      <th>PRECINCT</th>\n",
       "      <th>WARD PRECINCT</th>\n",
       "      <th>POLICE DISTRICT</th>\n",
       "      <th>LICENSE CODE</th>\n",
       "      <th>...</th>\n",
       "      <th>LATITUDE</th>\n",
       "      <th>LONGITUDE</th>\n",
       "      <th>APPLICATION REQUIREMENTS COMPLETE YEAR</th>\n",
       "      <th>PAYMENT YEAR</th>\n",
       "      <th>PAYMENT MONTH</th>\n",
       "      <th>LICENSE APPROVED FOR ISSUANCE YEAR</th>\n",
       "      <th>YEAR ISSUED</th>\n",
       "      <th>LICENSE STATUS CHANGE YEAR</th>\n",
       "      <th>LICENSE VALIDITY</th>\n",
       "      <th>LEGAL TYPE</th>\n",
       "    </tr>\n",
       "  </thead>\n",
       "  <tbody>\n",
       "    <tr>\n",
       "      <th>0</th>\n",
       "      <td>280120</td>\n",
       "      <td>1</td>\n",
       "      <td>59</td>\n",
       "      <td>13</td>\n",
       "      <td>256</td>\n",
       "      <td>42.0</td>\n",
       "      <td>67.0</td>\n",
       "      <td>1771</td>\n",
       "      <td>18.0</td>\n",
       "      <td>1020</td>\n",
       "      <td>...</td>\n",
       "      <td>41.890047</td>\n",
       "      <td>-87.637467</td>\n",
       "      <td>2011.0</td>\n",
       "      <td>2012.0</td>\n",
       "      <td>1.0</td>\n",
       "      <td>2012.0</td>\n",
       "      <td>2012</td>\n",
       "      <td>2012.0</td>\n",
       "      <td>2.0</td>\n",
       "      <td>2</td>\n",
       "    </tr>\n",
       "    <tr>\n",
       "      <th>1</th>\n",
       "      <td>65043</td>\n",
       "      <td>1</td>\n",
       "      <td>59</td>\n",
       "      <td>13</td>\n",
       "      <td>281</td>\n",
       "      <td>16.0</td>\n",
       "      <td>5.0</td>\n",
       "      <td>339</td>\n",
       "      <td>7.0</td>\n",
       "      <td>1010</td>\n",
       "      <td>...</td>\n",
       "      <td>41.786485</td>\n",
       "      <td>-87.676665</td>\n",
       "      <td>2011.0</td>\n",
       "      <td>2012.0</td>\n",
       "      <td>11.0</td>\n",
       "      <td>2012.0</td>\n",
       "      <td>2012</td>\n",
       "      <td>2012.0</td>\n",
       "      <td>2.0</td>\n",
       "      <td>1</td>\n",
       "    </tr>\n",
       "    <tr>\n",
       "      <th>2</th>\n",
       "      <td>281270</td>\n",
       "      <td>1</td>\n",
       "      <td>59</td>\n",
       "      <td>13</td>\n",
       "      <td>251</td>\n",
       "      <td>4.0</td>\n",
       "      <td>8.0</td>\n",
       "      <td>1624</td>\n",
       "      <td>1.0</td>\n",
       "      <td>1020</td>\n",
       "      <td>...</td>\n",
       "      <td>41.868269</td>\n",
       "      <td>-87.625695</td>\n",
       "      <td>2004.0</td>\n",
       "      <td>2004.0</td>\n",
       "      <td>12.0</td>\n",
       "      <td>2004.0</td>\n",
       "      <td>2004</td>\n",
       "      <td>2011.0</td>\n",
       "      <td>1.0</td>\n",
       "      <td>0</td>\n",
       "    </tr>\n",
       "    <tr>\n",
       "      <th>3</th>\n",
       "      <td>335243</td>\n",
       "      <td>1</td>\n",
       "      <td>59</td>\n",
       "      <td>13</td>\n",
       "      <td>312</td>\n",
       "      <td>9.0</td>\n",
       "      <td>33.0</td>\n",
       "      <td>2430</td>\n",
       "      <td>5.0</td>\n",
       "      <td>1607</td>\n",
       "      <td>...</td>\n",
       "      <td>41.655762</td>\n",
       "      <td>-87.608686</td>\n",
       "      <td>2010.0</td>\n",
       "      <td>2010.0</td>\n",
       "      <td>11.0</td>\n",
       "      <td>2008.0</td>\n",
       "      <td>2010</td>\n",
       "      <td>2012.0</td>\n",
       "      <td>2.0</td>\n",
       "      <td>4</td>\n",
       "    </tr>\n",
       "    <tr>\n",
       "      <th>4</th>\n",
       "      <td>283018</td>\n",
       "      <td>3</td>\n",
       "      <td>59</td>\n",
       "      <td>13</td>\n",
       "      <td>277</td>\n",
       "      <td>15.0</td>\n",
       "      <td>26.0</td>\n",
       "      <td>278</td>\n",
       "      <td>9.0</td>\n",
       "      <td>1010</td>\n",
       "      <td>...</td>\n",
       "      <td>41.816969</td>\n",
       "      <td>-87.699785</td>\n",
       "      <td>2007.0</td>\n",
       "      <td>2007.0</td>\n",
       "      <td>8.0</td>\n",
       "      <td>2007.0</td>\n",
       "      <td>2007</td>\n",
       "      <td>2008.0</td>\n",
       "      <td>2.0</td>\n",
       "      <td>0</td>\n",
       "    </tr>\n",
       "  </tbody>\n",
       "</table>\n",
       "<p>5 rows × 24 columns</p>\n",
       "</div>"
      ],
      "text/plain": [
       "   ACCOUNT NUMBER  SITE NUMBER  CITY  STATE  ZIP CODE  WARD  PRECINCT  \\\n",
       "0          280120            1    59     13       256  42.0      67.0   \n",
       "1           65043            1    59     13       281  16.0       5.0   \n",
       "2          281270            1    59     13       251   4.0       8.0   \n",
       "3          335243            1    59     13       312   9.0      33.0   \n",
       "4          283018            3    59     13       277  15.0      26.0   \n",
       "\n",
       "   WARD PRECINCT  POLICE DISTRICT  LICENSE CODE  ...   LATITUDE  LONGITUDE  \\\n",
       "0           1771             18.0          1020  ...  41.890047 -87.637467   \n",
       "1            339              7.0          1010  ...  41.786485 -87.676665   \n",
       "2           1624              1.0          1020  ...  41.868269 -87.625695   \n",
       "3           2430              5.0          1607  ...  41.655762 -87.608686   \n",
       "4            278              9.0          1010  ...  41.816969 -87.699785   \n",
       "\n",
       "   APPLICATION REQUIREMENTS COMPLETE YEAR  PAYMENT YEAR  PAYMENT MONTH  \\\n",
       "0                                  2011.0        2012.0            1.0   \n",
       "1                                  2011.0        2012.0           11.0   \n",
       "2                                  2004.0        2004.0           12.0   \n",
       "3                                  2010.0        2010.0           11.0   \n",
       "4                                  2007.0        2007.0            8.0   \n",
       "\n",
       "   LICENSE APPROVED FOR ISSUANCE YEAR  YEAR ISSUED  \\\n",
       "0                              2012.0         2012   \n",
       "1                              2012.0         2012   \n",
       "2                              2004.0         2004   \n",
       "3                              2008.0         2010   \n",
       "4                              2007.0         2007   \n",
       "\n",
       "   LICENSE STATUS CHANGE YEAR  LICENSE VALIDITY  LEGAL TYPE  \n",
       "0                      2012.0               2.0           2  \n",
       "1                      2012.0               2.0           1  \n",
       "2                      2011.0               1.0           0  \n",
       "3                      2012.0               2.0           4  \n",
       "4                      2008.0               2.0           0  \n",
       "\n",
       "[5 rows x 24 columns]"
      ]
     },
     "execution_count": 110,
     "metadata": {},
     "output_type": "execute_result"
    }
   ],
   "source": [
    "test['CITY'] = encoder.fit_transform(test['CITY'])\n",
    "test['STATE'] = encoder.fit_transform(test['STATE'])\n",
    "test['ZIP CODE'] = encoder.fit_transform(test['ZIP CODE'].astype(str))\n",
    "test['WARD PRECINCT'] = encoder.fit_transform(test['WARD PRECINCT'].astype(str))\n",
    "test['LICENSE DESCRIPTION'] = encoder.fit_transform(test['LICENSE DESCRIPTION'])\n",
    "test['APPLICATION TYPE'] = encoder.fit_transform(test['APPLICATION TYPE'])\n",
    "test['CONDITIONAL APPROVAL'] = encoder.fit_transform(test['CONDITIONAL APPROVAL'])\n",
    "test['LEGAL TYPE'] = encoder.fit_transform(test['LEGAL TYPE'])\n",
    "test.head()"
   ]
  },
  {
   "cell_type": "code",
   "execution_count": 92,
   "metadata": {
    "ExecuteTime": {
     "end_time": "2022-05-07T07:52:34.135393Z",
     "start_time": "2022-05-07T07:52:34.104542Z"
    }
   },
   "outputs": [
    {
     "data": {
      "text/plain": [
       "AAI    55400\n",
       "AAC    30200\n",
       "REV      290\n",
       "REA        3\n",
       "INQ        2\n",
       "Name: LICENSE STATUS, dtype: int64"
      ]
     },
     "execution_count": 92,
     "metadata": {},
     "output_type": "execute_result"
    }
   ],
   "source": [
    "# Target Variable\n",
    "train['LICENSE STATUS'].value_counts()"
   ]
  },
  {
   "cell_type": "code",
   "execution_count": 93,
   "metadata": {
    "ExecuteTime": {
     "end_time": "2022-05-07T07:59:16.594989Z",
     "start_time": "2022-05-07T07:59:16.389995Z"
    }
   },
   "outputs": [],
   "source": [
    "train['LICENSE STATUS'] = train['LICENSE STATUS'].replace('AAI', 0)\n",
    "train['LICENSE STATUS'] = train['LICENSE STATUS'].replace('AAC', 1)\n",
    "train['LICENSE STATUS'] = train['LICENSE STATUS'].replace('REV', 2)\n",
    "train['LICENSE STATUS'] = train['LICENSE STATUS'].replace('REA', 3)\n",
    "train['LICENSE STATUS'] = train['LICENSE STATUS'].replace('INQ', 4)"
   ]
  },
  {
   "cell_type": "code",
   "execution_count": 114,
   "metadata": {
    "ExecuteTime": {
     "end_time": "2022-05-07T08:45:00.069761Z",
     "start_time": "2022-05-07T08:45:00.059762Z"
    }
   },
   "outputs": [
    {
     "data": {
      "text/plain": [
       "Index(['ACCOUNT NUMBER', 'SITE NUMBER', 'CITY', 'STATE', 'ZIP CODE', 'WARD',\n",
       "       'PRECINCT', 'WARD PRECINCT', 'POLICE DISTRICT', 'LICENSE CODE',\n",
       "       'LICENSE DESCRIPTION', 'LICENSE NUMBER', 'APPLICATION TYPE',\n",
       "       'CONDITIONAL APPROVAL', 'LATITUDE', 'LONGITUDE', 'LICENSE STATUS',\n",
       "       'APPLICATION REQUIREMENTS COMPLETE YEAR', 'PAYMENT YEAR',\n",
       "       'PAYMENT MONTH', 'LICENSE APPROVED FOR ISSUANCE YEAR', 'YEAR ISSUED',\n",
       "       'LICENSE STATUS CHANGE YEAR', 'LICENSE VALIDITY', 'LEGAL TYPE'],\n",
       "      dtype='object')"
      ]
     },
     "execution_count": 114,
     "metadata": {},
     "output_type": "execute_result"
    }
   ],
   "source": [
    "train.columns"
   ]
  },
  {
   "cell_type": "code",
   "execution_count": 118,
   "metadata": {
    "ExecuteTime": {
     "end_time": "2022-05-07T08:46:40.369824Z",
     "start_time": "2022-05-07T08:46:40.355820Z"
    }
   },
   "outputs": [
    {
     "data": {
      "text/plain": [
       "Index(['ACCOUNT NUMBER', 'SITE NUMBER', 'CITY', 'STATE', 'ZIP CODE', 'WARD',\n",
       "       'PRECINCT', 'WARD PRECINCT', 'POLICE DISTRICT', 'LICENSE CODE',\n",
       "       'LICENSE DESCRIPTION', 'LICENSE NUMBER', 'APPLICATION TYPE',\n",
       "       'CONDITIONAL APPROVAL', 'LATITUDE', 'LONGITUDE',\n",
       "       'APPLICATION REQUIREMENTS COMPLETE YEAR', 'PAYMENT YEAR',\n",
       "       'PAYMENT MONTH', 'LICENSE APPROVED FOR ISSUANCE YEAR', 'YEAR ISSUED',\n",
       "       'LICENSE STATUS CHANGE YEAR', 'LICENSE VALIDITY', 'LEGAL TYPE'],\n",
       "      dtype='object')"
      ]
     },
     "execution_count": 118,
     "metadata": {},
     "output_type": "execute_result"
    }
   ],
   "source": [
    "test.columns"
   ]
  },
  {
   "cell_type": "code",
   "execution_count": 133,
   "metadata": {
    "ExecuteTime": {
     "end_time": "2022-05-07T08:59:47.914142Z",
     "start_time": "2022-05-07T08:59:47.902145Z"
    }
   },
   "outputs": [
    {
     "data": {
      "text/plain": [
       "0    55400\n",
       "1    30200\n",
       "2      290\n",
       "3        3\n",
       "4        2\n",
       "Name: LICENSE STATUS, dtype: int64"
      ]
     },
     "execution_count": 133,
     "metadata": {},
     "output_type": "execute_result"
    }
   ],
   "source": [
    "train['LICENSE STATUS'].value_counts()"
   ]
  },
  {
   "cell_type": "code",
   "execution_count": 119,
   "metadata": {
    "ExecuteTime": {
     "end_time": "2022-05-07T08:49:26.456821Z",
     "start_time": "2022-05-07T08:49:26.440821Z"
    }
   },
   "outputs": [],
   "source": [
    "X = train.drop(['LICENSE STATUS'], axis = 1)\n",
    "y = train['LICENSE STATUS']"
   ]
  },
  {
   "cell_type": "code",
   "execution_count": 130,
   "metadata": {
    "ExecuteTime": {
     "end_time": "2022-05-07T08:57:29.993425Z",
     "start_time": "2022-05-07T08:57:29.955274Z"
    }
   },
   "outputs": [
    {
     "data": {
      "text/html": [
       "<div>\n",
       "<style scoped>\n",
       "    .dataframe tbody tr th:only-of-type {\n",
       "        vertical-align: middle;\n",
       "    }\n",
       "\n",
       "    .dataframe tbody tr th {\n",
       "        vertical-align: top;\n",
       "    }\n",
       "\n",
       "    .dataframe thead th {\n",
       "        text-align: right;\n",
       "    }\n",
       "</style>\n",
       "<table border=\"1\" class=\"dataframe\">\n",
       "  <thead>\n",
       "    <tr style=\"text-align: right;\">\n",
       "      <th></th>\n",
       "      <th>ACCOUNT NUMBER</th>\n",
       "      <th>SITE NUMBER</th>\n",
       "      <th>CITY</th>\n",
       "      <th>STATE</th>\n",
       "      <th>ZIP CODE</th>\n",
       "      <th>WARD</th>\n",
       "      <th>PRECINCT</th>\n",
       "      <th>WARD PRECINCT</th>\n",
       "      <th>POLICE DISTRICT</th>\n",
       "      <th>LICENSE CODE</th>\n",
       "      <th>...</th>\n",
       "      <th>LATITUDE</th>\n",
       "      <th>LONGITUDE</th>\n",
       "      <th>APPLICATION REQUIREMENTS COMPLETE YEAR</th>\n",
       "      <th>PAYMENT YEAR</th>\n",
       "      <th>PAYMENT MONTH</th>\n",
       "      <th>LICENSE APPROVED FOR ISSUANCE YEAR</th>\n",
       "      <th>YEAR ISSUED</th>\n",
       "      <th>LICENSE STATUS CHANGE YEAR</th>\n",
       "      <th>LICENSE VALIDITY</th>\n",
       "      <th>LEGAL TYPE</th>\n",
       "    </tr>\n",
       "  </thead>\n",
       "  <tbody>\n",
       "    <tr>\n",
       "      <th>0</th>\n",
       "      <td>32811</td>\n",
       "      <td>1</td>\n",
       "      <td>193</td>\n",
       "      <td>16</td>\n",
       "      <td>625</td>\n",
       "      <td>22.0</td>\n",
       "      <td>28.0</td>\n",
       "      <td>689</td>\n",
       "      <td>10.0</td>\n",
       "      <td>1010</td>\n",
       "      <td>...</td>\n",
       "      <td>41.843613</td>\n",
       "      <td>-87.714618</td>\n",
       "      <td>2002.0</td>\n",
       "      <td>2002.0</td>\n",
       "      <td>8.0</td>\n",
       "      <td>2002.0</td>\n",
       "      <td>2006</td>\n",
       "      <td>2009.0</td>\n",
       "      <td>1.0</td>\n",
       "      <td>4</td>\n",
       "    </tr>\n",
       "    <tr>\n",
       "      <th>1</th>\n",
       "      <td>262311</td>\n",
       "      <td>29</td>\n",
       "      <td>193</td>\n",
       "      <td>16</td>\n",
       "      <td>612</td>\n",
       "      <td>33.0</td>\n",
       "      <td>23.0</td>\n",
       "      <td>1230</td>\n",
       "      <td>17.0</td>\n",
       "      <td>1315</td>\n",
       "      <td>...</td>\n",
       "      <td>41.961132</td>\n",
       "      <td>-87.699626</td>\n",
       "      <td>2005.0</td>\n",
       "      <td>2005.0</td>\n",
       "      <td>11.0</td>\n",
       "      <td>2006.0</td>\n",
       "      <td>2006</td>\n",
       "      <td>2006.0</td>\n",
       "      <td>1.0</td>\n",
       "      <td>1</td>\n",
       "    </tr>\n",
       "    <tr>\n",
       "      <th>2</th>\n",
       "      <td>345008</td>\n",
       "      <td>1</td>\n",
       "      <td>466</td>\n",
       "      <td>16</td>\n",
       "      <td>32</td>\n",
       "      <td>0.0</td>\n",
       "      <td>0.0</td>\n",
       "      <td>1</td>\n",
       "      <td>0.0</td>\n",
       "      <td>1011</td>\n",
       "      <td>...</td>\n",
       "      <td>41.880952</td>\n",
       "      <td>-87.681165</td>\n",
       "      <td>2009.0</td>\n",
       "      <td>2009.0</td>\n",
       "      <td>7.0</td>\n",
       "      <td>2009.0</td>\n",
       "      <td>2009</td>\n",
       "      <td>2009.0</td>\n",
       "      <td>2.0</td>\n",
       "      <td>1</td>\n",
       "    </tr>\n",
       "    <tr>\n",
       "      <th>3</th>\n",
       "      <td>273121</td>\n",
       "      <td>1</td>\n",
       "      <td>585</td>\n",
       "      <td>16</td>\n",
       "      <td>370</td>\n",
       "      <td>0.0</td>\n",
       "      <td>0.0</td>\n",
       "      <td>1</td>\n",
       "      <td>0.0</td>\n",
       "      <td>1010</td>\n",
       "      <td>...</td>\n",
       "      <td>41.880952</td>\n",
       "      <td>-87.681165</td>\n",
       "      <td>2004.0</td>\n",
       "      <td>2004.0</td>\n",
       "      <td>2.0</td>\n",
       "      <td>2004.0</td>\n",
       "      <td>2004</td>\n",
       "      <td>2009.0</td>\n",
       "      <td>1.0</td>\n",
       "      <td>0</td>\n",
       "    </tr>\n",
       "    <tr>\n",
       "      <th>4</th>\n",
       "      <td>213785</td>\n",
       "      <td>1</td>\n",
       "      <td>1145</td>\n",
       "      <td>16</td>\n",
       "      <td>109</td>\n",
       "      <td>0.0</td>\n",
       "      <td>0.0</td>\n",
       "      <td>1</td>\n",
       "      <td>0.0</td>\n",
       "      <td>1010</td>\n",
       "      <td>...</td>\n",
       "      <td>41.880952</td>\n",
       "      <td>-87.681165</td>\n",
       "      <td>2008.0</td>\n",
       "      <td>2008.0</td>\n",
       "      <td>6.0</td>\n",
       "      <td>2008.0</td>\n",
       "      <td>2008</td>\n",
       "      <td>2009.0</td>\n",
       "      <td>2.0</td>\n",
       "      <td>4</td>\n",
       "    </tr>\n",
       "  </tbody>\n",
       "</table>\n",
       "<p>5 rows × 24 columns</p>\n",
       "</div>"
      ],
      "text/plain": [
       "   ACCOUNT NUMBER  SITE NUMBER  CITY  STATE  ZIP CODE  WARD  PRECINCT  \\\n",
       "0           32811            1   193     16       625  22.0      28.0   \n",
       "1          262311           29   193     16       612  33.0      23.0   \n",
       "2          345008            1   466     16        32   0.0       0.0   \n",
       "3          273121            1   585     16       370   0.0       0.0   \n",
       "4          213785            1  1145     16       109   0.0       0.0   \n",
       "\n",
       "   WARD PRECINCT  POLICE DISTRICT  LICENSE CODE  ...   LATITUDE  LONGITUDE  \\\n",
       "0            689             10.0          1010  ...  41.843613 -87.714618   \n",
       "1           1230             17.0          1315  ...  41.961132 -87.699626   \n",
       "2              1              0.0          1011  ...  41.880952 -87.681165   \n",
       "3              1              0.0          1010  ...  41.880952 -87.681165   \n",
       "4              1              0.0          1010  ...  41.880952 -87.681165   \n",
       "\n",
       "   APPLICATION REQUIREMENTS COMPLETE YEAR  PAYMENT YEAR  PAYMENT MONTH  \\\n",
       "0                                  2002.0        2002.0            8.0   \n",
       "1                                  2005.0        2005.0           11.0   \n",
       "2                                  2009.0        2009.0            7.0   \n",
       "3                                  2004.0        2004.0            2.0   \n",
       "4                                  2008.0        2008.0            6.0   \n",
       "\n",
       "   LICENSE APPROVED FOR ISSUANCE YEAR  YEAR ISSUED  \\\n",
       "0                              2002.0         2006   \n",
       "1                              2006.0         2006   \n",
       "2                              2009.0         2009   \n",
       "3                              2004.0         2004   \n",
       "4                              2008.0         2008   \n",
       "\n",
       "   LICENSE STATUS CHANGE YEAR  LICENSE VALIDITY  LEGAL TYPE  \n",
       "0                      2009.0               1.0           4  \n",
       "1                      2006.0               1.0           1  \n",
       "2                      2009.0               2.0           1  \n",
       "3                      2009.0               1.0           0  \n",
       "4                      2009.0               2.0           4  \n",
       "\n",
       "[5 rows x 24 columns]"
      ]
     },
     "execution_count": 130,
     "metadata": {},
     "output_type": "execute_result"
    }
   ],
   "source": [
    "X.head()"
   ]
  },
  {
   "cell_type": "code",
   "execution_count": 134,
   "metadata": {
    "ExecuteTime": {
     "end_time": "2022-05-07T09:00:33.133622Z",
     "start_time": "2022-05-07T09:00:32.868488Z"
    }
   },
   "outputs": [
    {
     "data": {
      "image/png": "[encoded data removed]",
      "text/plain": [
       "<Figure size 432x288 with 1 Axes>"
      ]
     },
     "metadata": {},
     "output_type": "display_data"
    }
   ],
   "source": [
    "sns.countplot(y)\n",
    "plt.show()"
   ]
  },
  {
   "cell_type": "markdown",
   "metadata": {},
   "source": [
    "## Handling Imbalanced Data: Oversampling"
   ]
  },
  {
   "cell_type": "code",
   "execution_count": 142,
   "metadata": {
    "ExecuteTime": {
     "end_time": "2022-05-07T09:05:50.859114Z",
     "start_time": "2022-05-07T09:05:50.709140Z"
    }
   },
   "outputs": [
    {
     "name": "stdout",
     "output_type": "stream",
     "text": [
      "Before oversampling:  Counter({0: 38847, 1: 21078, 2: 198, 4: 2, 3: 1})\n",
      "After oversampling:  Counter({0: 38847, 3: 38847, 1: 21078, 2: 198, 4: 2})\n"
     ]
    }
   ],
   "source": [
    "from collections import Counter\n",
    "from imblearn.over_sampling import RandomOverSampler\n",
    "from sklearn.model_selection import train_test_split\n",
    "\n",
    "X_train, X_test, y_train, y_test = train_test_split(X, y, test_size= 0.30)\n",
    "print(\"Before oversampling: \", Counter(y_train))\n",
    "\n",
    "oversample = RandomOverSampler(sampling_strategy='minority')\n",
    "X_train_over, y_train_over = oversample.fit_resample(X_train, y_train)\n",
    "print(\"After oversampling: \", Counter(y_train_over))"
   ]
  },
  {
   "cell_type": "code",
   "execution_count": 144,
   "metadata": {
    "ExecuteTime": {
     "end_time": "2022-05-07T09:06:04.971741Z",
     "start_time": "2022-05-07T09:06:04.793743Z"
    }
   },
   "outputs": [
    {
     "data": {
      "image/png": "[encoded data removed]",
      "text/plain": [
       "<Figure size 432x288 with 1 Axes>"
      ]
     },
     "metadata": {},
     "output_type": "display_data"
    }
   ],
   "source": [
    "sns.countplot(y_train_over)\n",
    "plt.show()"
   ]
  },
  {
   "cell_type": "markdown",
   "metadata": {
    "ExecuteTime": {
     "end_time": "2022-05-07T09:09:37.842816Z",
     "start_time": "2022-05-07T09:09:37.563818Z"
    }
   },
   "source": [
    "## Logistic Regression"
   ]
  },
  {
   "cell_type": "code",
   "execution_count": 148,
   "metadata": {
    "ExecuteTime": {
     "end_time": "2022-05-07T09:11:30.818343Z",
     "start_time": "2022-05-07T09:11:24.417025Z"
    }
   },
   "outputs": [
    {
     "name": "stderr",
     "output_type": "stream",
     "text": [
      "C:\\Users\\shrey\\anaconda3\\lib\\site-packages\\sklearn\\linear_model\\_logistic.py:763: ConvergenceWarning: lbfgs failed to converge (status=1):\n",
      "STOP: TOTAL NO. of ITERATIONS REACHED LIMIT.\n",
      "\n",
      "Increase the number of iterations (max_iter) or scale the data as shown in:\n",
      "    https://scikit-learn.org/stable/modules/preprocessing.html\n",
      "Please also refer to the documentation for alternative solver options:\n",
      "    https://scikit-learn.org/stable/modules/linear_model.html#logistic-regression\n",
      "  n_iter_i = _check_optimize_result(\n"
     ]
    },
    {
     "data": {
      "text/plain": [
       "LogisticRegression()"
      ]
     },
     "execution_count": 148,
     "metadata": {},
     "output_type": "execute_result"
    }
   ],
   "source": [
    "from sklearn.linear_model import LogisticRegression\n",
    "lr = LogisticRegression()\n",
    "lr.fit(X_train_over, y_train_over)"
   ]
  },
  {
   "cell_type": "code",
   "execution_count": 153,
   "metadata": {
    "ExecuteTime": {
     "end_time": "2022-05-07T09:15:34.062851Z",
     "start_time": "2022-05-07T09:15:34.020853Z"
    }
   },
   "outputs": [
    {
     "data": {
      "text/plain": [
       "66.26"
      ]
     },
     "execution_count": 153,
     "metadata": {},
     "output_type": "execute_result"
    }
   ],
   "source": [
    "y_pred = lr.predict(X_test)\n",
    "\n",
    "# accuracy\n",
    "lr_accuracy = round(metrics.accuracy_score(y_test, y_pred)*100, 2)\n",
    "lr_accuracy"
   ]
  },
  {
   "cell_type": "code",
   "execution_count": 162,
   "metadata": {
    "ExecuteTime": {
     "end_time": "2022-05-07T09:22:34.337528Z",
     "start_time": "2022-05-07T09:22:34.330160Z"
    }
   },
   "outputs": [],
   "source": [
    "# Confusion Matrix\n",
    "\n",
    "def c_matrix(actual, predicted):\n",
    "    cm = confusion_matrix(actual, predicted, [1,0]).T\n",
    "    sns.heatmap(cm, annot= True, fmt = '0.2f', xticklabels= ['Yes','No'], yticklabels= ['Yes','No'])\n",
    "    plt.xlabel('Actual')\n",
    "    plt.ylabel('Predicted')\n",
    "    plt.show()"
   ]
  },
  {
   "cell_type": "code",
   "execution_count": 163,
   "metadata": {
    "ExecuteTime": {
     "end_time": "2022-05-07T09:22:36.540066Z",
     "start_time": "2022-05-07T09:22:36.160768Z"
    }
   },
   "outputs": [
    {
     "data": {
      "image/png": "[encoded data removed]",
      "text/plain": [
       "<Figure size 432x288 with 2 Axes>"
      ]
     },
     "metadata": {},
     "output_type": "display_data"
    }
   ],
   "source": [
    "c_matrix(y_test, y_pred)"
   ]
  },
  {
   "cell_type": "markdown",
   "metadata": {},
   "source": [
    "## K Nearest Neighbors"
   ]
  },
  {
   "cell_type": "code",
   "execution_count": 164,
   "metadata": {
    "ExecuteTime": {
     "end_time": "2022-05-07T09:51:58.958368Z",
     "start_time": "2022-05-07T09:50:56.194232Z"
    }
   },
   "outputs": [],
   "source": [
    "from sklearn.neighbors import KNeighborsClassifier\n",
    "\n",
    "knn = KNeighborsClassifier()\n",
    "knn.fit(X_train_over, y_train_over)\n",
    "\n",
    "y_pred = knn.predict(X_test)"
   ]
  },
  {
   "cell_type": "code",
   "execution_count": 165,
   "metadata": {
    "ExecuteTime": {
     "end_time": "2022-05-07T09:52:55.962368Z",
     "start_time": "2022-05-07T09:52:55.929870Z"
    }
   },
   "outputs": [
    {
     "data": {
      "text/plain": [
       "80.27"
      ]
     },
     "execution_count": 165,
     "metadata": {},
     "output_type": "execute_result"
    }
   ],
   "source": [
    "# accuracy\n",
    "\n",
    "knn_accuracy = round(metrics.accuracy_score(y_test, y_pred)*100, 2)\n",
    "knn_accuracy"
   ]
  },
  {
   "cell_type": "code",
   "execution_count": 166,
   "metadata": {
    "ExecuteTime": {
     "end_time": "2022-05-07T09:53:36.211909Z",
     "start_time": "2022-05-07T09:53:35.409670Z"
    }
   },
   "outputs": [
    {
     "data": {
      "image/png": "[encoded data removed]",
      "text/plain": [
       "<Figure size 432x288 with 2 Axes>"
      ]
     },
     "metadata": {},
     "output_type": "display_data"
    }
   ],
   "source": [
    "# confusion matrix\n",
    "\n",
    "c_matrix(y_test, y_pred)"
   ]
  },
  {
   "cell_type": "markdown",
   "metadata": {},
   "source": [
    "## Decision Tree"
   ]
  },
  {
   "cell_type": "code",
   "execution_count": 168,
   "metadata": {
    "ExecuteTime": {
     "end_time": "2022-05-07T09:55:58.888928Z",
     "start_time": "2022-05-07T09:55:58.151556Z"
    }
   },
   "outputs": [
    {
     "data": {
      "text/plain": [
       "array([1, 0, 0, ..., 0, 0, 0], dtype=int64)"
      ]
     },
     "execution_count": 168,
     "metadata": {},
     "output_type": "execute_result"
    }
   ],
   "source": [
    "from sklearn.tree import DecisionTreeClassifier\n",
    "\n",
    "dtc = DecisionTreeClassifier()\n",
    "dtc.fit(X_train_over, y_train_over)\n",
    "\n",
    "dtc.predict(X_test)"
   ]
  },
  {
   "cell_type": "code",
   "execution_count": 169,
   "metadata": {
    "ExecuteTime": {
     "end_time": "2022-05-07T09:56:35.125310Z",
     "start_time": "2022-05-07T09:56:35.102307Z"
    }
   },
   "outputs": [
    {
     "data": {
      "text/plain": [
       "80.27"
      ]
     },
     "execution_count": 169,
     "metadata": {},
     "output_type": "execute_result"
    }
   ],
   "source": [
    "dtc_accuracy =  round(metrics.accuracy_score(y_test, y_pred)*100, 2)\n",
    "dtc_accuracy"
   ]
  },
  {
   "cell_type": "code",
   "execution_count": 170,
   "metadata": {
    "ExecuteTime": {
     "end_time": "2022-05-07T10:04:42.049236Z",
     "start_time": "2022-05-07T10:01:07.986871Z"
    }
   },
   "outputs": [
    {
     "name": "stderr",
     "output_type": "stream",
     "text": [
      "C:\\Users\\shrey\\anaconda3\\lib\\site-packages\\sklearn\\model_selection\\_split.py:666: UserWarning: The least populated class in y has only 2 members, which is less than n_splits=5.\n",
      "  warnings.warn((\"The least populated class in y has only %d\"\n"
     ]
    },
    {
     "data": {
      "text/plain": [
       "DecisionTreeClassifier(criterion='entropy', max_depth=30, max_features='auto',\n",
       "                       min_samples_split=100)"
      ]
     },
     "execution_count": 170,
     "metadata": {},
     "output_type": "execute_result"
    }
   ],
   "source": [
    "# hyperparameter tuning:\n",
    "from sklearn.model_selection import GridSearchCV\n",
    "\n",
    "parameters = {'max_features' : ['log2', 'sqrt', 'auto'], 'criterion' : ['entropy', 'gini'], 'max_depth' : [2, 5, 10, 30, 50],\n",
    "             'min_samples_split' : [2, 5, 50, 100], 'min_samples_leaf' : [1, 5, 10, 15]}\n",
    "\n",
    "# Grid Search\n",
    "grid = GridSearchCV(dtc, parameters)\n",
    "grid = grid.fit(X_train_over, y_train_over)\n",
    "\n",
    "dtc = grid.best_estimator_\n",
    "dtc.fit(X_train_over, y_train_over)"
   ]
  },
  {
   "cell_type": "code",
   "execution_count": 171,
   "metadata": {
    "ExecuteTime": {
     "end_time": "2022-05-07T10:04:57.271459Z",
     "start_time": "2022-05-07T10:04:57.242455Z"
    }
   },
   "outputs": [
    {
     "data": {
      "text/plain": [
       "97.81"
      ]
     },
     "execution_count": 171,
     "metadata": {},
     "output_type": "execute_result"
    }
   ],
   "source": [
    "y_pred = dtc.predict(X_test)\n",
    "\n",
    "#accuracy\n",
    "dtc_accuracy = round(metrics.accuracy_score(y_test, y_pred)*100, 2)\n",
    "dtc_accuracy"
   ]
  },
  {
   "cell_type": "code",
   "execution_count": 172,
   "metadata": {
    "ExecuteTime": {
     "end_time": "2022-05-07T10:05:02.621395Z",
     "start_time": "2022-05-07T10:05:02.308399Z"
    }
   },
   "outputs": [
    {
     "data": {
      "image/png": "[encoded data removed]",
      "text/plain": [
       "<Figure size 432x288 with 2 Axes>"
      ]
     },
     "metadata": {},
     "output_type": "display_data"
    }
   ],
   "source": [
    "# confusion matrix\n",
    "\n",
    "c_matrix(y_test, y_pred)"
   ]
  },
  {
   "cell_type": "markdown",
   "metadata": {},
   "source": [
    "## Random Forst"
   ]
  },
  {
   "cell_type": "code",
   "execution_count": 174,
   "metadata": {
    "ExecuteTime": {
     "end_time": "2022-05-07T10:08:21.537538Z",
     "start_time": "2022-05-07T10:08:14.015605Z"
    }
   },
   "outputs": [],
   "source": [
    "from sklearn.ensemble import RandomForestClassifier\n",
    "\n",
    "rf = RandomForestClassifier()\n",
    "rf.fit(X_train_over, y_train_over)\n",
    "\n",
    "y_pred = rf.predict(X_test)"
   ]
  },
  {
   "cell_type": "code",
   "execution_count": 175,
   "metadata": {
    "ExecuteTime": {
     "end_time": "2022-05-07T10:08:56.258430Z",
     "start_time": "2022-05-07T10:08:56.141627Z"
    }
   },
   "outputs": [
    {
     "data": {
      "text/plain": [
       "99.0"
      ]
     },
     "execution_count": 175,
     "metadata": {},
     "output_type": "execute_result"
    }
   ],
   "source": [
    "# accuracy\n",
    "rf_accuracy = round(metrics.accuracy_score(y_test, y_pred)*100, 2)\n",
    "rf_accuracy"
   ]
  },
  {
   "cell_type": "code",
   "execution_count": 181,
   "metadata": {
    "ExecuteTime": {
     "end_time": "2022-05-07T10:14:57.394432Z",
     "start_time": "2022-05-07T10:14:57.371424Z"
    }
   },
   "outputs": [
    {
     "data": {
      "text/plain": [
       "0.9890947786275189"
      ]
     },
     "execution_count": 181,
     "metadata": {},
     "output_type": "execute_result"
    }
   ],
   "source": [
    "from sklearn.metrics import f1_score\n",
    "f1_score(y_test, y_pred, average='weighted')"
   ]
  },
  {
   "cell_type": "markdown",
   "metadata": {},
   "source": [
    "We have got the highest prediction accuracy by using Random Forest Classifier.\n",
    "Accuracy = 99%"
   ]
  },
  {
   "cell_type": "code",
   "execution_count": 176,
   "metadata": {
    "ExecuteTime": {
     "end_time": "2022-05-07T10:10:50.020004Z",
     "start_time": "2022-05-07T10:10:49.036088Z"
    }
   },
   "outputs": [],
   "source": [
    "# Prediction on Test Data set:\n",
    "\n",
    "test_pred = rf.predict(test.values)"
   ]
  },
  {
   "cell_type": "code",
   "execution_count": 177,
   "metadata": {
    "ExecuteTime": {
     "end_time": "2022-05-07T10:10:53.738315Z",
     "start_time": "2022-05-07T10:10:53.607312Z"
    }
   },
   "outputs": [
    {
     "data": {
      "text/html": [
       "<div>\n",
       "<style scoped>\n",
       "    .dataframe tbody tr th:only-of-type {\n",
       "        vertical-align: middle;\n",
       "    }\n",
       "\n",
       "    .dataframe tbody tr th {\n",
       "        vertical-align: top;\n",
       "    }\n",
       "\n",
       "    .dataframe thead th {\n",
       "        text-align: right;\n",
       "    }\n",
       "</style>\n",
       "<table border=\"1\" class=\"dataframe\">\n",
       "  <thead>\n",
       "    <tr style=\"text-align: right;\">\n",
       "      <th></th>\n",
       "      <th>ID</th>\n",
       "    </tr>\n",
       "  </thead>\n",
       "  <tbody>\n",
       "    <tr>\n",
       "      <th>0</th>\n",
       "      <td>1516615-20120216</td>\n",
       "    </tr>\n",
       "    <tr>\n",
       "      <th>1</th>\n",
       "      <td>69813-20110616</td>\n",
       "    </tr>\n",
       "    <tr>\n",
       "      <th>2</th>\n",
       "      <td>1519227-20041116</td>\n",
       "    </tr>\n",
       "    <tr>\n",
       "      <th>3</th>\n",
       "      <td>1922025-20100816</td>\n",
       "    </tr>\n",
       "    <tr>\n",
       "      <th>4</th>\n",
       "      <td>1675683-20070816</td>\n",
       "    </tr>\n",
       "    <tr>\n",
       "      <th>...</th>\n",
       "      <td>...</td>\n",
       "    </tr>\n",
       "    <tr>\n",
       "      <th>57234</th>\n",
       "      <td>1743194-20070816</td>\n",
       "    </tr>\n",
       "    <tr>\n",
       "      <th>57235</th>\n",
       "      <td>2032383-20160716</td>\n",
       "    </tr>\n",
       "    <tr>\n",
       "      <th>57236</th>\n",
       "      <td>40376-20020216</td>\n",
       "    </tr>\n",
       "    <tr>\n",
       "      <th>57237</th>\n",
       "      <td>2064176-20121116</td>\n",
       "    </tr>\n",
       "    <tr>\n",
       "      <th>57238</th>\n",
       "      <td>1954052-20090202</td>\n",
       "    </tr>\n",
       "  </tbody>\n",
       "</table>\n",
       "<p>57239 rows × 1 columns</p>\n",
       "</div>"
      ],
      "text/plain": [
       "                     ID\n",
       "0      1516615-20120216\n",
       "1        69813-20110616\n",
       "2      1519227-20041116\n",
       "3      1922025-20100816\n",
       "4      1675683-20070816\n",
       "...                 ...\n",
       "57234  1743194-20070816\n",
       "57235  2032383-20160716\n",
       "57236    40376-20020216\n",
       "57237  2064176-20121116\n",
       "57238  1954052-20090202\n",
       "\n",
       "[57239 rows x 1 columns]"
      ]
     },
     "execution_count": 177,
     "metadata": {},
     "output_type": "execute_result"
    }
   ],
   "source": [
    "submission"
   ]
  },
  {
   "cell_type": "code",
   "execution_count": 178,
   "metadata": {
    "ExecuteTime": {
     "end_time": "2022-05-07T10:11:16.872433Z",
     "start_time": "2022-05-07T10:11:16.856433Z"
    }
   },
   "outputs": [],
   "source": [
    "submission['LICENSE STATUS'] = test_pred"
   ]
  },
  {
   "cell_type": "code",
   "execution_count": 179,
   "metadata": {
    "ExecuteTime": {
     "end_time": "2022-05-07T10:12:16.469269Z",
     "start_time": "2022-05-07T10:12:16.335274Z"
    }
   },
   "outputs": [],
   "source": [
    "submission['LICENSE STATUS'] = submission['LICENSE STATUS'].replace(0, 'AAI')\n",
    "submission['LICENSE STATUS'] = submission['LICENSE STATUS'].replace(1, 'AAC')\n",
    "submission['LICENSE STATUS'] = submission['LICENSE STATUS'].replace(2, 'REV')\n",
    "submission['LICENSE STATUS'] = submission['LICENSE STATUS'].replace(3, 'REA')\n",
    "submission['LICENSE STATUS'] = submission['LICENSE STATUS'].replace(4, 'INQ')"
   ]
  },
  {
   "cell_type": "code",
   "execution_count": 180,
   "metadata": {
    "ExecuteTime": {
     "end_time": "2022-05-07T10:12:43.511474Z",
     "start_time": "2022-05-07T10:12:43.018178Z"
    }
   },
   "outputs": [],
   "source": [
    "submission.to_csv('submission.csv', index = False)"
   ]
  },
  {
   "cell_type": "code",
   "execution_count": null,
   "metadata": {},
   "outputs": [],
   "source": []
  }
 ],
 "metadata": {
  "kernelspec": {
   "display_name": "Python 3",
   "language": "python",
   "name": "python3"
  },
  "language_info": {
   "codemirror_mode": {
    "name": "ipython",
    "version": 3
   },
   "file_extension": ".py",
   "mimetype": "text/x-python",
   "name": "python",
   "nbconvert_exporter": "python",
   "pygments_lexer": "ipython3",
   "version": "3.8.5"
  },
  "toc": {
   "base_numbering": 1,
   "nav_menu": {},
   "number_sections": true,
   "sideBar": true,
   "skip_h1_title": false,
   "title_cell": "Table of Contents",
   "title_sidebar": "Contents",
   "toc_cell": true,
   "toc_position": {},
   "toc_section_display": true,
   "toc_window_display": true
  },
  "varInspector": {
   "cols": {
    "lenName": 16,
    "lenType": 16,
    "lenVar": 40
   },
   "kernels_config": {
    "python": {
     "delete_cmd_postfix": "",
     "delete_cmd_prefix": "del ",
     "library": "var_list.py",
     "varRefreshCmd": "print(var_dic_list())"
    },
    "r": {
     "delete_cmd_postfix": ") ",
     "delete_cmd_prefix": "rm(",
     "library": "var_list.r",
     "varRefreshCmd": "cat(var_dic_list()) "
    }
   },
   "types_to_exclude": [
    "module",
    "function",
    "builtin_function_or_method",
    "instance",
    "_Feature"
   ],
   "window_display": false
  }
 },
 "nbformat": 4,
 "nbformat_minor": 4
}
